{
 "cells": [
  {
   "cell_type": "markdown",
   "id": "397c4043-b4ac-4359-bd40-100cc91533d2",
   "metadata": {},
   "source": [
    "# Create Simulated Datasets of 2D Peaks"
   ]
  },
  {
   "cell_type": "markdown",
   "id": "ed480da1-6aa1-4f31-93ff-8c1abea27c0d",
   "metadata": {},
   "source": [
    "## Reciprocal Space Coordinates Output\n",
    "For both the training and testing datasets.\n",
    "This will simplify the simulation to take a step back.\n",
    "\n",
    "This will output only coordinates in the k space (based on pure crystallographic structure) rather than diffraction simulation images."
   ]
  },
  {
   "cell_type": "markdown",
   "id": "1e4cdc9f-a1a1-4199-91fc-07559a357719",
   "metadata": {},
   "source": [
    "## Initialization"
   ]
  },
  {
   "cell_type": "code",
   "execution_count": 18,
   "id": "c1bc231e-7d40-4aae-acb2-b6e39d79ac3f",
   "metadata": {},
   "outputs": [],
   "source": [
    "# Packages\n",
    "%matplotlib qt\n",
    "import numpy as np\n",
    "import pandas as pd\n",
    "import pickle as pkl\n",
    "import hyperspy.api as hs\n",
    "import pyxem as pxm\n",
    "import diffpy.structure\n",
    "from matplotlib import pyplot as plt\n",
    "from tempfile import TemporaryFile\n",
    "from diffsims.libraries.structure_library import StructureLibrary\n",
    "from diffsims.generators.diffraction_generator import DiffractionGenerator\n",
    "from diffsims.generators.library_generator import DiffractionLibraryGenerator, VectorLibraryGenerator\n",
    "from diffsims.sims.diffraction_simulation import DiffractionSimulation\n",
    "from diffsims.libraries.diffraction_library import DiffractionLibrary, load_DiffractionLibrary\n",
    "from pyxem.generators.indexation_generator import VectorIndexationGenerator\n",
    "from pyxem.generators.subpixelrefinement_generator import SubpixelrefinementGenerator\n",
    "from pyxem.signals.diffraction_vectors import DiffractionVectors\n",
    "import tqdm\n",
    "import gc\n",
    "import os"
   ]
  },
  {
   "cell_type": "code",
   "execution_count": 24,
   "id": "f6ee8f66-8f23-4fea-a875-5e0535bf7da9",
   "metadata": {},
   "outputs": [],
   "source": [
    "### Variables\n",
    "\n",
    "# Paths\n",
    "root = r'C:/Users/anish/Documents/GitHub/ml_pyxem/mini_2/'\n",
    "\n",
    "# Phases\n",
    "structures_path = os.path.join(root, 'crystal_phases')\n",
    "phase_files = ['p4mbm_tetragonal.cif',]\n",
    "add_bkg_phase = False # Do you want to add a bkg/just noise phase at the end? If True, the final datasets will be phases + 1 shape.\n",
    "\n",
    "# Calibration values\n",
    "calibration = 0.00588 #To have multiple, create an array (i.e. calibrations = [0.00588]) and set for value in for loop\n",
    "\n",
    "# Processing values\n",
    "n_angle_points = 1\n",
    "\n",
    "# Domain amplification\n",
    "with_direct_beam = False\n",
    "\n",
    "# Simulation microscope values (for azimuthal integration)\n",
    "detector_size = 515 #px\n",
    "beam_energy = 200.0 #keV\n",
    "wavelength = 2.5079e-12 #m\n",
    "detector_pix_size = 55e-6 #m\n",
    "from pyxem.detectors import Medipix515x515Detector\n",
    "detector = Medipix515x515Detector()"
   ]
  },
  {
   "cell_type": "code",
   "execution_count": 25,
   "id": "ecfb9c23-bcce-4673-af2a-cbc0d101850a",
   "metadata": {},
   "outputs": [
    {
     "name": "stdout",
     "output_type": "stream",
     "text": [
      "Approx amount of 2D diffraction patterns that will be produced: 1\n",
      "Approx memory needed: 0.0010609 GB\n"
     ]
    }
   ],
   "source": [
    "val = n_angle_points * (len(phase_files)) #+ 1)#* len(relrod_list) #* len(spot_spread_list) #* len(snrs) * len(intensity_spikes)\n",
    "print('Approx amount of 2D diffraction patterns that will be produced: {}'.format(val))\n",
    "memory = detector_size**2 * val * 4 / 1e9  #4 bytes per float32 value\n",
    "print('Approx memory needed: {} GB'.format(memory))"
   ]
  },
  {
   "cell_type": "markdown",
   "id": "6f850e8b-e534-4c24-8222-806bdf51ae57",
   "metadata": {},
   "source": [
    "## Simulate Data"
   ]
  },
  {
   "cell_type": "markdown",
   "id": "05cccab8-c3cb-4c00-8ee9-62539f9498a0",
   "metadata": {},
   "source": [
    "### Define Functions"
   ]
  },
  {
   "cell_type": "code",
   "execution_count": 26,
   "id": "da16e22f-27f2-4615-8780-229156f36df3",
   "metadata": {},
   "outputs": [
    {
     "name": "stdout",
     "output_type": "stream",
     "text": [
      "n_phases = 1\n"
     ]
    }
   ],
   "source": [
    "phase_dict = {}\n",
    "for phase in phase_files:\n",
    "     name = phase.split(\".\")[0]\n",
    "     phase_dict[name] = diffpy.structure.loadStructure(os.path.join('crystal_phases', phase))\n",
    "     print('n_phases = {}'.format(len(phase_dict)))"
   ]
  },
  {
   "cell_type": "code",
   "execution_count": 27,
   "id": "7f2e39c5-0d68-46e4-886f-f6c61ee4017c",
   "metadata": {},
   "outputs": [],
   "source": [
    "def get_random_euler(npoints):\n",
    "    radius = 1\n",
    "    np.random.seed(1)\n",
    "    u = np.random.randint(-100,100+1,size=(npoints,))/100 \n",
    "    u2 = 2*np.pi*np.random.random(size=(npoints,))\n",
    "    theta = 2*np.pi*np.random.random(size=(npoints,))\n",
    "    x = radius*np.sqrt(1-u**2)*np.cos(theta)\n",
    "    y = radius*np.sqrt(1-u**2)*np.sin(theta)\n",
    "    z = radius*u \n",
    "    phi = np.arccos(z/radius)\n",
    "    eulerAlpha = u2\n",
    "    eulerBeta = phi\n",
    "    eulerGamma = theta\n",
    "    return np.array([np.rad2deg(eulerAlpha),np.rad2deg(eulerBeta),np.rad2deg(eulerGamma)]).T \n",
    "\n",
    "\n",
    "def get_reciprocal_radius(detector_size, calibration):\n",
    "    half_pattern_size = detector_size // 2\n",
    "    reciprocal_radius = calibration * half_pattern_size\n",
    "    return reciprocal_radius\n",
    "\n",
    "\n",
    "#def create_diffraction_library(phase_dict, euler_list, beam_energy, calibration, detector_size, with_direct_beam):\n",
    "\n",
    "#    phase_names = list(phase_dict.keys())\n",
    "#    phases = list(phase_dict.values())\n",
    "#    euler_list_n = [euler_list, ] * len(phase_names)\n",
    "\n",
    "#    sample_lib = StructureLibrary(phase_names, phases, euler_list_n)\n",
    "#    ediff = DiffractionGenerator(beam_energy)\n",
    "#    diff_gen = DiffractionLibraryGenerator(ediff)\n",
    "\n",
    "#    reciprocal_radius = get_reciprocal_radius(detector_size, calibration)\n",
    "#    library = diff_gen.get_diffraction_library(sample_lib,\n",
    "#                                               calibration=calibration,\n",
    "#                                               reciprocal_radius=reciprocal_radius,\n",
    "#                                               half_shape=(detector_size//2, detector_size//2),\n",
    "#                                               with_direct_beam=with_direct_beam)\n",
    "#    return library"
   ]
  },
  {
   "cell_type": "markdown",
   "id": "33c52861-65ba-43fe-899d-4e4950221f1b",
   "metadata": {},
   "source": [
    "### Create Diffraction Patterns"
   ]
  },
  {
   "cell_type": "code",
   "execution_count": 31,
   "id": "e6f4af3d-0836-43e8-89c4-f23cb512530f",
   "metadata": {},
   "outputs": [
    {
     "ename": "AttributeError",
     "evalue": "'list' object has no attribute 'lattice'",
     "output_type": "error",
     "traceback": [
      "\u001b[0;31m---------------------------------------------------------------------------\u001b[0m",
      "\u001b[0;31mAttributeError\u001b[0m                            Traceback (most recent call last)",
      "\u001b[0;32m/var/folders/z3/ym7_vbgd7mbdj7g3t95hznjr0000gn/T/ipykernel_61275/1366080334.py\u001b[0m in \u001b[0;36m<module>\u001b[0;34m\u001b[0m\n\u001b[1;32m     13\u001b[0m \u001b[0mediff\u001b[0m \u001b[0;34m=\u001b[0m \u001b[0mDiffractionGenerator\u001b[0m\u001b[0;34m(\u001b[0m\u001b[0mbeam_energy\u001b[0m\u001b[0;34m)\u001b[0m\u001b[0;34m\u001b[0m\u001b[0;34m\u001b[0m\u001b[0m\n\u001b[1;32m     14\u001b[0m \u001b[0;34m\u001b[0m\u001b[0m\n\u001b[0;32m---> 15\u001b[0;31m \u001b[0mlibrary\u001b[0m \u001b[0;34m=\u001b[0m \u001b[0mediff\u001b[0m\u001b[0;34m.\u001b[0m\u001b[0mcalculate_ed_data\u001b[0m\u001b[0;34m(\u001b[0m\u001b[0mphases\u001b[0m\u001b[0;34m,\u001b[0m \u001b[0mreciprocal_radius\u001b[0m\u001b[0;34m,\u001b[0m \u001b[0meuler_list\u001b[0m\u001b[0;34m,\u001b[0m \u001b[0mwith_direct_beam\u001b[0m\u001b[0;34m)\u001b[0m\u001b[0;34m\u001b[0m\u001b[0;34m\u001b[0m\u001b[0m\n\u001b[0m",
      "\u001b[0;32m~/opt/anaconda3/lib/python3.9/site-packages/diffsims/generators/diffraction_generator.py\u001b[0m in \u001b[0;36mcalculate_ed_data\u001b[0;34m(self, structure, reciprocal_radius, rotation, with_direct_beam, max_excitation_error, shape_factor_width, debye_waller_factors)\u001b[0m\n\u001b[1;32m    232\u001b[0m         \u001b[0;31m# Specify variables used in calculation\u001b[0m\u001b[0;34m\u001b[0m\u001b[0;34m\u001b[0m\u001b[0m\n\u001b[1;32m    233\u001b[0m         \u001b[0mwavelength\u001b[0m \u001b[0;34m=\u001b[0m \u001b[0mself\u001b[0m\u001b[0;34m.\u001b[0m\u001b[0mwavelength\u001b[0m\u001b[0;34m\u001b[0m\u001b[0;34m\u001b[0m\u001b[0m\n\u001b[0;32m--> 234\u001b[0;31m         \u001b[0mlatt\u001b[0m \u001b[0;34m=\u001b[0m \u001b[0mstructure\u001b[0m\u001b[0;34m.\u001b[0m\u001b[0mlattice\u001b[0m\u001b[0;34m\u001b[0m\u001b[0;34m\u001b[0m\u001b[0m\n\u001b[0m\u001b[1;32m    235\u001b[0m \u001b[0;34m\u001b[0m\u001b[0m\n\u001b[1;32m    236\u001b[0m         \u001b[0;31m# Obtain crystallographic reciprocal lattice points within `reciprocal_radius` and\u001b[0m\u001b[0;34m\u001b[0m\u001b[0;34m\u001b[0m\u001b[0m\n",
      "\u001b[0;31mAttributeError\u001b[0m: 'list' object has no attribute 'lattice'"
     ]
    }
   ],
   "source": [
    "data = {}\n",
    "for key, val in phase_dict.items():\n",
    "    data[key] = []\n",
    "\n",
    "euler_list = get_random_euler(n_angle_points)\n",
    "\n",
    "phase_names = list(phase_dict.keys())\n",
    "phases = list(phase_dict.values())\n",
    "\n",
    "#library = create_diffraction_library(phase_dict, euler_list, beam_energy, calibration, detector_size, with_direct_beam)\n",
    "reciprocal_radius = get_reciprocal_radius(detector_size, calibration)\n",
    "\n",
    "ediff = DiffractionGenerator(beam_energy)\n",
    "\n",
    "library = ediff.calculate_ed_data(phases, reciprocal_radius, euler_list, with_direct_beam)"
   ]
  },
  {
   "cell_type": "code",
   "execution_count": null,
   "id": "4e659842-02f2-443b-b70f-fb2580e0f13e",
   "metadata": {},
   "outputs": [],
   "source": []
  }
 ],
 "metadata": {
  "kernelspec": {
   "display_name": "Python 3 (ipykernel)",
   "language": "python",
   "name": "python3"
  },
  "language_info": {
   "codemirror_mode": {
    "name": "ipython",
    "version": 3
   },
   "file_extension": ".py",
   "mimetype": "text/x-python",
   "name": "python",
   "nbconvert_exporter": "python",
   "pygments_lexer": "ipython3",
   "version": "3.9.7"
  }
 },
 "nbformat": 4,
 "nbformat_minor": 5
}

{
 "cells": [
  {
   "cell_type": "markdown",
   "id": "f4b133f8-6a11-43a5-9427-4255d789b642",
   "metadata": {},
   "source": [
    "# Create Simulated Datasets of 2D Peaks"
   ]
  },
  {
   "cell_type": "markdown",
   "id": "6d64f156-eafb-478e-b07a-64bb4ecb12ba",
   "metadata": {},
   "source": [
    "## Coordinates Output\n",
    "For both the training and testing datasets.\n",
    "This will simplify the simulation to take a step back.\n",
    "\n",
    "This will output coordinates in both Cartesian and k space (based on pure crystallographic structure) rather than diffraction simulation images."
   ]
  },
  {
   "cell_type": "markdown",
   "id": "260f1457-2215-4d79-b5ee-5d742a1dea3f",
   "metadata": {},
   "source": [
    "## Initialization"
   ]
  },
  {
   "cell_type": "code",
   "execution_count": null,
   "id": "7e58a8e8-aea2-4f98-8a0c-cf06c5bdd1fb",
   "metadata": {},
   "outputs": [],
   "source": [
    "# Packages\n",
    "%matplotlib qt\n",
    "import numpy as np\n",
    "import pandas as pd\n",
    "import hyperspy.api as hs\n",
    "import pyxem as pxm\n",
    "import diffpy.structure\n",
    "from matplotlib import pyplot as plt\n",
    "from tempfile import TemporaryFile\n",
    "from diffsims.libraries.structure_library import StructureLibrary\n",
    "from diffsims.generators.diffraction_generator import DiffractionGenerator\n",
    "from diffsims.generators.library_generator import DiffractionLibraryGenerator, VectorLibraryGenerator\n",
    "from diffsims.sims.diffraction_simulation import DiffractionSimulation\n",
    "from diffsims.libraries.diffraction_library import DiffractionLibrary\n",
    "from pyxem.generators.indexation_generator import VectorIndexationGenerator\n",
    "from pyxem.generators.subpixelrefinement_generator import SubpixelrefinementGenerator\n",
    "from pyxem.signals.diffraction_vectors import DiffractionVectors\n",
    "import tqdm\n",
    "import gc\n",
    "import os"
   ]
  },
  {
   "cell_type": "code",
   "execution_count": null,
   "id": "3e2e3f78-33d3-484f-91a5-9659fa0444f9",
   "metadata": {},
   "outputs": [],
   "source": [
    "### Variables\n",
    "\n",
    "# Paths\n",
    "root = r'C:/Users/anish/Documents/GitHub/ml_pyxem/mini_2/'\n",
    "\n",
    "# Phases\n",
    "structures_path = os.path.join(root, 'crystal_phases')\n",
    "phase_files = ['p4mbm_tetragonal.cif',]\n",
    "add_bkg_phase = False # Do you want to add a bkg/just noise phase at the end? If True, the final datasets will be phases + 1 shape.\n",
    "\n",
    "# Calibration values\n",
    "calibration = 0.00588 #To have multiple, create an array (i.e. calibrations = [0.00588]) and set for value in for loop\n",
    "\n",
    "# Processing values\n",
    "n_angle_points = 10\n",
    "\n",
    "# Domain amplification\n",
    "with_direct_beam = False\n",
    "\n",
    "# Noise addition values (do not change)\n",
    "remove_peaks = False\n",
    "add_noise = True\n",
    "include_also_non_noisy_simulation = False # If add noise, do you want to also have the non-noisy data?\n",
    "snrs = [0.9, 0.99]\n",
    "intensity_spikes = [0.25,]\n",
    "\n",
    "# Simulation microscope values (for azimuthal integration)\n",
    "detector_size = 515 #px\n",
    "beam_energy = 200.0 #keV\n",
    "wavelength = 2.5079e-12 #m\n",
    "detector_pix_size = 55e-6 #m\n",
    "from pyxem.detectors import Medipix515x515Detector\n",
    "detector = Medipix515x515Detector()"
   ]
  },
  {
   "cell_type": "code",
   "execution_count": null,
   "id": "8eac7bee-d473-44be-bece-3045f3788c3b",
   "metadata": {},
   "outputs": [],
   "source": [
    "val = n_angle_points * (len(phase_files)) * len(relrod_list) * len(spot_spread_list) #* len(snrs) * len(intensity_spikes)\n",
    "print('Approx amount of 2D diffraction patterns that will be produced: {}'.format(val))\n",
    "memory = detector_size**2 * val * 4 / 1e9  #4 bytes per float32 value\n",
    "print('Approx memory needed: {} GB'.format(memory))"
   ]
  },
  {
   "cell_type": "markdown",
   "id": "1a83043c-984d-494a-ba63-6d6cdb858795",
   "metadata": {},
   "source": [
    "## Simulate Data"
   ]
  },
  {
   "cell_type": "markdown",
   "id": "e576327d-bbca-4de8-92d9-9449e6371e9f",
   "metadata": {},
   "source": [
    "### Define Functions"
   ]
  },
  {
   "cell_type": "code",
   "execution_count": null,
   "id": "e8a09b02-0080-4aea-90e5-0bfc5ae96f0c",
   "metadata": {},
   "outputs": [],
   "source": [
    "phase_dict = {}\n",
    "for phase in phase_files:\n",
    "     name = phase.split(\".\")[0]\n",
    "     phase_dict[name] = diffpy.structure.loadStructure(os.path.join('crystal_phases', phase))\n",
    "     print('n_phases = {}'.format(len(phase_dict)))"
   ]
  },
  {
   "cell_type": "code",
   "execution_count": null,
   "id": "14701132-1a81-4910-a933-fd271081a27f",
   "metadata": {},
   "outputs": [],
   "source": [
    "def get_random_euler(npoints):\n",
    "    radius = 1\n",
    "    np.random.seed(1)\n",
    "    u = np.random.randint(-100,100+1,size=(npoints,))/100 \n",
    "    u2 = 2*np.pi*np.random.random(size=(npoints,))\n",
    "    theta = 2*np.pi*np.random.random(size=(npoints,))\n",
    "    x = radius*np.sqrt(1-u**2)*np.cos(theta)\n",
    "    y = radius*np.sqrt(1-u**2)*np.sin(theta)\n",
    "    z = radius*u \n",
    "    phi = np.arccos(z/radius)\n",
    "    eulerAlpha = u2\n",
    "    eulerBeta = phi\n",
    "    eulerGamma = theta\n",
    "    return np.array([np.rad2deg(eulerAlpha),np.rad2deg(eulerBeta),np.rad2deg(eulerGamma)]).T \n",
    "\n",
    "\n",
    "def get_reciprocal_radius(detector_size, calibration):\n",
    "    half_pattern_size = detector_size // 2\n",
    "    reciprocal_radius = calibration * half_pattern_size\n",
    "    return reciprocal_radius\n",
    "\n",
    "\n",
    "def create_diffraction_library(phase_dict, euler_list, beam_energy, calibration, detector_size, with_direct_beam):\n",
    "\n",
    "    phase_names = list(phase_dict.keys())\n",
    "    phases = list(phase_dict.values())\n",
    "    euler_list_n = [euler_list, ] * len(phase_names)\n",
    "\n",
    "    sample_lib = StructureLibrary(phase_names, phases, euler_list_n)\n",
    "    ediff = DiffractionGenerator(beam_energy)\n",
    "    diff_gen = DiffractionLibraryGenerator(ediff)\n",
    "\n",
    "    reciprocal_radius = get_reciprocal_radius(detector_size, calibration)\n",
    "    library = diff_gen.get_diffraction_library(sample_lib,\n",
    "                                               calibration=calibration,\n",
    "                                               reciprocal_radius=reciprocal_radius,\n",
    "                                               half_shape=(detector_size//2, detector_size//2),\n",
    "                                               with_direct_beam=with_direct_beam)\n",
    "    return library"
   ]
  },
  {
   "cell_type": "markdown",
   "id": "12773873-1a70-4bc0-85a8-d281e694f122",
   "metadata": {},
   "source": [
    "### Create Diffraction Patterns"
   ]
  },
  {
   "cell_type": "code",
   "execution_count": null,
   "id": "8005fa42-2554-4435-a06d-a212634518b6",
   "metadata": {},
   "outputs": [],
   "source": [
    "data = {}\n",
    "for key, val in phase_dict.items():\n",
    "    data[key] = []\n",
    "\n",
    "euler_list = get_random_euler(n_angle_points)\n",
    "library = create_diffraction_library(phase_dict, euler_list, beam_energy, calibration, detector_size, with_direct_beam)\n",
    "reciprocal_radius = get_reciprocal_radius(detector_size, calibration)\n",
    "#print(library)\n",
    "\n",
    "for euler in euler_list:\n",
    "    for phase in library.keys():\n",
    "        pattern = DiffractionSimulation.get_diffraction_pattern(library.get_library_entry(phase=phase,angle=euler)['Sim'])\n",
    "        data[phase].append(pattern)"
   ]
  },
  {
   "cell_type": "markdown",
   "id": "932af23a-1bc5-4f6a-8ca4-77db688083db",
   "metadata": {},
   "source": [
    "### Plotting Check"
   ]
  },
  {
   "cell_type": "code",
   "execution_count": null,
   "id": "beb475d9-b3a0-491e-91ef-adfa6e01f756",
   "metadata": {},
   "outputs": [],
   "source": [
    "#for euler in euler_list: #shows diffraction pattern for every configuration simulated\n",
    "#    for phase in library.keys():\n",
    "#        pattern = DiffractionSimulation.get_diffraction_pattern(library.get_library_entry(phase=phase,angle=euler)['Sim'])\n",
    "#        plt.figure() \n",
    "#        plt.imshow(pattern, cmap='viridis', vmax=0.3)"
   ]
  },
  {
   "cell_type": "code",
   "execution_count": null,
   "id": "d9197884-a1a0-494c-bf43-9416b1f8454f",
   "metadata": {},
   "outputs": [],
   "source": [
    "#px_coords_array = library['p4mbm_tetragonal']['pixel_coords']\n",
    "#px_coords_i_x = library['p4mbm_tetragonal']['pixel_coords'][0][:,0]\n",
    "#px_coords_i_y = library['p4mbm_tetragonal']['pixel_coords'][0][:,1]\n",
    "#plt.figure(1)\n",
    "#plt.scatter(px_coords_i_x,px_coords_i_y) #shows diffraction pattern of a single configuration - based on Cartesian coordinates\n",
    "\n",
    "#rec_coords_array = library['p4mbm_tetragonal']['rec_coords']\n",
    "#rec_coords_i_x = library['p4mbm_tetragonal']['rec_coords'][0][:,0]\n",
    "#rec_coords_i_y = library['p4mbm_tetragonal']['rec_coords'][0][:,1]\n",
    "#plt.figure(2)\n",
    "#plt.scatter(rec_coords_i_x,rec_coords_i_y) #shows diffraction pattern of a single configuration - based on reciprocal coordinates"
   ]
  },
  {
   "cell_type": "markdown",
   "id": "832d905f-0d19-4b4f-9cdc-aedef3b4eace",
   "metadata": {},
   "source": [
    "### Stack Data"
   ]
  },
  {
   "cell_type": "code",
   "execution_count": null,
   "id": "21c677dc-8c90-41e0-92e6-d6c04f27f0cf",
   "metadata": {},
   "outputs": [],
   "source": [
    "import dask.array as da\n",
    "\n",
    "for i, value in enumerate(data.values()):\n",
    "    list_data = da.from_array([x.data for x in value], chunks=(10, detector_size, detector_size))\n",
    "\n",
    "    if i ==0:\n",
    "        #list_data = np.expand_dims(list_data, 1)\n",
    "        training_data = list_data\n",
    "    else:\n",
    "        #list_data = np.expand_dims(list_data, 1)\n",
    "        training_data = da.vstack([training_data, list_data],)\n",
    "\n",
    "del data\n",
    "del library\n",
    "del list_data\n",
    "gc.collect()\n",
    "\n",
    "shape = (len(phase_dict.keys()),\n",
    "         n_angle_points*#len(relrod_list)*len(spot_spread_list)*len(simulated_direct_beam_bool),\n",
    "         detector_size,\n",
    "         detector_size)\n",
    "\n",
    "#training_data = training_data.reshape(shape)\n",
    "#training_data = pxm.LazyElectronDiffraction2D(training_data)\n",
    "#training_data.set_diffraction_calibration(calibration)\n",
    "print(training_data)"
   ]
  },
  {
   "cell_type": "markdown",
   "id": "3418c375-9115-4500-bf00-daacfed69fd7",
   "metadata": {},
   "source": [
    "## Data Augmentation"
   ]
  },
  {
   "cell_type": "markdown",
   "id": "b9bb96ec-6a56-47b7-937f-ed3891e570d9",
   "metadata": {},
   "source": [
    "### Define Functions"
   ]
  },
  {
   "cell_type": "code",
   "execution_count": null,
   "id": "115dc79a-e592-42a8-a256-b40bc8dc8d71",
   "metadata": {},
   "outputs": [],
   "source": [
    "def remove_random_peaks(n_patterns, phase_dict,size):\n",
    "    from numpy.random import default_rng\n",
    "    import pandas as pd\n",
    "    \n",
    "    phase_names = list(phase_dict.keys())\n",
    "    augmented_library = library\n",
    "    \n",
    "    for phase_name in phase_names:\n",
    "        for i in range(n_patterns):\n",
    "            df = pd.DataFrame(augmented_library[phase_name]['rec_coords'][i])\n",
    "            rand_index = default_rng().choice(df.index, size, replace=False)\n",
    "            df = df.drop(index=rand_index)\n",
    "            augmented_library[phase_name]['rec_coords'][i]= df.to_numpy()\n",
    "            df2 = pd.DataFrame(augmented_library[phase_name]['pixel_coords'][i])\n",
    "            df2 = df2.drop(index=rand_index)\n",
    "            augmented_library[phase_name]['pixel_coords'][i]= df2.to_numpy()\n",
    "            df3 = pd.DataFrame(augmented_library[phase_name]['intensities'][i])\n",
    "            df3 = df3.drop(index=rand_index)\n",
    "            augmented_library[phase_name]['intensities'][i]= df3.to_numpy()\n",
    "            \n",
    "    return augmented_library"
   ]
  },
  {
   "cell_type": "markdown",
   "id": "a9a73690-78ff-4905-b393-b4e0fe0d881a",
   "metadata": {},
   "source": [
    "### Testing"
   ]
  },
  {
   "cell_type": "code",
   "execution_count": null,
   "id": "e96a464c-075c-4375-9ed7-10258e5796c7",
   "metadata": {},
   "outputs": [],
   "source": [
    "if remove_peaks:\n",
    "    augmented_library = remove_random_peaks(n_patterns=n_angle_points, phase_dict=phase_dict, size=1)\n",
    "else:\n",
    "    augmented_library = library\n",
    "    \n",
    "# print(augmented_library)\n",
    "\n",
    "x = len(augmented_library['p4mbm_tetragonal']['pixel_coords'][0])\n",
    "print(x)"
   ]
  },
  {
   "cell_type": "code",
   "execution_count": null,
   "id": "78171b74-a305-48fb-a2a1-188e74eb320d",
   "metadata": {},
   "outputs": [],
   "source": [
    "def add_noise_to_simulation(simulation_arr, snr, int_salt,):\n",
    "    import numpy as np\n",
    "    # Salt and pepper\n",
    "    def addsalt_pepper(dp_arr, snr, int_min = 0, int_max = int_salt,):\n",
    "        p0 = snr\n",
    "        # Add noise\n",
    "        size = np.shape(dp_arr)\n",
    "        mask = np.random.choice(a=(0, 1, 2),\n",
    "                                size=size,\n",
    "                                p=[p0, (1 - p0) / 2., (1 - p0) / 2.])\n",
    "\n",
    "        im = dp_arr.copy()\n",
    "        #im[mask == 1] = int_min # salt noise\n",
    "        im[mask == 2] = int_max # pepper noise\n",
    "        return im\n",
    "    # Add poisson noise on sp noise and normalise\n",
    "    im = simulation_arr.copy()\n",
    "    im += np.random.poisson(im)\n",
    "    max = im.max()\n",
    "    if max == 0:\n",
    "        im = im\n",
    "    else:\n",
    "        im = im / im.max()\n",
    "    # Add bright spots randomly accross detector\n",
    "    im_sp = addsalt_pepper(im, snr,)\n",
    "    return im_sp"
   ]
  },
  {
   "cell_type": "code",
   "execution_count": null,
   "id": "2cb23d03-90c5-4806-9ae4-b6edbcaf8896",
   "metadata": {},
   "outputs": [],
   "source": [
    "# Map the noise addition function on signal\n",
    "if add_noise:\n",
    "    training_data_noisy = []\n",
    "\n",
    "    # Include the non-corrupted data in the dataset?\n",
    "    if include_also_non_noisy_simulation:\n",
    "        training_data_noisy.append(training_data)\n",
    "\n",
    "    # Append noisy data\n",
    "    for snr in snrs:\n",
    "        for int_spike in intensity_spikes:\n",
    "\n",
    "            signal_noisy = training_data.map(add_noise_to_simulation,\n",
    "                                             snr=snr, int_salt=int_spike,\n",
    "                                             inplace=False, parallel=True)\n",
    "\n",
    "            training_data_noisy.append(signal_noisy)\n",
    "\n",
    "    del training_data\n",
    "    del signal_noisy\n",
    "    gc.collect()\n",
    "\n",
    "    training_data_noisy = hs.stack(training_data_noisy, axis=0)\n",
    "\n",
    "else:\n",
    "    # No noise addition\n",
    "    training_data_noisy = training_data"
   ]
  },
  {
   "cell_type": "markdown",
   "id": "7ceb6d4a-1a43-4598-aa1c-528d6f3caeec",
   "metadata": {},
   "source": [
    "## K Space Output\n",
    "\n",
    "This will output only coordinates in the k space (based on pure crystallographic structure) rather than diffraction simulation images"
   ]
  },
  {
   "cell_type": "code",
   "execution_count": null,
   "id": "484b7dbe-0bfe-4afd-9c34-c2f62c97e7e9",
   "metadata": {},
   "outputs": [],
   "source": []
  }
 ],
 "metadata": {
  "kernelspec": {
   "display_name": "Python 3 (ipykernel)",
   "language": "python",
   "name": "python3"
  },
  "language_info": {
   "codemirror_mode": {
    "name": "ipython",
    "version": 3
   },
   "file_extension": ".py",
   "mimetype": "text/x-python",
   "name": "python",
   "nbconvert_exporter": "python",
   "pygments_lexer": "ipython3",
   "version": "3.9.7"
  }
 },
 "nbformat": 4,
 "nbformat_minor": 5
}

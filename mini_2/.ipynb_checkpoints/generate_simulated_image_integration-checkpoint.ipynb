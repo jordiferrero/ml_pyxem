{
 "cells": [
  {
   "cell_type": "markdown",
   "id": "f4b133f8-6a11-43a5-9427-4255d789b642",
   "metadata": {},
   "source": [
    "# Create Simulated Datasets of 2D Images (1D Integration)"
   ]
  },
  {
   "cell_type": "markdown",
   "id": "6d64f156-eafb-478e-b07a-64bb4ecb12ba",
   "metadata": {},
   "source": [
    "## Coordinates Output\n",
    "For both the training and testing datasets.\n",
    "This will simplify the simulation to take a step back.\n",
    "\n",
    "This will output diffraction simulation images and integrate into 1D."
   ]
  },
  {
   "cell_type": "markdown",
   "id": "260f1457-2215-4d79-b5ee-5d742a1dea3f",
   "metadata": {},
   "source": [
    "## Initialization"
   ]
  },
  {
   "cell_type": "code",
   "execution_count": 1,
   "id": "7e58a8e8-aea2-4f98-8a0c-cf06c5bdd1fb",
   "metadata": {},
   "outputs": [
    {
     "name": "stderr",
     "output_type": "stream",
     "text": [
      "WARNING:silx.opencl.common:Unable to import pyOpenCl. Please install it from: https://pypi.org/project/pyopencl\n"
     ]
    }
   ],
   "source": [
    "# Packages\n",
    "%matplotlib qt\n",
    "import numpy as np\n",
    "import pandas as pd\n",
    "import hyperspy.api as hs\n",
    "import pyxem as pxm\n",
    "import diffpy.structure\n",
    "from matplotlib import pyplot as plt\n",
    "from tempfile import TemporaryFile\n",
    "from diffsims.libraries.structure_library import StructureLibrary\n",
    "from diffsims.generators.diffraction_generator import DiffractionGenerator\n",
    "from diffsims.generators.library_generator import DiffractionLibraryGenerator, VectorLibraryGenerator\n",
    "from diffsims.sims.diffraction_simulation import DiffractionSimulation\n",
    "from diffsims.libraries.diffraction_library import DiffractionLibrary\n",
    "from pyxem.generators.indexation_generator import VectorIndexationGenerator\n",
    "from pyxem.generators.subpixelrefinement_generator import SubpixelrefinementGenerator\n",
    "from pyxem.signals.diffraction_vectors import DiffractionVectors\n",
    "import tqdm\n",
    "import gc\n",
    "import os"
   ]
  },
  {
   "cell_type": "code",
   "execution_count": 3,
   "id": "3e2e3f78-33d3-484f-91a5-9659fa0444f9",
   "metadata": {},
   "outputs": [],
   "source": [
    "### Variables\n",
    "\n",
    "# Paths\n",
    "root = r'C:/Users/anish/Documents/GitHub/ml_pyxem/mini_2/'\n",
    "\n",
    "# Phases\n",
    "structures_path = os.path.join(root, 'crystal_phases')\n",
    "phase_files = ['p4mbm_tetragonal.cif','2','3']\n",
    "add_bkg_phase = False # Do you want to add a bkg/just noise phase at the end? If True, the final datasets will be phases + 1 shape.\n",
    "\n",
    "# Calibration values\n",
    "calibration = 0.00588 #To have multiple, create an array (i.e. calibrations = [0.00588]) and set for value in for loop\n",
    "\n",
    "# Processing values\n",
    "n_angle_points = 30000\n",
    "multiplicity = 2\n",
    "\n",
    "# Domain amplification\n",
    "simulated_direct_beam_bool = [False,]\n",
    "relrod_list = [0.02,]\n",
    "spot_spread_list = [0.02,]\n",
    "scattering_params = 'lobato'\n",
    "\n",
    "# Noise addition values (do not change)\n",
    "remove_peaks = True\n",
    "add_noise = True\n",
    "include_also_non_noisy_simulation = False # If add noise, do you want to also have the non-noisy data?\n",
    "snrs = [0.9, 0.99]\n",
    "intensity_spikes = [0.25,]\n",
    "\n",
    "# Cropping and post-processing\n",
    "cropping_start_k = 0.11 #k units\n",
    "cropping_stop_k = 1.30 #k_units\n",
    "cropped_signal_k_points = 147 # To rebin signal, if necessary (when using k_units)\n",
    "\n",
    "cropping_start_px = 13.55 #pixels\n",
    "cropping_stop_px = 160.55 #pixels\n",
    "sqrt_signal = False\n",
    "\n",
    "# Background parameterisation values (A: pre-exp factor, tau: decay time constant)\n",
    "add_background_to = 'none' # Select from 'all', '1D_only', 'none'\n",
    "a_vals = [1., 5.]\n",
    "tau_vals = [0.5, 1.5]\n",
    "\n",
    "# Simulation microscope values (for azimuthal integration)\n",
    "detector_size = 515 #px\n",
    "beam_energy = 200.0 #keV\n",
    "wavelength = 2.5079e-12 #m\n",
    "detector_pix_size = 55e-6 #m\n",
    "from pyxem.detectors import Medipix515x515Detector\n",
    "detector = Medipix515x515Detector()\n",
    "\n",
    "# Debug (save and plot files)\n",
    "save_hspy_files = False\n",
    "plot_hspy_files = False"
   ]
  },
  {
   "cell_type": "code",
   "execution_count": 4,
   "id": "8eac7bee-d473-44be-bece-3045f3788c3b",
   "metadata": {},
   "outputs": [
    {
     "name": "stdout",
     "output_type": "stream",
     "text": [
      "Approx amount of 2D diffraction patterns that will be produced: 720000\n",
      "Approx memory needed: 763.848 GB\n"
     ]
    }
   ],
   "source": [
    "val = n_angle_points * multiplicity * (len(phase_files)) * len(relrod_list) * len(spot_spread_list) * len(snrs) * len(intensity_spikes)\n",
    "print('Approx amount of 2D diffraction patterns that will be produced: {}'.format(val))\n",
    "memory = detector_size**2 * val * 4 / 1e9  #4 bytes per float32 value\n",
    "print('Approx memory needed: {} GB'.format(memory))"
   ]
  },
  {
   "cell_type": "markdown",
   "id": "1a83043c-984d-494a-ba63-6d6cdb858795",
   "metadata": {},
   "source": [
    "## Simulate Data"
   ]
  },
  {
   "cell_type": "markdown",
   "id": "e576327d-bbca-4de8-92d9-9449e6371e9f",
   "metadata": {},
   "source": [
    "### Define Functions"
   ]
  },
  {
   "cell_type": "code",
   "execution_count": 47,
   "id": "e8a09b02-0080-4aea-90e5-0bfc5ae96f0c",
   "metadata": {},
   "outputs": [
    {
     "name": "stdout",
     "output_type": "stream",
     "text": [
      "n_phases = 1\n"
     ]
    }
   ],
   "source": [
    "phase_dict = {}\n",
    "for phase in phase_files:\n",
    "     name = phase.split(\".\")[0]\n",
    "     phase_dict[name] = diffpy.structure.loadStructure(os.path.join('crystal_phases', phase))\n",
    "     print('n_phases = {}'.format(len(phase_dict)))"
   ]
  },
  {
   "cell_type": "code",
   "execution_count": 48,
   "id": "14701132-1a81-4910-a933-fd271081a27f",
   "metadata": {},
   "outputs": [],
   "source": [
    "def get_random_euler(npoints):\n",
    "    radius = 1\n",
    "    np.random.seed(1)\n",
    "    u = np.random.randint(-100,100+1,size=(npoints,))/100 \n",
    "    u2 = 2*np.pi*np.random.random(size=(npoints,))\n",
    "    theta = 2*np.pi*np.random.random(size=(npoints,))\n",
    "    x = radius*np.sqrt(1-u**2)*np.cos(theta)\n",
    "    y = radius*np.sqrt(1-u**2)*np.sin(theta)\n",
    "    z = radius*u \n",
    "    phi = np.arccos(z/radius)\n",
    "    eulerAlpha = u2\n",
    "    eulerBeta = phi\n",
    "    eulerGamma = theta\n",
    "    return np.array([np.rad2deg(eulerAlpha),np.rad2deg(eulerBeta),np.rad2deg(eulerGamma)]).T \n",
    "\n",
    "def get_reciprocal_radius(detector_size, calibration):\n",
    "    half_pattern_size = detector_size // 2\n",
    "    reciprocal_radius = calibration * half_pattern_size\n",
    "    return reciprocal_radius\n",
    "\n",
    "\n",
    "def create_diffraction_library(phase_dict, euler_list, beam_energy, scattering_params, relrod_length, calibration, detector_size, with_direct_beam):\n",
    "\n",
    "    phase_names = list(phase_dict.keys())\n",
    "    phases = list(phase_dict.values())\n",
    "    euler_list_n = [euler_list, ] * len(phase_names)\n",
    "\n",
    "    sample_lib = StructureLibrary(phase_names, phases, euler_list_n)\n",
    "    ediff = DiffractionGenerator(beam_energy, scattering_params, relrod_length)\n",
    "    diff_gen = DiffractionLibraryGenerator(ediff)\n",
    "\n",
    "    reciprocal_radius = get_reciprocal_radius(detector_size, calibration)\n",
    "    \n",
    "    library = diff_gen.get_diffraction_library(sample_lib,\n",
    "                                               calibration=calibration,\n",
    "                                               reciprocal_radius=reciprocal_radius,\n",
    "                                               half_shape=(detector_size//2, detector_size//2),\n",
    "                                               with_direct_beam=with_direct_beam)\n",
    "    return library"
   ]
  },
  {
   "cell_type": "markdown",
   "id": "12773873-1a70-4bc0-85a8-d281e694f122",
   "metadata": {},
   "source": [
    "### Create Diffraction Patterns"
   ]
  },
  {
   "cell_type": "code",
   "execution_count": 49,
   "id": "9d3221b5-9911-4788-9904-02768ba1a2a4",
   "metadata": {},
   "outputs": [],
   "source": [
    "%%capture\n",
    "\n",
    "data = {}\n",
    "for key, val in phase_dict.items():\n",
    "    data[key] = []\n",
    "    \n",
    "for with_direct_beam in simulated_direct_beam_bool:\n",
    "    for relrod_length in tqdm.tqdm(relrod_list):\n",
    "        for spot_spread in spot_spread_list:\n",
    "\n",
    "            euler_list = get_random_euler(n_angle_points)\n",
    "            euler_list = np.tile(euler_list, (multiplicity, 1))\n",
    "\n",
    "            library = create_diffraction_library(phase_dict, euler_list, beam_energy, scattering_params, relrod_length, calibration, detector_size, with_direct_beam)\n",
    "            reciprocal_radius = get_reciprocal_radius(detector_size, calibration)"
   ]
  },
  {
   "cell_type": "code",
   "execution_count": 50,
   "id": "39cd3e04-26f3-4ec8-87ec-006bbbee6cbd",
   "metadata": {},
   "outputs": [
    {
     "data": {
      "text/plain": [
       "array([[124.40186174, 129.05012254, 201.12833824],\n",
       "       [142.83629072,  66.42182152,  50.53929789],\n",
       "       [193.97402424, 106.26020471,  71.31653607],\n",
       "       [150.91002519,  68.28438272, 288.26804472],\n",
       "       [246.67902014,  70.73122451, 348.57416726],\n",
       "       [ 73.6028099 , 102.12235224, 112.83270414],\n",
       "       [316.1222771 ,  23.07391807, 249.23614164],\n",
       "       [  9.85953355,  63.89611886, 315.50009483],\n",
       "       [241.36830366,  73.14204398, 322.05839886],\n",
       "       [150.22972885, 106.85795602,  30.61591609]])"
      ]
     },
     "execution_count": 50,
     "metadata": {},
     "output_type": "execute_result"
    }
   ],
   "source": [
    "euler_list"
   ]
  },
  {
   "cell_type": "code",
   "execution_count": 51,
   "id": "d1da5119-9d62-4080-8907-8f32375545b2",
   "metadata": {},
   "outputs": [],
   "source": [
    "#print(library)"
   ]
  },
  {
   "cell_type": "markdown",
   "id": "c2a4101e-031f-4b54-ab02-fa2f0a49e715",
   "metadata": {},
   "source": [
    "### Plotting Check"
   ]
  },
  {
   "cell_type": "code",
   "execution_count": 52,
   "id": "d9197884-a1a0-494c-bf43-9416b1f8454f",
   "metadata": {},
   "outputs": [],
   "source": [
    "# px_coords_array = library['p4mbm_tetragonal']['pixel_coords']\n",
    "# px_coords_i_x = library['p4mbm_tetragonal']['pixel_coords'][0][:,0]\n",
    "# px_coords_i_y = library['p4mbm_tetragonal']['pixel_coords'][0][:,1]\n",
    "# plt.figure(1)\n",
    "# plt.scatter(px_coords_i_x,px_coords_i_y) #shows diffraction pattern of a single configuration - based on Cartesian coordinates\n",
    "\n",
    "#rec_coords_array = library['p4mbm_tetragonal']['rec_coords']\n",
    "#rec_coords_i_x = library['p4mbm_tetragonal']['rec_coords'][0][:,0]\n",
    "#rec_coords_i_y = library['p4mbm_tetragonal']['rec_coords'][0][:,1]\n",
    "#plt.figure(2)\n",
    "#plt.scatter(rec_coords_i_x,rec_coords_i_y) #shows diffraction pattern of a single configuration - based on reciprocal coordinates"
   ]
  },
  {
   "cell_type": "markdown",
   "id": "3418c375-9115-4500-bf00-daacfed69fd7",
   "metadata": {},
   "source": [
    "## Data Augmentation"
   ]
  },
  {
   "cell_type": "markdown",
   "id": "cd84922a-2336-4334-b6d9-c3719218c8e9",
   "metadata": {},
   "source": [
    "### Peak Removal"
   ]
  },
  {
   "cell_type": "markdown",
   "id": "b1b88380-a2a8-4db9-863c-fad53216ddc5",
   "metadata": {},
   "source": [
    "### Define Functions"
   ]
  },
  {
   "cell_type": "code",
   "execution_count": 53,
   "id": "8cd17d5b-faf0-4e02-a0dc-c825536a1d5d",
   "metadata": {},
   "outputs": [],
   "source": [
    "def remove_random_peaks(phase_dict, n_patterns, size):\n",
    "    import random\n",
    "    \n",
    "    phase_names = list(phase_dict.keys())\n",
    "    augmented_library = library\n",
    "    \n",
    "    for phase_name in phase_names:\n",
    "        for i in range(n_patterns):\n",
    "                v = random.sample(range(len(augmented_library[phase_name]['rec_coords'][i])-1),size)\n",
    "                augmented_library[phase_name]['rec_coords'][i][v] = 0\n",
    "                augmented_library[phase_name]['pixel_coords'][i][v] = 0\n",
    "                augmented_library[phase_name]['intensities'][i][v] = 0\n",
    "    return augmented_library"
   ]
  },
  {
   "cell_type": "code",
   "execution_count": 54,
   "id": "bb86266e-4d24-4413-9f20-59ccd9d2aaa4",
   "metadata": {},
   "outputs": [],
   "source": [
    "if remove_peaks:\n",
    "    augmented_library = remove_random_peaks(phase_dict=phase_dict, n_patterns=len(euler_list), size=1)\n",
    "else:\n",
    "    augmented_library = library\n",
    "    \n",
    "#print(augmented_library)"
   ]
  },
  {
   "cell_type": "markdown",
   "id": "554dc454-e81b-44a9-be6c-20fecde5d7a5",
   "metadata": {},
   "source": [
    "### Plotting Check"
   ]
  },
  {
   "cell_type": "code",
   "execution_count": 55,
   "id": "f905b048-02be-4e05-a86d-8ef06b7fc3ee",
   "metadata": {},
   "outputs": [],
   "source": [
    "# for i in range(len(euler_list)):\n",
    "#     px_coords_i_x = augmented_library['p4mbm_tetragonal']['pixel_coords'][i][:,0]\n",
    "#     px_coords_i_y = augmented_library['p4mbm_tetragonal']['pixel_coords'][i][:,1]\n",
    "#     plt.figure(i+1)\n",
    "#     plt.scatter(px_coords_i_x,px_coords_i_y) #shows diffraction pattern of a single configuration - based on Cartesian coordinates\n",
    "\n",
    "# px_coords_array = augmented_library['p4mbm_tetragonal']['pixel_coords']\n",
    "# px_coords_i_x = augmented_library['p4mbm_tetragonal']['pixel_coords'][0][:,0]\n",
    "# px_coords_i_y = augmented_library['p4mbm_tetragonal']['pixel_coords'][0][:,1]\n",
    "# plt.figure(2)\n",
    "# plt.scatter(px_coords_i_x,px_coords_i_y) #shows diffraction pattern of a single configuration - based on Cartesian coordinates\n",
    "\n",
    "# px_coords_array = augmented_library['p4mbm_tetragonal']['pixel_coords']\n",
    "# px_coords_i_x = augmented_library['p4mbm_tetragonal']['pixel_coords'][1][:,0]\n",
    "# px_coords_i_y = augmented_library['p4mbm_tetragonal']['pixel_coords'][1][:,1]\n",
    "# plt.figure(3)\n",
    "# plt.scatter(px_coords_i_x,px_coords_i_y) #shows diffraction pattern of a single configuration - based on Cartesian coordinates"
   ]
  },
  {
   "cell_type": "code",
   "execution_count": 56,
   "id": "3be3c287-060d-4ccd-8e54-1be8ae822236",
   "metadata": {},
   "outputs": [],
   "source": [
    "for euler in euler_list:\n",
    "    for phase in library.keys():\n",
    "        pattern = DiffractionSimulation.get_diffraction_pattern(augmented_library.get_library_entry(phase=phase,angle=euler)['Sim'])\n",
    "        data[phase].append(pattern)\n",
    "        # plt.figure()as\n",
    "        # plt.imshow(pattern, cmap='viridis')"
   ]
  },
  {
   "cell_type": "markdown",
   "id": "832d905f-0d19-4b4f-9cdc-aedef3b4eace",
   "metadata": {},
   "source": [
    "### Stack Data"
   ]
  },
  {
   "cell_type": "code",
   "execution_count": 58,
   "id": "21c677dc-8c90-41e0-92e6-d6c04f27f0cf",
   "metadata": {},
   "outputs": [
    {
     "name": "stdout",
     "output_type": "stream",
     "text": [
      "<LazyElectronDiffraction2D, title: , dimensions: (10, 1|512, 512)>\n"
     ]
    }
   ],
   "source": [
    "import dask.array as da\n",
    "\n",
    "for i, value in enumerate(data.values()):\n",
    "    list_data = da.from_array([x.data for x in value], chunks=(10, 512, 512))\n",
    "\n",
    "    if i ==0:\n",
    "        #list_data = np.expand_dims(list_data, 1)\n",
    "        training_data = list_data\n",
    "    else:\n",
    "        #list_data = np.expand_dims(list_data, 1)\n",
    "        training_data = da.vstack([training_data, list_data],)\n",
    "\n",
    "\n",
    "# del data\n",
    "# del library\n",
    "# del augmented_library\n",
    "# del list_data\n",
    "gc.collect()\n",
    "\n",
    "shape = (len(phase_dict.keys()),\n",
    "         n_angle_points * len(relrod_list) * len(spot_spread_list) * len(simulated_direct_beam_bool),\n",
    "         512,\n",
    "         512)       \n",
    "\n",
    "# print(np.shape(data.values()))\n",
    "#print(np.shape(list_data))\n",
    "# print(np.shape(training_data))\n",
    "# print(shape)\n",
    "\n",
    "training_data = training_data.reshape(shape)\n",
    "training_data = pxm.signals.LazyElectronDiffraction2D(training_data)\n",
    "training_data.set_diffraction_calibration(calibration)\n",
    "print(training_data)"
   ]
  },
  {
   "cell_type": "code",
   "execution_count": 59,
   "id": "bb979874-29fc-473e-b290-cc54fc15bd71",
   "metadata": {},
   "outputs": [
    {
     "name": "stdout",
     "output_type": "stream",
     "text": [
      "[########################################] | 100% Completed |  0.2s\n"
     ]
    }
   ],
   "source": [
    "training_data.plot()"
   ]
  },
  {
   "cell_type": "markdown",
   "id": "81884107-de20-47c0-8552-9371af8056cc",
   "metadata": {},
   "source": [
    "### Recenter"
   ]
  },
  {
   "cell_type": "code",
   "execution_count": 60,
   "id": "d905c102-9f7b-4212-8f53-877adbe632a2",
   "metadata": {},
   "outputs": [
    {
     "name": "stdout",
     "output_type": "stream",
     "text": [
      "[########################################] | 100% Completed |  0.1s\n"
     ]
    },
    {
     "name": "stderr",
     "output_type": "stream",
     "text": [
      "/Users/anish/opt/anaconda3/lib/python3.9/site-packages/dask/array/core.py:1546: FutureWarning: The `numpy.size` function is not implemented by Dask array. You may want to use the da.map_blocks function or something similar to silence this warning. Your code may stop working in a future release.\n",
      "  warnings.warn(\n"
     ]
    },
    {
     "data": {
      "application/vnd.jupyter.widget-view+json": {
       "model_id": "3c085187bab44ad089269258b2eb27a4",
       "version_major": 2,
       "version_minor": 0
      },
      "text/plain": [
       "  0%|          | 0/10 [00:00<?, ?it/s]"
      ]
     },
     "metadata": {},
     "output_type": "display_data"
    }
   ],
   "source": [
    "shiftList = np.zeros((np.size(training_data.data,0),\n",
    "                      np.size(training_data.data,1), 2\n",
    "                      )\n",
    "                     )\n",
    "\n",
    "shiftList[:,:,0]=0.5\n",
    "shiftList[:,:,1]=0.5\n",
    "\n",
    "#shiftList = shiftList.flatten() #Flatten the 2D navigation axis\n",
    "\n",
    "#reshape(-1, shiftList.shape[-1]) # Flatten the 2D navigtion axis\n",
    "\n",
    "training_data.compute()\n",
    "training_data.align2D(shifts=shiftList,crop=False,fill_value=0., parallel=True)"
   ]
  },
  {
   "cell_type": "code",
   "execution_count": 61,
   "id": "4fba0f18-47f0-43e4-b456-7c4260e3b01e",
   "metadata": {},
   "outputs": [
    {
     "name": "stdout",
     "output_type": "stream",
     "text": [
      "<ElectronDiffraction2D, title: , dimensions: (10, 1|512, 512)>\n"
     ]
    }
   ],
   "source": [
    "if save_hspy_files:\n",
    "    name = '2D_hspy_simdata_{}classes_{}neuler_{}cal_{}relrod_{}spotsize.hspy'.format(\n",
    "        len(phase_dict), n_angle_points, calibration, relrod_list, spot_spread_list)\n",
    "\n",
    "    training_data.save(name, overwrite=True)\n",
    "if plot_hspy_files:\n",
    "    training_data.plot(cmap='viridis')\n",
    "\n",
    "print(training_data)"
   ]
  },
  {
   "cell_type": "markdown",
   "id": "fbfee82a-9757-4751-a123-d4bc2a9f9f1d",
   "metadata": {},
   "source": [
    "### Background Phase"
   ]
  },
  {
   "cell_type": "code",
   "execution_count": 62,
   "id": "a676f0f8-e55a-4953-b9fd-2cd0cf9d67a2",
   "metadata": {},
   "outputs": [
    {
     "name": "stdout",
     "output_type": "stream",
     "text": [
      "1\n"
     ]
    },
    {
     "data": {
      "text/plain": [
       "(1, 10, 512, 512)"
      ]
     },
     "execution_count": 62,
     "metadata": {},
     "output_type": "execute_result"
    }
   ],
   "source": [
    "# Only if `add_bkg_phase` is True. Otherwise no changes.\n",
    "if add_bkg_phase:\n",
    "    # Add phase in the dictionary\n",
    "    phase_dict['bkg_phase'] = []\n",
    "\n",
    "    # Create blank detector\n",
    "    shape_blank = np.shape(training_data,)[1:]\n",
    "    shape_blank = (1,) + shape_blank\n",
    "    blank = pxm.signals.electron_diffraction2d.ElectronDiffraction2D(np.zeros(shape_blank))\n",
    "    training_data = hs.stack([training_data, blank], axis=1)\n",
    "\n",
    "print(len(phase_dict))\n",
    "training_data.data.shape"
   ]
  },
  {
   "cell_type": "markdown",
   "id": "b9bb96ec-6a56-47b7-937f-ed3891e570d9",
   "metadata": {},
   "source": [
    "### Define Functions"
   ]
  },
  {
   "cell_type": "code",
   "execution_count": 63,
   "id": "78171b74-a305-48fb-a2a1-188e74eb320d",
   "metadata": {},
   "outputs": [],
   "source": [
    "def add_noise_to_simulation(simulation_arr, snr, int_salt,):\n",
    "    import numpy as np\n",
    "    # Salt and pepper\n",
    "    def addsalt_pepper(dp_arr, snr, int_min = 0, int_max = int_salt,):\n",
    "        p0 = snr\n",
    "        # Add noise\n",
    "        size = np.shape(dp_arr)\n",
    "        mask = np.random.choice(a=(0, 1, 2),\n",
    "                                size=size,\n",
    "                                p=[p0, (1 - p0) / 2., (1 - p0) / 2.])\n",
    "\n",
    "        im = dp_arr.copy()\n",
    "        #im[mask == 1] = int_min # salt noise\n",
    "        im[mask == 2] = int_max # pepper noise\n",
    "        return im\n",
    "    # Add poisson noise on sp noise and normalise\n",
    "    im = simulation_arr.copy()\n",
    "    im += np.random.poisson(im)\n",
    "    max = im.max()\n",
    "    if max == 0:\n",
    "        im = im\n",
    "    else:\n",
    "        im = im / im.max()\n",
    "    # Add bright spots randomly accross detector\n",
    "    im_sp = addsalt_pepper(im, snr,)\n",
    "    return im_sp\n",
    "\n",
    "def add_background_to_signal_array(normalised_sim_data_array, x_axis,\n",
    "                                     a_val, tau_val, bkg_function='exp_decay', dimensions=1):\n",
    "    \"\"\"\n",
    "    :param normalised_sim_data_array:\n",
    "        The normalised 1d signal array (nav axis should be (points, phases, q))\n",
    "    :param x_axis: array of the actual q values\n",
    "        The A and tau values are optimised for 1/A-1 magnitude\n",
    "    :return: extended signal with new sets of sim data without and with bakgrounds\n",
    "    \"\"\"\n",
    "    def inv_q(x, A, tau):\n",
    "        return A * x**(-tau)\n",
    "\n",
    "    def exp_decay(x, A, tau):\n",
    "        return A * np.exp(- tau * x)\n",
    "\n",
    "    if bkg_function == 'exp_decay':\n",
    "        bkg = exp_decay(x_axis, a_val, tau_val)\n",
    "    elif bkg_function == 'inv_q':\n",
    "        bkg = inv_q(x_axis, a_val, tau_val)\n",
    "\n",
    "    if dimensions == 1:\n",
    "        return normalised_sim_data_array + bkg\n",
    "\n",
    "    elif dimensions == 2:\n",
    "        n = normalised_sim_data_array.shape[-1]\n",
    "        bkg = np.tile(bkg, (n,1)).T\n",
    "        return normalised_sim_data_array + bkg"
   ]
  },
  {
   "cell_type": "markdown",
   "id": "3a9b0442-eea1-4aea-936f-3697428d97ce",
   "metadata": {},
   "source": [
    "### Salt & Pepper, Poisson Noise"
   ]
  },
  {
   "cell_type": "code",
   "execution_count": 64,
   "id": "2cb23d03-90c5-4806-9ae4-b6edbcaf8896",
   "metadata": {},
   "outputs": [
    {
     "data": {
      "application/vnd.jupyter.widget-view+json": {
       "model_id": "dc37b30e505b48d0b60f7e476086a637",
       "version_major": 2,
       "version_minor": 0
      },
      "text/plain": [
       "  0%|          | 0/10 [00:00<?, ?it/s]"
      ]
     },
     "metadata": {},
     "output_type": "display_data"
    },
    {
     "data": {
      "application/vnd.jupyter.widget-view+json": {
       "model_id": "5b8daea8c41b4a2597b85acde5dc4add",
       "version_major": 2,
       "version_minor": 0
      },
      "text/plain": [
       "  0%|          | 0/10 [00:00<?, ?it/s]"
      ]
     },
     "metadata": {},
     "output_type": "display_data"
    },
    {
     "name": "stdout",
     "output_type": "stream",
     "text": [
      "[########################################] | 100% Completed |  0.1s\n"
     ]
    }
   ],
   "source": [
    "# Map the noise addition function on signal\n",
    "if add_noise:\n",
    "    training_data_noisy = []\n",
    "\n",
    "    # Include the non-corrupted data in the dataset?\n",
    "    if include_also_non_noisy_simulation:\n",
    "        training_data_noisy.append(training_data)\n",
    "\n",
    "    # Append noisy data\n",
    "    for snr in snrs:\n",
    "        for int_spike in intensity_spikes:\n",
    "\n",
    "            signal_noisy = training_data.map(add_noise_to_simulation,\n",
    "                                             snr=snr, int_salt=int_spike,\n",
    "                                             inplace=False, parallel=True)\n",
    "\n",
    "            training_data_noisy.append(signal_noisy)\n",
    "\n",
    "    del training_data\n",
    "    del signal_noisy\n",
    "    gc.collect()\n",
    "\n",
    "    training_data_noisy = hs.stack(training_data_noisy, axis=0)\n",
    "\n",
    "else:\n",
    "    # No noise addition\n",
    "    training_data_noisy = training_data"
   ]
  },
  {
   "cell_type": "markdown",
   "id": "ff621284-472b-4714-a795-1e6534560fc3",
   "metadata": {},
   "source": [
    "### Saving"
   ]
  },
  {
   "cell_type": "code",
   "execution_count": 65,
   "id": "b53c869b-2f62-4907-a38d-fdf81234de73",
   "metadata": {},
   "outputs": [
    {
     "name": "stdout",
     "output_type": "stream",
     "text": [
      "<ElectronDiffraction2D, title: Stack of , dimensions: (20, 1|512, 512)>\n"
     ]
    }
   ],
   "source": [
    "if save_hspy_files and add_noise:\n",
    "    name = '2D_hspy_simdata_{}classes_{}neuler_{}cal_{}relrod_{}spotsize_withNoise.hspy'.format(\n",
    "        len(phase_dict), n_angle_points, calibration, relrod_list, spot_spread_list)\n",
    "\n",
    "    training_data_noisy.save(name, overwrite=True)\n",
    "if plot_hspy_files and add_noise:\n",
    "    training_data_noisy.plot(cmap='viridis')\n",
    "\n",
    "print(training_data_noisy)"
   ]
  },
  {
   "cell_type": "markdown",
   "id": "580cdcad-d277-47bb-a0c6-5bd5af73f535",
   "metadata": {},
   "source": [
    "## Integrate Radially 1D"
   ]
  },
  {
   "cell_type": "code",
   "execution_count": 66,
   "id": "0bed9541-a124-470b-9d7d-9585c4ae6573",
   "metadata": {},
   "outputs": [
    {
     "name": "stdout",
     "output_type": "stream",
     "text": [
      "[                                        ] | 0% Completed |  0.0s"
     ]
    },
    {
     "name": "stderr",
     "output_type": "stream",
     "text": [
      "WARNING:pyFAI.geometry:No fast path for space: k\n"
     ]
    },
    {
     "name": "stdout",
     "output_type": "stream",
     "text": [
      "[########################################] | 100% Completed |  0.7s\n",
      "<ElectronDiffraction1D, title: , dimensions: (20, 1|256)>\n"
     ]
    },
    {
     "data": {
      "text/plain": [
       "1736"
      ]
     },
     "execution_count": 66,
     "metadata": {},
     "output_type": "execute_result"
    }
   ],
   "source": [
    "camera_length = detector_pix_size / (wavelength * calibration * 1e10)\n",
    "training_data_noisy.unit = \"k_A^-1\"\n",
    "training_data_noisy.set_experimental_parameters(beam_energy=beam_energy)\n",
    "radial_steps = int(np.ceil((int(detector_size/2) - 1)/2)*2)\n",
    "training_data_noisy.set_ai(center=([detector_size/2,detector_size/2]))#, detector=detector, detector_dist=camera_length)\n",
    "training_data_1D = training_data_noisy.get_azimuthal_integral1d(npt=radial_steps) #, map_kwargs={'parallel':True})\n",
    "print(training_data_1D)\n",
    "\n",
    "del training_data_noisy\n",
    "gc.collect()"
   ]
  },
  {
   "cell_type": "markdown",
   "id": "26f0ea3b-1141-4f17-9b1b-f72da752a064",
   "metadata": {},
   "source": [
    "### Saving"
   ]
  },
  {
   "cell_type": "code",
   "execution_count": 67,
   "id": "ff5bd93f-1c48-49a9-96e2-9be709b0707f",
   "metadata": {},
   "outputs": [
    {
     "name": "stdout",
     "output_type": "stream",
     "text": [
      "<ElectronDiffraction1D, title: , dimensions: (20, 1|256)>\n"
     ]
    }
   ],
   "source": [
    "if save_hspy_files:\n",
    "    name = '1D_hspy_simdata_{}classes_{}neuler_{}cal_{}relrod_{}spotsize.hspy'.format(\n",
    "        len(phase_dict), n_angle_points, calibration, relrod_list, spot_spread_list)\n",
    "\n",
    "    training_data_1D.save(name, overwrite=True)\n",
    "if plot_hspy_files:\n",
    "    training_data_1D.plot()\n",
    "\n",
    "print(training_data_1D)"
   ]
  },
  {
   "cell_type": "markdown",
   "id": "d33b1a2a-38d5-4aa9-ab7c-1be2e61181a3",
   "metadata": {},
   "source": [
    "### Normalise and Sqrt"
   ]
  },
  {
   "cell_type": "code",
   "execution_count": 68,
   "id": "bc6cf590-d56a-466d-a4b5-d90f1f048b32",
   "metadata": {},
   "outputs": [
    {
     "name": "stdout",
     "output_type": "stream",
     "text": [
      "(1, 20, 256)\n"
     ]
    }
   ],
   "source": [
    "# 1D dataset\n",
    "# Sqrt signal (if wanted)\n",
    "if sqrt_signal:\n",
    "    training_data_1D.data = np.sqrt(training_data_1D.data)\n",
    "\n",
    "# Normalise\n",
    "dpmax = training_data_1D.data.max(2)\n",
    "training_data_1D_norm = training_data_1D.data/dpmax[:,:,np.newaxis]\n",
    "\n",
    "# Correct any nan value\n",
    "nan_mask = np.isnan(training_data_1D_norm)\n",
    "training_data_1D_norm[nan_mask] = 0\n",
    "\n",
    "print(training_data_1D_norm.shape)"
   ]
  },
  {
   "cell_type": "markdown",
   "id": "f188d192-f90d-469c-a8be-ca3b8df14c73",
   "metadata": {},
   "source": [
    "## Add Simulated Background\n",
    "\n",
    "Approximate background as a $A*exp^{(-tau \\: q)}$ value."
   ]
  },
  {
   "cell_type": "code",
   "execution_count": 69,
   "id": "5eefddb5-b0e4-4004-835f-3f8bcf0ea50f",
   "metadata": {},
   "outputs": [
    {
     "data": {
      "text/plain": [
       "(1, 20, 256)"
      ]
     },
     "execution_count": 69,
     "metadata": {},
     "output_type": "execute_result"
    }
   ],
   "source": [
    "# For 1D dataset\n",
    "# Expand datasets by copying and adding bkg\n",
    "training_data_1D_norm_bkg = training_data_1D_norm\n",
    "\n",
    "if add_background_to != 'none':\n",
    "    # Get the x-axis values from which to calculate bkg\n",
    "    qs = training_data_1D.axes_manager.signal_axes[0].axis\n",
    "    qs\n",
    "\n",
    "    # Add bkg to signal\n",
    "    for a in a_vals:\n",
    "        for tau in tau_vals:\n",
    "            bkg_data = add_background_to_signal_array(training_data_1D_norm, qs, a, tau)\n",
    "            training_data_1D_norm_bkg = np.hstack((training_data_1D_norm_bkg, bkg_data))\n",
    "\n",
    "    del bkg_data\n",
    "    gc.collect()\n",
    "\n",
    "training_data_1D_norm_bkg.shape"
   ]
  },
  {
   "cell_type": "markdown",
   "id": "02348368-6cfc-40a4-959e-d2d3ffe0d148",
   "metadata": {},
   "source": [
    "## Crop, Rebin and Renormalise\n",
    "\n",
    "Crop both in terms of q (rebin but no shift) and pixel values (shift but no rebin)."
   ]
  },
  {
   "cell_type": "code",
   "execution_count": 70,
   "id": "1f76dd94-5029-4468-8976-d0e375cd6454",
   "metadata": {},
   "outputs": [
    {
     "name": "stdout",
     "output_type": "stream",
     "text": [
      "(1, 20, 147)\n",
      "(1, 20, 147)\n"
     ]
    }
   ],
   "source": [
    "# 1D dataset\n",
    "training_data_1D_norm_bkg = hs.signals.Signal1D(training_data_1D_norm_bkg)\n",
    "\n",
    "training_data_1D_px = training_data_1D_norm_bkg.deepcopy()\n",
    "\n",
    "# Recreate .hspy object to crop with k units\n",
    "scale = training_data_1D.axes_manager.signal_axes[0].scale\n",
    "offset = training_data_1D.axes_manager.signal_axes[0].offset\n",
    "training_data_1D_norm_bkg.axes_manager.signal_axes[0].scale = scale\n",
    "training_data_1D_norm_bkg.axes_manager.signal_axes[0].offset = offset\n",
    "\n",
    "training_data_1D_q = training_data_1D_norm_bkg.deepcopy()\n",
    "\n",
    "# del training_data_1D\n",
    "# del training_data_1D_norm\n",
    "# del training_data_1D_norm_bkg\n",
    "gc.collect()\n",
    "\n",
    "# In k units:\n",
    "# Crop in k units\n",
    "training_data_1D_q.crop_signal1D(cropping_start_k, cropping_stop_k)\n",
    "# Rebin\n",
    "scale_rebin = training_data_1D_q.data.shape[-1] / cropped_signal_k_points\n",
    "scale_rebin\n",
    "training_data_1D_q = training_data_1D_q.rebin(scale=(1,1,scale_rebin))\n",
    "# Renormalise data\n",
    "dpmax = training_data_1D_q.data.max(-1)\n",
    "training_data_1D_q = training_data_1D_q.data/dpmax[:,:,np.newaxis]\n",
    "\n",
    "# In pixel units:\n",
    "# Crop in pixel units\n",
    "training_data_1D_px.crop_signal1D(cropping_start_px, cropping_stop_px)\n",
    "# Renormalise data\n",
    "dpmax = training_data_1D_px.data.max(-1)\n",
    "training_data_1D_px = training_data_1D_px.data/dpmax[:,:,np.newaxis]\n",
    "\n",
    "print(training_data_1D_q.shape)\n",
    "print(training_data_1D_px.shape)"
   ]
  },
  {
   "cell_type": "markdown",
   "id": "1ead5b30-eb9e-4840-8aab-e312e00087ad",
   "metadata": {},
   "source": [
    "## NN Requirements: Reshape and Labelling"
   ]
  },
  {
   "cell_type": "code",
   "execution_count": 71,
   "id": "219b7c0c-ffb3-4944-91b0-639d76757e96",
   "metadata": {},
   "outputs": [
    {
     "name": "stdout",
     "output_type": "stream",
     "text": [
      "['p4mbm_tetragonal']\n"
     ]
    }
   ],
   "source": [
    "phase_names = list(phase_dict.keys())\n",
    "\n",
    "print(phase_names)"
   ]
  },
  {
   "cell_type": "code",
   "execution_count": 72,
   "id": "423d1be9-d531-4189-ba60-7b90e77a15ed",
   "metadata": {},
   "outputs": [
    {
     "name": "stdout",
     "output_type": "stream",
     "text": [
      "(1, 20, 147)\n",
      "(20, 147)\n"
     ]
    }
   ],
   "source": [
    "# 1D dataset\n",
    "#training_data_1D_q = training_data_1D_q.reshape(-1, training_data_1D_q.shape[-1])\n",
    "training_data_1D_px = training_data_1D_px.reshape(-1, training_data_1D_px.shape[-1])\n",
    "\n",
    "print(training_data_1D_q.shape)\n",
    "print(training_data_1D_px.shape)"
   ]
  },
  {
   "cell_type": "code",
   "execution_count": 73,
   "id": "a35d3f00-9fc7-4711-bcd7-8b62b807b24f",
   "metadata": {},
   "outputs": [
    {
     "data": {
      "text/plain": [
       "(1,)"
      ]
     },
     "execution_count": 73,
     "metadata": {},
     "output_type": "execute_result"
    }
   ],
   "source": [
    "# Create labels for 1D\n",
    "n_phases = len(phase_dict)\n",
    "labels = np.zeros((n_phases, int(training_data_1D_q.shape[0]/n_phases)))\n",
    "for i in range(n_phases):\n",
    "    labels[i,:] = i\n",
    "\n",
    "training_labels = labels.flatten()\n",
    "training_labels.shape"
   ]
  },
  {
   "cell_type": "markdown",
   "id": "e10c1a1c-e71c-4c7f-a849-a872f05216b8",
   "metadata": {},
   "source": [
    "### Saving"
   ]
  },
  {
   "cell_type": "code",
   "execution_count": 74,
   "id": "fdb5f129-9646-470f-9c2f-a50982426412",
   "metadata": {},
   "outputs": [
    {
     "name": "stdout",
     "output_type": "stream",
     "text": [
      "(1, 20, 147) (1,)\n",
      "(20, 147) (1,)\n"
     ]
    }
   ],
   "source": [
    "# Check for outliers and nan values\n",
    "where_nan_q = np.argwhere(np.isnan(training_data_1D_q))\n",
    "where_nan_px = np.argwhere(np.isnan(training_data_1D_px))\n",
    "\n",
    "training_data_1D_q = np.delete(training_data_1D_q, where_nan_q[:,0], axis = 0)\n",
    "training_labels_q = np.delete(training_labels, where_nan_q[:,0], axis = 0)\n",
    "\n",
    "training_data_1D_px = np.delete(training_data_1D_px, where_nan_px[:,0], axis = 0)\n",
    "training_labels_px = np.delete(training_labels, where_nan_px[:,0], axis = 0)\n",
    "\n",
    "print(training_data_1D_q.shape, training_labels_q.shape)\n",
    "print(training_data_1D_px.shape, training_labels_px.shape)"
   ]
  },
  {
   "cell_type": "code",
   "execution_count": 75,
   "id": "5fd4980c-801c-4c94-ba1a-7d707bfc4bc4",
   "metadata": {},
   "outputs": [],
   "source": [
    "store_train_data = TemporaryFile()\n",
    "x = training_data_1D_q\n",
    "y = training_labels_q\n",
    "\n",
    "np.savez('1D_simulated_data_cal{}_cropK_{}classes_{}neuler'.format(calibration,\n",
    "                                                                              n_phases,\n",
    "                                                                        n_angle_points,),\n",
    "         x=x, y=y, phases=phase_names)"
   ]
  },
  {
   "cell_type": "code",
   "execution_count": 76,
   "id": "4410d70b-102a-48e6-adb8-6cf3634e276e",
   "metadata": {},
   "outputs": [],
   "source": [
    "store_train_data = TemporaryFile()\n",
    "x = training_data_1D_px\n",
    "y = training_labels_px\n",
    "\n",
    "np.savez('1D_simulated_data_cal{}_cropPX_{}classes_{}neuler'.format(calibration,\n",
    "                                                                              n_phases,\n",
    "                                                                        n_angle_points,),\n",
    "         x=x, y=y, phases=phase_names)"
   ]
  },
  {
   "cell_type": "markdown",
   "id": "45094d7d-a7b3-47e0-a331-37231c29ddce",
   "metadata": {},
   "source": [
    "### Plotting"
   ]
  },
  {
   "cell_type": "code",
   "execution_count": 77,
   "id": "d86ed370-91ea-41fe-8be6-3f5ceb8093cd",
   "metadata": {},
   "outputs": [
    {
     "data": {
      "text/plain": [
       "<matplotlib.legend.Legend at 0x7fbe2a425940>"
      ]
     },
     "execution_count": 77,
     "metadata": {},
     "output_type": "execute_result"
    }
   ],
   "source": [
    "i = 0\n",
    "plt.figure()\n",
    "#plt.plot(training_data_1D_px[i], label='px')\n",
    "plt.plot(training_data_1D_q[i], label='q')\n",
    "plt.legend()\n",
    "#plt.savefig('1D_plt_compare_k_q_cropping_i{}.png'.format(i))\n",
    "\n",
    "# del training_data_1D_px\n",
    "# del training_data_1D_q"
   ]
  },
  {
   "cell_type": "code",
   "execution_count": null,
   "id": "8ff5aaea-32eb-4159-a1cf-ba41602c55fc",
   "metadata": {},
   "outputs": [],
   "source": []
  }
 ],
 "metadata": {
  "kernelspec": {
   "display_name": "Python 3 (ipykernel)",
   "language": "python",
   "name": "python3"
  },
  "language_info": {
   "codemirror_mode": {
    "name": "ipython",
    "version": 3
   },
   "file_extension": ".py",
   "mimetype": "text/x-python",
   "name": "python",
   "nbconvert_exporter": "python",
   "pygments_lexer": "ipython3",
   "version": "3.9.7"
  }
 },
 "nbformat": 4,
 "nbformat_minor": 5
}

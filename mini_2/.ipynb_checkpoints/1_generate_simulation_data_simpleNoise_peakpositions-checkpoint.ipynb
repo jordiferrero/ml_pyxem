{
 "cells": [
  {
   "cell_type": "markdown",
   "metadata": {},
   "source": [
    "# Create simulated datasets\n",
    "\n",
    "For both the training and testing datasets.\n",
    "This will simplify the simulation to take a step back.\n",
    "\n",
    "The processing steps include:\n",
    "- NO Domain randomisation (a single - and the original - relrod and spot_spread values)\n",
    "- Multiple phases (6)\n",
    "- NO noise (S&P)\n",
    "- Integrating both 1D and 2D\n",
    "- NO adding background intensity for 1D case"
   ]
  },
  {
   "cell_type": "code",
   "execution_count": null,
   "metadata": {
    "collapsed": false,
    "jupyter": {
     "outputs_hidden": false
    },
    "pycharm": {
     "name": "#%%\n"
    }
   },
   "outputs": [],
   "source": [
    "# Packages\n",
    "%matplotlib qt\n",
    "import numpy as np\n",
    "import hyperspy.api as hs\n",
    "import pyxem as pxm\n",
    "import diffpy.structure\n",
    "from matplotlib import pyplot as plt\n",
    "from tempfile import TemporaryFile\n",
    "from diffsims.libraries.structure_library import StructureLibrary\n",
    "from diffsims.generators.diffraction_generator import DiffractionGenerator\n",
    "from diffsims.generators.library_generator import DiffractionLibraryGenerator, VectorLibraryGenerator\n",
    "from diffsims.sims.diffraction_simulation import DiffractionSimulation\n",
    "import tqdm\n",
    "import gc\n",
    "import os"
   ]
  },
  {
   "cell_type": "code",
   "execution_count": 22,
   "metadata": {
    "pycharm": {
     "name": "#%%\n"
    },
    "tags": []
   },
   "outputs": [],
   "source": [
    "### Variables\n",
    "\n",
    "# Paths\n",
    "root = r'C:/Users/anish/Documents/GitHub/ml_pyxem/mini_2/'\n",
    "\n",
    "# Phases\n",
    "structures_path = os.path.join(root, 'crystal_phases')\n",
    "phase_files = ['p4mbm_tetragonal.cif',]\n",
    "add_bkg_phase = False # Do you want to add a bkg/just noise phase at the end? If True, the final datasets will be phases + 1 shape.\n",
    "\n",
    "# Calibration values\n",
    "calibrations = [0.00588]\n",
    "\n",
    "# Processing values\n",
    "n_angle_points = 10\n",
    "\n",
    "# Domain amplification\n",
    "simulated_direct_beam_bool = [False,]\n",
    "relrod_list = [0.02,]\n",
    "spot_spread_list = [0.02,]\n",
    "\n",
    "# Simulation microscope values (for azimuthal integration)\n",
    "detector_size = 515 #px\n",
    "beam_energy = 200.0 #keV\n",
    "wavelength = 2.5079e-12 #m\n",
    "detector_pix_size = 55e-6 #m\n",
    "from pyxem.detectors import Medipix515x515Detector\n",
    "detector = Medipix515x515Detector()\n",
    "\n",
    "# Noise addition values (do not change)\n",
    "add_noise = False\n",
    "include_also_non_noisy_simulation = True # If add noise, do you want to also have the non-noisy data?\n",
    "snrs = [0.9, 0.99]\n",
    "intensity_spikes = [0.25,]\n",
    "\n",
    "# Cropping and post-processing\n",
    "cropping_start_k = 0.11 #k units\n",
    "cropping_stop_k = 1.30 #k_units\n",
    "cropped_signal_k_points = 147 # To rebin signal, if necessary (when using k_units)\n",
    "\n",
    "cropping_start_px = 13.55 #pixels\n",
    "cropping_stop_px = 160.55 #pixels\n",
    "sqrt_signal = False\n",
    "\n",
    "\n",
    "# Background parameterisation values (A: pre-exp factor, tau: decay time constant)\n",
    "add_background_to = 'none' # Select from 'all', '1D_only', 'none'\n",
    "a_vals = [1., 5.]\n",
    "tau_vals = [0.5, 1.5]\n",
    "\n",
    "# Debug (save and plot files)\n",
    "save_hspy_files = False\n",
    "plot_hspy_files = False"
   ]
  },
  {
   "cell_type": "code",
   "execution_count": 23,
   "metadata": {
    "collapsed": false,
    "jupyter": {
     "outputs_hidden": false
    },
    "pycharm": {
     "name": "#%%\n"
    }
   },
   "outputs": [
    {
     "name": "stdout",
     "output_type": "stream",
     "text": [
      "Approx amount of 2D diffraction patterns that will be produced: 20\n",
      "Approx memory needed: 0.021218 GB\n"
     ]
    }
   ],
   "source": [
    "val = n_angle_points * (len(phase_files) + 1)* len(relrod_list) * len(spot_spread_list) #* len(snrs) * len(intensity_spikes)\n",
    "print('Approx amount of 2D diffraction patterns that will be produced: {}'.format(val))\n",
    "memory = detector_size**2 * val * 4 / 1e9  #4 bytes per float32 value\n",
    "print('Approx memory needed: {} GB'.format(memory))"
   ]
  },
  {
   "cell_type": "code",
   "execution_count": null,
   "metadata": {
    "collapsed": false,
    "jupyter": {
     "outputs_hidden": false
    },
    "pycharm": {
     "name": "#%%\n"
    }
   },
   "outputs": [],
   "source": []
  },
  {
   "cell_type": "code",
   "execution_count": null,
   "metadata": {
    "collapsed": false,
    "jupyter": {
     "outputs_hidden": false
    },
    "pycharm": {
     "name": "#%%\n"
    }
   },
   "outputs": [],
   "source": []
  },
  {
   "cell_type": "markdown",
   "metadata": {},
   "source": [
    "# Repetition 1 (for the first calibration value)"
   ]
  },
  {
   "cell_type": "code",
   "execution_count": 24,
   "metadata": {
    "collapsed": false,
    "jupyter": {
     "outputs_hidden": false
    },
    "pycharm": {
     "name": "#%%\n"
    }
   },
   "outputs": [],
   "source": [
    "calibration = calibrations[0]"
   ]
  },
  {
   "cell_type": "markdown",
   "metadata": {},
   "source": [
    "## Simulate data for each phase"
   ]
  },
  {
   "cell_type": "code",
   "execution_count": 25,
   "metadata": {
    "collapsed": false,
    "jupyter": {
     "outputs_hidden": false
    },
    "pycharm": {
     "name": "#%%\n"
    }
   },
   "outputs": [
    {
     "name": "stdout",
     "output_type": "stream",
     "text": [
      "n_phases = 1\n"
     ]
    }
   ],
   "source": [
    "phase_dict = {}\n",
    "for phase in phase_files:\n",
    "     name = phase.split(\".\")[0]\n",
    "     phase_dict[name] = diffpy.structure.loadStructure(os.path.join('crystal_phases', phase))\n",
    "     print('n_phases = {}'.format(len(phase_dict)))"
   ]
  },
  {
   "cell_type": "code",
   "execution_count": 26,
   "metadata": {
    "pycharm": {
     "name": "#%%\n"
    },
    "tags": []
   },
   "outputs": [],
   "source": [
    "def get_random_euler(npoints):\n",
    "    radius = 1\n",
    "    np.random.seed(1)\n",
    "    u = np.random.randint(-100,100+1,size=(npoints,))/100 \n",
    "    u2 = 2*np.pi*np.random.random(size=(npoints,))\n",
    "    theta = 2*np.pi*np.random.random(size=(npoints,))\n",
    "    x = radius*np.sqrt(1-u**2)*np.cos(theta)\n",
    "    y = radius*np.sqrt(1-u**2)*np.sin(theta)\n",
    "    z = radius*u \n",
    "    phi = np.arccos(z/radius)\n",
    "    eulerAlpha = u2\n",
    "    eulerBeta = phi\n",
    "    eulerGamma = theta\n",
    "    return np.array([np.rad2deg(eulerAlpha),np.rad2deg(eulerBeta),np.rad2deg(eulerGamma)]).T \n",
    "\n",
    "\n",
    "def get_reciprocal_radius(detector_size, calibration):\n",
    "    half_pattern_size = detector_size // 2\n",
    "    reciprocal_radius = calibration * half_pattern_size\n",
    "    return reciprocal_radius\n",
    "\n",
    "\n",
    "def create_diffraction_library(phase_dict, euler_list,\n",
    "                                       beam_energy, relrod_length,\n",
    "                                       calibration, detector_size,\n",
    "                                       with_direct_beam):\n",
    "\n",
    "    phase_names = list(phase_dict.keys())\n",
    "    phases = list(phase_dict.values())\n",
    "    euler_list_n = [euler_list, ] * len(phase_names)\n",
    "\n",
    "    sample_lib = StructureLibrary(phase_names, phases, euler_list_n)\n",
    "    ediff = DiffractionGenerator(beam_energy)#, relrod_length)\n",
    "    diff_gen = DiffractionLibraryGenerator(ediff)\n",
    "\n",
    "    reciprocal_radius = get_reciprocal_radius(detector_size, calibration)\n",
    "    library = diff_gen.get_diffraction_library(sample_lib,\n",
    "                                               calibration=calibration,\n",
    "                                               reciprocal_radius=reciprocal_radius,\n",
    "                                               half_shape=(detector_size//2, detector_size//2),\n",
    "                                               with_direct_beam=with_direct_beam)\n",
    "    return library"
   ]
  },
  {
   "cell_type": "code",
   "execution_count": 65,
   "metadata": {
    "pycharm": {
     "is_executing": true,
     "name": "#%%\n"
    },
    "tags": []
   },
   "outputs": [],
   "source": [
    "%%capture\n",
    "\n",
    "data = {}\n",
    "for key, val in phase_dict.items():\n",
    "    data[key] = []\n",
    "for with_direct_beam in simulated_direct_beam_bool:\n",
    "    for relrod_length in tqdm.tqdm(relrod_list):\n",
    "        for spot_spread in spot_spread_list:\n",
    "\n",
    "            euler_list = get_random_euler(n_angle_points)\n",
    "\n",
    "            library = create_diffraction_library(phase_dict, euler_list,\n",
    "                                                 beam_energy, relrod_length,\n",
    "                                                 calibration, detector_size,\n",
    "                                                 with_direct_beam)\n",
    "\n",
    "            reciprocal_radius = get_reciprocal_radius(detector_size, calibration)\n",
    "            print(library)\n",
    "            for euler in euler_list:\n",
    "                for phase in library.keys():\n",
    "                    pattern = DiffractionSimulation.get_diffraction_pattern(library.get_library_entry(phase=phase,angle=euler)['Sim'])\n",
    "                    #data[phase].append(pattern)\n",
    "                    #DiffractionSimulation.plot(pattern)\n",
    "                    plt.figure()\n",
    "                    plt.imshow(pattern, cmap='viridis')"
   ]
  },
  {
   "cell_type": "code",
   "execution_count": 20,
   "metadata": {},
   "outputs": [
    {
     "data": {
      "text/plain": [
       "{'p4mbm_tetragonal': {'simulations': array([<diffsims.sims.diffraction_simulation.DiffractionSimulation object at 0x7fea5e700e50>,\n",
       "         <diffsims.sims.diffraction_simulation.DiffractionSimulation object at 0x7fea5e700340>,\n",
       "         <diffsims.sims.diffraction_simulation.DiffractionSimulation object at 0x7fea5e700610>,\n",
       "         <diffsims.sims.diffraction_simulation.DiffractionSimulation object at 0x7fea5e7000a0>,\n",
       "         <diffsims.sims.diffraction_simulation.DiffractionSimulation object at 0x7fea5e700430>,\n",
       "         <diffsims.sims.diffraction_simulation.DiffractionSimulation object at 0x7fea5e700070>,\n",
       "         <diffsims.sims.diffraction_simulation.DiffractionSimulation object at 0x7fea5e700a30>,\n",
       "         <diffsims.sims.diffraction_simulation.DiffractionSimulation object at 0x7fea5e700eb0>,\n",
       "         <diffsims.sims.diffraction_simulation.DiffractionSimulation object at 0x7fea5e700640>,\n",
       "         <diffsims.sims.diffraction_simulation.DiffractionSimulation object at 0x7fea5e700a00>],\n",
       "        dtype=object),\n",
       "  'orientations': array([[124.40186174, 129.05012254, 201.12833824],\n",
       "         [142.83629072,  66.42182152,  50.53929789],\n",
       "         [193.97402424, 106.26020471,  71.31653607],\n",
       "         [150.91002519,  68.28438272, 288.26804472],\n",
       "         [246.67902014,  70.73122451, 348.57416726],\n",
       "         [ 73.6028099 , 102.12235224, 112.83270414],\n",
       "         [316.1222771 ,  23.07391807, 249.23614164],\n",
       "         [  9.85953355,  63.89611886, 315.50009483],\n",
       "         [241.36830366,  73.14204398, 322.05839886],\n",
       "         [150.22972885, 106.85795602,  30.61591609]]),\n",
       "  'pixel_coords': array([array([[158, 470],\n",
       "                [268, 491],\n",
       "                [134, 441],\n",
       "                [244, 462],\n",
       "                [ 80, 399],\n",
       "                [324, 470],\n",
       "                [190, 420],\n",
       "                [ 57, 370],\n",
       "                [ 27, 358],\n",
       "                [300, 441],\n",
       "                [167, 391],\n",
       "                [380, 449],\n",
       "                [276, 412],\n",
       "                [113, 349],\n",
       "                [356, 420],\n",
       "                [223, 370],\n",
       "                [ 59, 307],\n",
       "                [436, 429],\n",
       "                [332, 391],\n",
       "                [199, 341],\n",
       "                [169, 328],\n",
       "                [  5, 266],\n",
       "                [412, 399],\n",
       "                [279, 349],\n",
       "                [145, 299],\n",
       "                [ 91, 257],\n",
       "                [ 61, 245],\n",
       "                [335, 328],\n",
       "                [201, 278],\n",
       "                [ 37, 215],\n",
       "                [  7, 203],\n",
       "                [414, 337],\n",
       "                [311, 299],\n",
       "                [147, 236],\n",
       "                [ 93, 194],\n",
       "                [470, 316],\n",
       "                [337, 265],\n",
       "                [203, 215],\n",
       "                [ 39, 153],\n",
       "                [313, 236],\n",
       "                [149, 174],\n",
       "                [393, 245],\n",
       "                [ 95, 132],\n",
       "                [472, 253],\n",
       "                [369, 215],\n",
       "                [205, 153],\n",
       "                [449, 224],\n",
       "                [315, 173],\n",
       "                [151, 111],\n",
       "                [395, 182],\n",
       "                [261, 132],\n",
       "                [ 98,  69],\n",
       "                [475, 190],\n",
       "                [371, 153],\n",
       "                [207,  90],\n",
       "                [451, 161],\n",
       "                [317, 111],\n",
       "                [153,  48],\n",
       "                [397, 119],\n",
       "                [477, 128],\n",
       "                [373,  90],\n",
       "                [209,  27],\n",
       "                [453,  98],\n",
       "                [319,  48],\n",
       "                [399,  57],\n",
       "                [265,   6]]), array([[473, 238],\n",
       "                                     [467, 206],\n",
       "                                     [461, 174],\n",
       "                                     [455, 142],\n",
       "                                     [449, 110],\n",
       "                                     [470, 350],\n",
       "                                     [464, 318],\n",
       "                                     [458, 286],\n",
       "                                     [452, 254],\n",
       "                                     [415,  61],\n",
       "                                     [454, 398],\n",
       "                                     [377, 312],\n",
       "                                     [371, 280],\n",
       "                                     [365, 248],\n",
       "                                     [359, 216],\n",
       "                                     [353, 183],\n",
       "                                     [347, 151],\n",
       "                                     [341, 119],\n",
       "                                     [335,  87],\n",
       "                                     [329,  55],\n",
       "                                     [323,  23],\n",
       "                                     [374, 424],\n",
       "                                     [368, 392],\n",
       "                                     [362, 359],\n",
       "                                     [295,   6],\n",
       "                                     [358, 471],\n",
       "                                     [352, 439],\n",
       "                                     [269, 321],\n",
       "                                     [245, 193],\n",
       "                                     [233, 128],\n",
       "                                     [221,  64],\n",
       "                                     [266, 433],\n",
       "                                     [260, 401],\n",
       "                                     [253, 369],\n",
       "                                     [247, 337],\n",
       "                                     [199,  79],\n",
       "                                     [193,  47],\n",
       "                                     [187,  15],\n",
       "                                     [250, 481],\n",
       "                                     [244, 448],\n",
       "                                     [238, 416],\n",
       "                                     [228, 496],\n",
       "                                     [143, 234],\n",
       "                                     [137, 202],\n",
       "                                     [145, 378],\n",
       "                                     [139, 346],\n",
       "                                     [133, 314],\n",
       "                                     [127, 282],\n",
       "                                     [121, 249],\n",
       "                                     [115, 217],\n",
       "                                     [109, 185],\n",
       "                                     [ 97, 121],\n",
       "                                     [ 91,  88],\n",
       "                                     [130, 425],\n",
       "                                     [123, 393],\n",
       "                                     [117, 361],\n",
       "                                     [111, 329],\n",
       "                                     [ 69, 104],\n",
       "                                     [108, 441]]), array([[427,  71],\n",
       "                                                          [465, 138],\n",
       "                                                          [476, 169],\n",
       "                                                          [358,  25],\n",
       "                                                          [369,  56],\n",
       "                                                          [418, 155],\n",
       "                                                          [429, 186],\n",
       "                                                          [467, 253],\n",
       "                                                          [478, 284],\n",
       "                                                          [300,  11],\n",
       "                                                          [311,  42],\n",
       "                                                          [360, 140],\n",
       "                                                          [371, 171],\n",
       "                                                          [382, 202],\n",
       "                                                          [420, 270],\n",
       "                                                          [431, 301],\n",
       "                                                          [459, 337],\n",
       "                                                          [469, 368],\n",
       "                                                          [253,  27],\n",
       "                                                          [302, 126],\n",
       "                                                          [313, 157],\n",
       "                                                          [324, 187],\n",
       "                                                          [362, 255],\n",
       "                                                          [373, 286],\n",
       "                                                          [411, 354],\n",
       "                                                          [450, 421],\n",
       "                                                          [244, 111],\n",
       "                                                          [255, 142],\n",
       "                                                          [266, 173],\n",
       "                                                          [315, 272],\n",
       "                                                          [353, 339],\n",
       "                                                          [364, 370],\n",
       "                                                          [403, 438],\n",
       "                                                          [165,  35],\n",
       "                                                          [186,  97],\n",
       "                                                          [208, 158],\n",
       "                                                          [306, 356],\n",
       "                                                          [117,  51],\n",
       "                                                          [128,  82],\n",
       "                                                          [188, 212],\n",
       "                                                          [199, 242],\n",
       "                                                          [248, 341],\n",
       "                                                          [287, 409],\n",
       "                                                          [298, 440],\n",
       "                                                          [325, 477],\n",
       "                                                          [120, 166],\n",
       "                                                          [130, 197],\n",
       "                                                          [141, 228],\n",
       "                                                          [180, 296],\n",
       "                                                          [190, 327],\n",
       "                                                          [229, 394],\n",
       "                                                          [240, 425],\n",
       "                                                          [278, 493],\n",
       "                                                          [ 51, 121],\n",
       "                                                          [ 62, 152],\n",
       "                                                          [122, 281],\n",
       "                                                          [132, 312],\n",
       "                                                          [171, 380],\n",
       "                                                          [182, 411],\n",
       "                                                          [220, 478],\n",
       "                                                          [ 42, 205],\n",
       "                                                          [ 53, 236],\n",
       "                                                          [ 64, 267],\n",
       "                                                          [113, 365],\n",
       "                                                          [151, 433],\n",
       "                                                          [162, 464],\n",
       "                                                          [ 33, 289],\n",
       "                                                          [ 44, 320],\n",
       "                                                          [ 55, 351],\n",
       "                                                          [ 93, 419],\n",
       "                                                          [104, 449]]),\n",
       "         array([[388,  50],\n",
       "                [268,  19],\n",
       "                [222,  11],\n",
       "                [427,  95],\n",
       "                [381,  87],\n",
       "                [261,  56],\n",
       "                [216,  48],\n",
       "                [420, 132],\n",
       "                [375, 124],\n",
       "                [255,  93],\n",
       "                [209,  85],\n",
       "                [164,  77],\n",
       "                [118,  69],\n",
       "                [488, 193],\n",
       "                [368, 162],\n",
       "                [322, 153],\n",
       "                [157, 114],\n",
       "                [111, 106],\n",
       "                [ 66,  98],\n",
       "                [481, 230],\n",
       "                [436, 222],\n",
       "                [361, 199],\n",
       "                [316, 191],\n",
       "                [150, 152],\n",
       "                [105, 143],\n",
       "                [ 59, 135],\n",
       "                [504, 282],\n",
       "                [429, 259],\n",
       "                [355, 236],\n",
       "                [309, 228],\n",
       "                [264, 220],\n",
       "                [497, 319],\n",
       "                [303, 265],\n",
       "                [211, 249],\n",
       "                [166, 241],\n",
       "                [ 29, 217],\n",
       "                [490, 356],\n",
       "                [445, 348],\n",
       "                [370, 325],\n",
       "                [325, 317],\n",
       "                [250, 294],\n",
       "                [205, 286],\n",
       "                [159, 278],\n",
       "                [114, 270],\n",
       "                [ 68, 262],\n",
       "                [ 23, 254],\n",
       "                [438, 385],\n",
       "                [393, 377],\n",
       "                [318, 354],\n",
       "                [273, 346],\n",
       "                [153, 315],\n",
       "                [107, 307],\n",
       "                [ 61, 299],\n",
       "                [ 16, 291],\n",
       "                [386, 415],\n",
       "                [340, 406],\n",
       "                [266, 383],\n",
       "                [220, 375],\n",
       "                [175, 367],\n",
       "                [334, 444],\n",
       "                [288, 436],\n",
       "                [214, 413],\n",
       "                [168, 405],\n",
       "                [123, 396],\n",
       "                [ 77, 388],\n",
       "                [282, 473],\n",
       "                [236, 465],\n",
       "                [190, 457],\n",
       "                [184, 494]]), array([[241, 502],\n",
       "                                     [291, 476],\n",
       "                                     [342, 450],\n",
       "                                     [392, 425],\n",
       "                                     [453, 350],\n",
       "                                     [504, 324],\n",
       "                                     [192, 463],\n",
       "                                     [243, 437],\n",
       "                                     [293, 411],\n",
       "                                     [344, 385],\n",
       "                                     [394, 359],\n",
       "                                     [445, 333],\n",
       "                                     [152, 440],\n",
       "                                     [405, 310],\n",
       "                                     [455, 284],\n",
       "                                     [506, 259],\n",
       "                                     [194, 397],\n",
       "                                     [245, 371],\n",
       "                                     [295, 345],\n",
       "                                     [396, 294],\n",
       "                                     [466, 236],\n",
       "                                     [104, 400],\n",
       "                                     [154, 374],\n",
       "                                     [205, 348],\n",
       "                                     [255, 322],\n",
       "                                     [356, 271],\n",
       "                                     [407, 245],\n",
       "                                     [ 64, 377],\n",
       "                                     [417, 196],\n",
       "                                     [467, 170],\n",
       "                                     [156, 309],\n",
       "                                     [358, 205],\n",
       "                                     [ 23, 354],\n",
       "                                     [427, 147],\n",
       "                                     [ 65, 311],\n",
       "                                     [116, 286],\n",
       "                                     [166, 260],\n",
       "                                     [217, 234],\n",
       "                                     [267, 208],\n",
       "                                     [318, 182],\n",
       "                                     [368, 156],\n",
       "                                     [ 25, 288],\n",
       "                                     [ 76, 263],\n",
       "                                     [328, 133],\n",
       "                                     [379, 108],\n",
       "                                     [118, 220],\n",
       "                                     [219, 169],\n",
       "                                     [269, 143],\n",
       "                                     [389,  59],\n",
       "                                     [ 78, 197],\n",
       "                                     [179, 145],\n",
       "                                     [229, 120],\n",
       "                                     [280,  94],\n",
       "                                     [ 38, 174],\n",
       "                                     [139, 122],\n",
       "                                     [189,  97],\n",
       "                                     [240,  71],\n",
       "                                     [290,  45],\n",
       "                                     [ 98,  99],\n",
       "                                     [149,  74],\n",
       "                                     [199,  48],\n",
       "                                     [250,  22]]), array([[270, 491],\n",
       "                                                          [239, 482],\n",
       "                                                          [150, 472],\n",
       "                                                          [119, 463],\n",
       "                                                          [347, 461],\n",
       "                                                          [315, 452],\n",
       "                                                          [284, 443],\n",
       "                                                          [164, 424],\n",
       "                                                          [133, 415],\n",
       "                                                          [ 76, 413],\n",
       "                                                          [423, 431],\n",
       "                                                          [392, 422],\n",
       "                                                          [360, 413],\n",
       "                                                          [329, 404],\n",
       "                                                          [209, 385],\n",
       "                                                          [178, 376],\n",
       "                                                          [ 90, 365],\n",
       "                                                          [469, 392],\n",
       "                                                          [437, 383],\n",
       "                                                          [286, 354],\n",
       "                                                          [255, 346],\n",
       "                                                          [167, 335],\n",
       "                                                          [135, 326],\n",
       "                                                          [ 47, 316],\n",
       "                                                          [363, 324],\n",
       "                                                          [331, 315],\n",
       "                                                          [300, 307],\n",
       "                                                          [212, 296],\n",
       "                                                          [ 92, 277],\n",
       "                                                          [  4, 266],\n",
       "                                                          [471, 303],\n",
       "                                                          [408, 285],\n",
       "                                                          [365, 236],\n",
       "                                                          [302, 218],\n",
       "                                                          [214, 207],\n",
       "                                                          [183, 199],\n",
       "                                                          [ 95, 188],\n",
       "                                                          [505, 223],\n",
       "                                                          [473, 214],\n",
       "                                                          [442, 205],\n",
       "                                                          [410, 197],\n",
       "                                                          [291, 177],\n",
       "                                                          [259, 168],\n",
       "                                                          [171, 158],\n",
       "                                                          [140, 149],\n",
       "                                                          [ 83, 148],\n",
       "                                                          [ 52, 139],\n",
       "                                                          [399, 156],\n",
       "                                                          [368, 147],\n",
       "                                                          [336, 138],\n",
       "                                                          [248, 128],\n",
       "                                                          [217, 119],\n",
       "                                                          [129, 108],\n",
       "                                                          [476, 126],\n",
       "                                                          [325,  98],\n",
       "                                                          [293,  89],\n",
       "                                                          [205,  78],\n",
       "                                                          [174,  69],\n",
       "                                                          [433,  76],\n",
       "                                                          [401,  67],\n",
       "                                                          [282,  48],\n",
       "                                                          [250,  39],\n",
       "                                                          [162,  29]]),\n",
       "         array([[489, 331],\n",
       "                [447, 374],\n",
       "                [414, 400],\n",
       "                [483, 243],\n",
       "                [373, 443],\n",
       "                [381, 427],\n",
       "                [450, 269],\n",
       "                [331, 486],\n",
       "                [340, 470],\n",
       "                [409, 312],\n",
       "                [417, 295],\n",
       "                [478, 154],\n",
       "                [376, 338],\n",
       "                [445, 181],\n",
       "                [334, 381],\n",
       "                [343, 365],\n",
       "                [412, 207],\n",
       "                [293, 424],\n",
       "                [301, 408],\n",
       "                [370, 250],\n",
       "                [379, 233],\n",
       "                [439,  92],\n",
       "                [251, 467],\n",
       "                [260, 451],\n",
       "                [337, 276],\n",
       "                [398, 135],\n",
       "                [406, 118],\n",
       "                [218, 494],\n",
       "                [296, 319],\n",
       "                [304, 302],\n",
       "                [365, 161],\n",
       "                [254, 362],\n",
       "                [263, 345],\n",
       "                [332, 188],\n",
       "                [392,  47],\n",
       "                [213, 405],\n",
       "                [221, 388],\n",
       "                [290, 231],\n",
       "                [298, 214],\n",
       "                [359,  73],\n",
       "                [180, 431],\n",
       "                [216, 300],\n",
       "                [284, 142],\n",
       "                [174, 343],\n",
       "                [182, 326],\n",
       "                [251, 169],\n",
       "                [312,  27],\n",
       "                [133, 386],\n",
       "                [141, 369],\n",
       "                [210, 212],\n",
       "                [279,  54],\n",
       "                [ 91, 429],\n",
       "                [168, 255],\n",
       "                [177, 238],\n",
       "                [237,  97],\n",
       "                [135, 281],\n",
       "                [204, 123],\n",
       "                [ 85, 341],\n",
       "                [ 94, 324],\n",
       "                [163, 166],\n",
       "                [171, 149],\n",
       "                [232,   8],\n",
       "                [ 44, 384],\n",
       "                [ 52, 367],\n",
       "                [190,  51],\n",
       "                [ 88, 235],\n",
       "                [157,  78],\n",
       "                [ 38, 295],\n",
       "                [ 47, 278],\n",
       "                [116, 121],\n",
       "                [ 74, 164],\n",
       "                [ 83, 147],\n",
       "                [ 33, 207],\n",
       "                [ 41, 190]]), array([[141, 297],\n",
       "                                     [149, 329],\n",
       "                                     [157, 361],\n",
       "                                     [173, 424],\n",
       "                                     [152, 238],\n",
       "                                     [160, 270],\n",
       "                                     [168, 302],\n",
       "                                     [176, 334],\n",
       "                                     [183, 365],\n",
       "                                     [191, 397],\n",
       "                                     [199, 429],\n",
       "                                     [170, 211],\n",
       "                                     [178, 243],\n",
       "                                     [186, 275],\n",
       "                                     [194, 307],\n",
       "                                     [210, 370],\n",
       "                                     [218, 402],\n",
       "                                     [226, 434],\n",
       "                                     [234, 465],\n",
       "                                     [196, 216],\n",
       "                                     [204, 248],\n",
       "                                     [212, 279],\n",
       "                                     [220, 311],\n",
       "                                     [228, 343],\n",
       "                                     [236, 375],\n",
       "                                     [244, 406],\n",
       "                                     [252, 438],\n",
       "                                     [260, 470],\n",
       "                                     [215, 189],\n",
       "                                     [223, 221],\n",
       "                                     [231, 252],\n",
       "                                     [247, 316],\n",
       "                                     [254, 348],\n",
       "                                     [262, 379],\n",
       "                                     [270, 411],\n",
       "                                     [278, 443],\n",
       "                                     [286, 475],\n",
       "                                     [241, 193],\n",
       "                                     [273, 321],\n",
       "                                     [289, 384],\n",
       "                                     [305, 448],\n",
       "                                     [260, 166],\n",
       "                                     [267, 198],\n",
       "                                     [283, 262],\n",
       "                                     [291, 293],\n",
       "                                     [299, 325],\n",
       "                                     [307, 357],\n",
       "                                     [315, 389],\n",
       "                                     [323, 421],\n",
       "                                     [331, 452],\n",
       "                                     [286, 171],\n",
       "                                     [294, 203],\n",
       "                                     [302, 235],\n",
       "                                     [310, 266],\n",
       "                                     [318, 298],\n",
       "                                     [325, 330],\n",
       "                                     [333, 362],\n",
       "                                     [341, 393],\n",
       "                                     [349, 425],\n",
       "                                     [357, 457],\n",
       "                                     [320, 207],\n",
       "                                     [328, 239],\n",
       "                                     [336, 271],\n",
       "                                     [344, 303],\n",
       "                                     [352, 335],\n",
       "                                     [360, 366],\n",
       "                                     [368, 398],\n",
       "                                     [376, 430],\n",
       "                                     [383, 462],\n",
       "                                     [338, 180],\n",
       "                                     [346, 212],\n",
       "                                     [354, 244],\n",
       "                                     [362, 276],\n",
       "                                     [370, 307],\n",
       "                                     [378, 339],\n",
       "                                     [386, 371],\n",
       "                                     [394, 403],\n",
       "                                     [402, 435],\n",
       "                                     [365, 185],\n",
       "                                     [373, 217],\n",
       "                                     [381, 249],\n",
       "                                     [389, 280],\n",
       "                                     [396, 312],\n",
       "                                     [404, 344],\n",
       "                                     [412, 376],\n",
       "                                     [420, 407],\n",
       "                                     [391, 190],\n",
       "                                     [399, 222],\n",
       "                                     [407, 253],\n",
       "                                     [415, 285],\n",
       "                                     [423, 317],\n",
       "                                     [431, 349],\n",
       "                                     [439, 380],\n",
       "                                     [425, 226],\n",
       "                                     [433, 258],\n",
       "                                     [441, 290],\n",
       "                                     [449, 322],\n",
       "                                     [457, 353],\n",
       "                                     [460, 263],\n",
       "                                     [467, 294]]), array([[350, 482],\n",
       "                                                          [393, 445],\n",
       "                                                          [436, 408],\n",
       "                                                          [467, 348],\n",
       "                                                          [262, 496],\n",
       "                                                          [305, 459],\n",
       "                                                          [348, 422],\n",
       "                                                          [392, 386],\n",
       "                                                          [423, 325],\n",
       "                                                          [466, 288],\n",
       "                                                          [304, 399],\n",
       "                                                          [347, 363],\n",
       "                                                          [390, 326],\n",
       "                                                          [497, 228],\n",
       "                                                          [185, 474],\n",
       "                                                          [228, 437],\n",
       "                                                          [422, 265],\n",
       "                                                          [303, 340],\n",
       "                                                          [346, 303],\n",
       "                                                          [453, 205],\n",
       "                                                          [496, 168],\n",
       "                                                          [141, 451],\n",
       "                                                          [184, 414],\n",
       "                                                          [227, 377],\n",
       "                                                          [420, 206],\n",
       "                                                          [484, 144],\n",
       "                                                          [258, 317],\n",
       "                                                          [301, 280],\n",
       "                                                          [345, 243],\n",
       "                                                          [452, 145],\n",
       "                                                          [333, 219],\n",
       "                                                          [376, 183],\n",
       "                                                          [ 84, 404],\n",
       "                                                          [171, 331],\n",
       "                                                          [407, 122],\n",
       "                                                          [288, 196],\n",
       "                                                          [331, 160],\n",
       "                                                          [ 40, 381],\n",
       "                                                          [ 83, 344],\n",
       "                                                          [126, 308],\n",
       "                                                          [169, 271],\n",
       "                                                          [213, 234],\n",
       "                                                          [363,  99],\n",
       "                                                          [244, 174],\n",
       "                                                          [287, 137],\n",
       "                                                          [ 39, 322],\n",
       "                                                          [ 82, 285],\n",
       "                                                          [125, 248],\n",
       "                                                          [168, 211],\n",
       "                                                          [318,  76],\n",
       "                                                          [156, 187],\n",
       "                                                          [199, 151],\n",
       "                                                          [243, 114],\n",
       "                                                          [231,  90],\n",
       "                                                          [274,  53],\n",
       "                                                          [ 26, 238],\n",
       "                                                          [ 69, 201],\n",
       "                                                          [112, 164],\n",
       "                                                          [155, 128],\n",
       "                                                          [262,  30],\n",
       "                                                          [143, 104],\n",
       "                                                          [186,  67],\n",
       "                                                          [ 24, 178],\n",
       "                                                          [ 67, 142],\n",
       "                                                          [218,   7],\n",
       "                                                          [ 56, 118],\n",
       "                                                          [ 99,  81],\n",
       "                                                          [142,  44]]),\n",
       "         array([[340,  49],\n",
       "                [376,  93],\n",
       "                [412, 137],\n",
       "                [448, 181],\n",
       "                [485, 224],\n",
       "                [304,  38],\n",
       "                [340,  82],\n",
       "                [448, 213],\n",
       "                [485, 257],\n",
       "                [268,  27],\n",
       "                [281, 115],\n",
       "                [317, 159],\n",
       "                [353, 202],\n",
       "                [389, 246],\n",
       "                [425, 290],\n",
       "                [208,  60],\n",
       "                [244, 104],\n",
       "                [280, 148],\n",
       "                [317, 191],\n",
       "                [353, 235],\n",
       "                [389, 279],\n",
       "                [425, 323],\n",
       "                [461, 366],\n",
       "                [172,  49],\n",
       "                [208,  93],\n",
       "                [425, 355],\n",
       "                [461, 399],\n",
       "                [136,  38],\n",
       "                [293, 268],\n",
       "                [185, 170],\n",
       "                [329, 344],\n",
       "                [149, 158],\n",
       "                [185, 202],\n",
       "                [221, 246],\n",
       "                [293, 333],\n",
       "                [329, 377],\n",
       "                [365, 421],\n",
       "                [ 76, 104],\n",
       "                [113, 147],\n",
       "                [149, 191],\n",
       "                [329, 410],\n",
       "                [365, 454],\n",
       "                [ 76, 136],\n",
       "                [329, 443],\n",
       "                [365, 486],\n",
       "                [ 40, 125],\n",
       "                [161, 312],\n",
       "                [197, 355],\n",
       "                [ 89, 257],\n",
       "                [125, 301],\n",
       "                [161, 344],\n",
       "                [197, 388],\n",
       "                [233, 432],\n",
       "                [ 53, 246],\n",
       "                [ 89, 289],\n",
       "                [125, 333],\n",
       "                [161, 377],\n",
       "                [197, 421],\n",
       "                [233, 464],\n",
       "                [ 17, 235],\n",
       "                [ 53, 278],\n",
       "                [ 89, 322],\n",
       "                [125, 366],\n",
       "                [161, 410],\n",
       "                [197, 453],\n",
       "                [233, 497],\n",
       "                [ 17, 267],\n",
       "                [197, 486]])], dtype=object),\n",
       "  'intensities': array([array([5.83875856e-01, 2.86685811e+01, 5.59110504e-01, 1.37296942e+01,\n",
       "                7.87436907e+01, 1.19275530e+00, 5.92674298e-02, 4.36126252e-01,\n",
       "                5.21456156e-01, 4.10120291e+00, 2.51514442e+00, 2.61822930e+01,\n",
       "                7.35833036e-01, 1.05149093e+02, 3.24251284e+01, 6.94440033e+00,\n",
       "                1.58474542e+00, 2.54703615e+00, 1.38982390e+01, 1.08228883e-01,\n",
       "                2.26741772e+00, 2.43038964e+01, 8.41219648e-01, 3.01738676e+00,\n",
       "                2.55388507e+02, 8.90346758e-01, 4.15240349e-01, 8.57636800e-01,\n",
       "                6.30046290e+02, 4.05139202e-01, 5.79443610e-02, 7.76182560e-01,\n",
       "                3.45074560e-01, 3.58792377e+00, 6.28453625e+01, 1.56018335e+00,\n",
       "                4.85144773e+01, 9.82835726e-01, 3.75531694e-01, 5.46822666e+02,\n",
       "                3.87666514e+00, 4.16499419e+00, 1.92920764e+00, 2.04712419e+01,\n",
       "                1.90267738e+02, 4.67921461e+01, 2.49199841e+01, 1.06645031e+00,\n",
       "                5.05461241e-01, 6.50315242e-01, 4.01284265e+00, 2.34726033e+01,\n",
       "                3.66989288e-01, 4.71016883e-01, 1.11310262e-01, 1.53761480e+00,\n",
       "                8.73816473e+01, 1.88238919e+02, 4.95576265e-01, 2.82427995e+00,\n",
       "                9.20218941e-01, 4.07420193e+01, 1.13503325e+01, 6.99792212e-02,\n",
       "                2.25452410e+00, 5.28332721e+01])                               ,\n",
       "         array([4.40144434e-01, 4.21201619e-01, 4.19820179e+01, 4.57538722e-01,\n",
       "                6.61845426e-01, 5.49209192e-02, 5.06219236e+01, 2.32948005e-01,\n",
       "                1.00756966e+01, 4.29060061e+00, 5.95220389e-01, 6.13231279e-01,\n",
       "                1.38003560e+02, 4.05434170e+00, 1.84703680e+02, 1.80643476e+00,\n",
       "                7.70311777e+01, 1.28079897e+00, 7.50224509e+01, 3.11876948e-01,\n",
       "                3.52723999e+00, 4.86984093e-01, 2.96307151e-01, 2.64786840e+00,\n",
       "                6.17604242e-01, 9.90347460e-02, 1.00298330e+01, 6.94670542e+00,\n",
       "                2.10827142e+01, 8.59433830e+02, 1.05891238e+00, 3.41533723e-01,\n",
       "                9.73136308e+01, 2.05473812e+00, 7.34933968e+01, 8.04110939e+00,\n",
       "                3.69082237e-01, 3.51512438e+01, 1.10561155e+00, 1.43927392e-01,\n",
       "                5.44886670e+01, 1.08851356e+01, 2.08618970e+01, 2.72109485e-01,\n",
       "                9.04962555e-01, 1.41514703e+00, 6.23778138e+00, 2.40795349e+00,\n",
       "                7.02425809e+00, 2.94462083e-01, 3.98560914e+00, 2.54865134e+00,\n",
       "                4.11856432e-02, 5.75779215e-01, 4.49028197e+01, 7.10458649e-01,\n",
       "                1.20076995e+01, 1.70706266e-01, 1.06086403e+00])               ,\n",
       "         array([3.47256385e+00, 3.33762392e-01, 1.35588327e+00, 3.80250729e-01,\n",
       "                5.50409925e-01, 1.45006782e+01, 4.26326109e-01, 9.97437468e-01,\n",
       "                1.39319432e-01, 7.74909469e-02, 1.04194246e+01, 7.16427892e-01,\n",
       "                2.05735216e+00, 1.34707826e+00, 3.65047585e+00, 9.72264240e+00,\n",
       "                3.07359987e-01, 1.01145288e+00, 2.92593080e-01, 1.31184907e+01,\n",
       "                5.74846867e-01, 8.10573898e+01, 1.48799285e-01, 5.10233573e+02,\n",
       "                1.46696630e-01, 1.33784885e+00, 1.30569025e+00, 8.34646227e-01,\n",
       "                4.19145305e+00, 7.38954169e+02, 7.31874225e-01, 2.45172288e+00,\n",
       "                2.02905561e+00, 3.93471427e+00, 5.22087600e+01, 2.47942412e+01,\n",
       "                2.52190742e+02, 1.44645604e+00, 5.20083943e-01, 1.85127293e+00,\n",
       "                3.90252132e+02, 2.02928392e+01, 2.95001343e-01, 1.27580294e+01,\n",
       "                3.07788463e-01, 2.23394357e+00, 4.42266314e-01, 1.13785879e+02,\n",
       "                2.11893880e-01, 2.20873634e+02, 8.60496079e-02, 9.89360558e+01,\n",
       "                6.13725626e-02, 3.68475857e+00, 1.09737376e+01, 3.98183907e+00,\n",
       "                1.47654715e+00, 1.44026738e-01, 1.45521712e+01, 1.00208181e-01,\n",
       "                1.02935952e-01, 3.92395797e+01, 1.37653385e-01, 1.10925766e+00,\n",
       "                4.51443855e+00, 2.03492099e-01, 4.05474213e-01, 4.91889010e+01,\n",
       "                2.50597092e-01, 1.07600176e+00, 4.71911893e-02])               ,\n",
       "         array([3.63103709e+01, 3.04850247e-01, 9.67064104e-01, 1.11050557e+01,\n",
       "                6.32839669e-01, 2.02081411e-01, 1.54948420e-01, 5.46695189e+00,\n",
       "                1.94789583e+02, 2.39189967e-01, 6.44017676e-01, 8.59754183e-01,\n",
       "                5.86992579e-01, 2.65596763e+00, 6.66073963e+00, 2.27960938e+01,\n",
       "                1.53479133e-01, 4.54164262e-01, 4.23346808e-01, 2.21962492e-02,\n",
       "                4.97509545e-02, 3.71851072e+02, 1.13426537e+02, 7.38780762e-02,\n",
       "                4.60680526e-02, 1.93876012e-02, 4.89256487e-01, 5.08794884e+00,\n",
       "                1.45548633e+00, 7.14334768e+02, 8.10800270e+00, 2.77925585e+00,\n",
       "                1.78732332e+02, 2.83084856e+02, 1.87323288e+02, 2.78963684e+00,\n",
       "                1.86292474e-01, 1.54452626e+01, 1.71499056e+00, 1.97276362e-01,\n",
       "                6.12674041e+00, 4.57496439e+02, 1.35068751e+01, 7.88791784e+01,\n",
       "                2.02772938e+00, 3.98506827e+01, 1.80546158e+01, 5.41980996e-01,\n",
       "                7.59878615e-01, 2.43396402e-01, 1.40302606e+02, 1.84652126e+01,\n",
       "                6.01917021e+01, 3.01792541e+00, 2.50190627e+00, 9.70288138e+00,\n",
       "                3.16406779e-01, 1.50366235e+00, 6.96644865e-01, 4.15716496e+01,\n",
       "                8.06705179e-01, 1.79972589e-01, 5.24197143e-01, 8.80373307e-01,\n",
       "                5.89780701e-01, 7.10552945e-01, 4.53150426e+01, 5.79633527e-01,\n",
       "                5.55309677e-01])                                               ,\n",
       "         array([3.88383511e-01, 3.08640847e+01, 7.76311045e-02, 4.42263118e+01,\n",
       "                2.69383704e-01, 9.44359601e-02, 1.27889450e+01, 4.60472490e+00,\n",
       "                6.96552452e+01, 6.30960298e+00, 6.73278278e+01, 4.57901203e-01,\n",
       "                1.00187122e+00, 4.14088872e-01, 2.34002576e+02, 1.26128917e-01,\n",
       "                2.23293029e+01, 3.82037696e-01, 1.83862515e+02, 1.44549373e+01,\n",
       "                8.47776776e-02, 2.49017157e-01, 3.59857794e+00, 1.65234353e-01,\n",
       "                2.80474603e+00, 4.62689455e+00, 4.22076435e-01, 4.37192183e-01,\n",
       "                2.85575654e+01, 1.58074298e-01, 5.82723627e+00, 2.05319892e+00,\n",
       "                7.59305990e-02, 9.11130448e-02, 9.09589057e-02, 7.41900437e+01,\n",
       "                2.19519963e-01, 1.19514514e+02, 5.02158536e-01, 1.18298531e+02,\n",
       "                3.17096315e-01, 5.85763304e-01, 6.60760663e-01, 2.46633623e-01,\n",
       "                3.11689807e+02, 2.02334835e+01, 9.54262158e+01, 1.28181347e-01,\n",
       "                9.91119213e-01, 1.61909878e+00, 8.59360347e+00, 5.49126209e-01,\n",
       "                1.72133271e+00, 2.94700712e+01, 2.19639021e+01, 7.88320183e-02,\n",
       "                5.44820967e+01, 3.38014170e-01, 4.06643856e-01, 1.81332761e-02,\n",
       "                3.59816106e-01, 2.71358023e-01])                               ,\n",
       "         array([1.34854638e+01, 2.66768184e+00, 2.01091432e-01, 2.58253213e+00,\n",
       "                7.16030653e-02, 2.78289266e+00, 4.71506091e-01, 4.05761633e+01,\n",
       "                9.70067515e-02, 2.72573303e+01, 8.53567941e+00, 2.92909886e+00,\n",
       "                5.94361383e+01, 8.85792279e-01, 8.72108679e+00, 2.69373511e-01,\n",
       "                1.61074222e-01, 5.69988327e+01, 2.91678612e-02, 2.53237012e-01,\n",
       "                2.83795026e+02, 9.86077351e+01, 4.71117338e-01, 1.61319645e-01,\n",
       "                3.24387727e+00, 4.63607193e+00, 3.42940890e+00, 1.41006539e+02,\n",
       "                2.93094884e-01, 4.47120114e-01, 3.19693719e+01, 2.41337521e+01,\n",
       "                7.84205108e+01, 7.23340770e+01, 8.52975286e+00, 1.12013113e+00,\n",
       "                2.54830817e+00, 7.65652231e-02, 2.17582527e+02, 8.17612410e-02,\n",
       "                6.02327238e-01, 5.50637294e-01, 1.21326231e+02, 1.90989600e+02,\n",
       "                7.29421609e-02, 3.94111076e+00, 3.44769924e-02, 1.02684630e-01,\n",
       "                4.93798150e+00, 2.36057570e-01, 1.01989970e+00, 6.30494865e+01,\n",
       "                2.32066131e+00, 2.34102775e+00, 4.06795390e+00, 2.54465104e-01,\n",
       "                2.23430489e-01, 7.98900672e+00, 2.66665985e+01, 1.63647933e-01,\n",
       "                1.23520467e+00, 6.47893989e-01, 3.62625366e+00])               ,\n",
       "         array([1.61435473e+01, 4.56657326e-01, 4.67058031e+00, 1.06807659e+02,\n",
       "                5.30594124e-01, 2.32059482e-01, 8.70653219e-01, 4.93233406e-01,\n",
       "                7.04118178e+00, 6.23622032e-01, 1.62171824e+00, 1.96873523e+01,\n",
       "                1.06280979e+02, 3.08241301e+00, 1.48915402e+00, 9.39678010e-01,\n",
       "                3.72353886e+01, 1.08076035e+01, 1.58656435e+00, 2.53715530e+00,\n",
       "                3.04788371e-01, 6.10518269e-01, 5.83113477e-01, 3.90622358e-01,\n",
       "                7.26271060e+00, 1.17411539e-01, 5.50945554e-01, 8.39828348e-01,\n",
       "                4.86443768e-01, 3.17270298e+00, 4.13836685e+01, 1.16561872e-01,\n",
       "                1.18828340e+02, 1.15855575e+00, 7.99478847e-02, 7.63838961e-01,\n",
       "                3.89747988e+00, 5.06488829e-01, 1.22501650e+02, 1.57302202e+00,\n",
       "                1.07779101e+01, 2.82533914e+02, 2.05293113e+00, 3.02110373e+02,\n",
       "                1.36581256e-01, 2.89615189e+02, 3.33463033e+00, 5.38377454e+01,\n",
       "                5.90605612e-01, 7.64579855e+00, 1.37597925e+00, 1.08094452e+02,\n",
       "                4.20333152e+01, 1.72068817e+00, 2.61805113e-01, 1.22271266e+00,\n",
       "                1.44007480e+02, 6.74029484e+00, 7.85840376e-01, 1.57225693e+02,\n",
       "                5.37383839e-01, 1.54778450e-01, 6.57263814e-01, 3.62030607e-01,\n",
       "                7.69900185e-01, 3.27668042e+00, 2.34507961e+01, 5.96537191e+00,\n",
       "                6.58301320e-01, 1.62771720e+00, 4.91380038e+00, 8.68009441e-01,\n",
       "                2.11261190e-01, 3.96001640e-02])                               ,\n",
       "         array([2.63405854e+01, 1.04147748e-01, 2.48808396e+01, 8.42570260e+00,\n",
       "                1.25898347e+02, 8.46651330e-01, 4.70726458e+00, 1.33282537e+00,\n",
       "                2.93283065e+02, 4.68719592e-01, 8.33989381e-01, 4.80113965e-01,\n",
       "                9.05369687e+01, 8.62139593e-01, 2.93694054e+02, 1.44453559e+02,\n",
       "                2.17793725e-01, 2.14080957e+01, 9.17686619e-02, 4.06718054e-01,\n",
       "                1.86288169e+03, 3.14374548e+00, 2.74612856e+01, 1.51447205e+00,\n",
       "                1.00892172e+03, 3.19270398e-01, 1.57970101e+00, 2.45685288e-02,\n",
       "                6.53709809e+01, 1.38141262e+00, 1.17558711e+03, 6.43499689e+02,\n",
       "                1.33856280e+00, 2.16895364e+02, 1.41238766e+00, 2.74173670e+01,\n",
       "                2.05041642e-01, 6.38899644e+00, 1.93197999e+01, 8.40080724e+02,\n",
       "                1.37296441e+00, 1.94918625e-01, 2.60554498e+02, 1.33885592e+03,\n",
       "                2.69374642e+00, 3.03035211e+02, 2.96610896e+00, 1.51956762e+02,\n",
       "                1.89257783e+00, 1.49039614e+01, 2.56403198e-01, 1.31320941e+01,\n",
       "                3.76590089e+00, 3.81702313e+03, 1.55386248e+00, 1.23705673e+01,\n",
       "                6.03319783e-01, 4.96088941e+02, 1.09827229e-01, 5.84380613e-01,\n",
       "                2.47787409e+02, 2.16629945e+00, 4.30823343e+02, 4.16296493e+00,\n",
       "                1.96727933e+02, 4.33374050e+00, 5.83735518e+01, 8.08660868e-01,\n",
       "                4.55836958e+00, 7.59337138e-01, 8.33888433e+00, 4.41766673e+00,\n",
       "                1.33881408e+03, 2.98538442e+00, 9.53149707e+00, 9.51521375e-01,\n",
       "                9.68636321e+01, 8.05655778e-02, 1.14516809e-01, 7.85473688e+01,\n",
       "                1.86740359e+00, 1.38235712e+02, 3.40040413e+00, 6.67443877e+01,\n",
       "                1.27842884e+00, 7.93838579e+00, 5.53951905e-01, 2.19952945e+00,\n",
       "                1.49037786e+00, 2.15985790e+02, 1.04321317e+00, 1.46668699e+00,\n",
       "                2.20664629e-01, 1.49270951e+01, 4.94032751e-01, 1.45591762e+01,\n",
       "                5.47344358e-01, 6.93341789e+00, 3.11548521e-01, 2.18036554e+01]),\n",
       "         array([1.21051109e+01, 2.38091007e+00, 3.77140569e+00, 3.87853241e-01,\n",
       "                1.63821902e+01, 3.83974349e-01, 2.12323038e+00, 2.70553365e+00,\n",
       "                8.55616385e+00, 1.00427685e-01, 4.90995138e-01, 7.00252425e+01,\n",
       "                9.93194719e-01, 1.88843880e+00, 5.69390329e+00, 3.35025950e-01,\n",
       "                2.81192308e+00, 1.18657134e+00, 1.37020907e+01, 1.12136961e-01,\n",
       "                2.28080016e+00, 1.33357477e-01, 7.90803101e-01, 3.28288503e-01,\n",
       "                2.12193517e+01, 2.01862697e-01, 1.22216246e+02, 3.88319363e+00,\n",
       "                4.11738292e+01, 5.89636716e-02, 2.10706715e+00, 2.69362255e-01,\n",
       "                3.56153927e+01, 1.47251097e+00, 5.67214255e+01, 2.76355925e-01,\n",
       "                1.26708591e+02, 1.11511232e-01, 2.67612376e+01, 1.74591068e-01,\n",
       "                2.40329247e+02, 2.49583444e+00, 2.49111902e-01, 3.43304162e+00,\n",
       "                1.12824813e+00, 3.30444110e-01, 3.28681560e+02, 1.45826860e+00,\n",
       "                3.07696165e+00, 3.61471253e+01, 2.30649205e+01, 2.15433121e+00,\n",
       "                2.10630517e+01, 7.23544006e+01, 4.32167684e-01, 3.30723692e-02,\n",
       "                9.19094094e-01, 1.02216917e+00, 2.58399786e+00, 3.03563274e-01,\n",
       "                4.66324291e+00, 3.24397767e+00, 1.15547957e-01, 6.59375235e+00,\n",
       "                8.43022164e-01, 3.75134465e+01, 3.30314236e+00, 5.12145620e-01]),\n",
       "         array([6.68392480e-01, 5.31567629e-01, 2.49114979e+00, 1.13988940e+00,\n",
       "                7.91304464e-01, 2.87266513e+00, 6.12016096e-01, 7.82320707e-01,\n",
       "                1.48369299e+00, 3.36392509e-01, 3.47525748e+01, 5.89797131e-01,\n",
       "                2.25215527e+02, 1.16694654e+00, 1.26748193e+01, 1.61066300e-01,\n",
       "                1.16296507e+02, 7.95118185e-01, 4.78716043e+01, 6.74117962e-01,\n",
       "                5.20650264e+01, 1.05983573e+00, 2.68446857e+00, 1.00639418e-01,\n",
       "                1.82516020e+01, 2.17784540e+01, 3.17402385e-01, 1.18679987e-01,\n",
       "                5.24727774e+00, 2.80136497e+00, 3.95201334e+00, 6.33092594e+00,\n",
       "                5.27196646e-01, 6.81621284e+00, 4.72701010e+00, 5.53780659e-01,\n",
       "                6.58099028e-01, 1.61222842e-02, 4.16240011e+00, 7.78022802e-02,\n",
       "                1.21354627e+02, 6.87640138e-02, 1.50635570e+00, 2.53427963e-02,\n",
       "                1.71207772e+00, 8.66032205e-01, 3.04280738e+01, 9.59593884e-02,\n",
       "                4.32140291e-01, 5.13033090e+01, 3.82741690e+00, 5.97955688e+01,\n",
       "                3.92592208e-01, 4.38070175e-01, 1.10268057e+02, 9.59722294e-01,\n",
       "                6.51334426e+01, 3.12721528e-01, 1.88551498e+01, 6.53460010e-01,\n",
       "                2.34409885e+01, 7.72683287e-01, 1.09142060e+01, 6.80168302e-01,\n",
       "                1.63456094e+01, 1.23039380e+00, 1.79741488e+01, 2.57421975e-02])],\n",
       "        dtype=object)}}"
      ]
     },
     "execution_count": 20,
     "metadata": {},
     "output_type": "execute_result"
    }
   ],
   "source": [
    "library"
   ]
  },
  {
   "cell_type": "code",
   "execution_count": 3,
   "metadata": {
    "collapsed": false,
    "jupyter": {
     "outputs_hidden": false
    },
    "pycharm": {
     "is_executing": true,
     "name": "#%%\n"
    }
   },
   "outputs": [
    {
     "ename": "NameError",
     "evalue": "name 'library' is not defined",
     "output_type": "error",
     "traceback": [
      "\u001b[0;31m---------------------------------------------------------------------------\u001b[0m",
      "\u001b[0;31mNameError\u001b[0m                                 Traceback (most recent call last)",
      "\u001b[0;32m/var/folders/z3/ym7_vbgd7mbdj7g3t95hznjr0000gn/T/ipykernel_31670/4087653978.py\u001b[0m in \u001b[0;36m<module>\u001b[0;34m\u001b[0m\n\u001b[1;32m     13\u001b[0m \u001b[0;34m\u001b[0m\u001b[0m\n\u001b[1;32m     14\u001b[0m \u001b[0;32mdel\u001b[0m \u001b[0mdata\u001b[0m\u001b[0;34m\u001b[0m\u001b[0;34m\u001b[0m\u001b[0m\n\u001b[0;32m---> 15\u001b[0;31m \u001b[0;32mdel\u001b[0m \u001b[0mlibrary\u001b[0m\u001b[0;34m\u001b[0m\u001b[0;34m\u001b[0m\u001b[0m\n\u001b[0m\u001b[1;32m     16\u001b[0m \u001b[0;32mdel\u001b[0m \u001b[0mlist_data\u001b[0m\u001b[0;34m\u001b[0m\u001b[0;34m\u001b[0m\u001b[0m\n\u001b[1;32m     17\u001b[0m \u001b[0mgc\u001b[0m\u001b[0;34m.\u001b[0m\u001b[0mcollect\u001b[0m\u001b[0;34m(\u001b[0m\u001b[0;34m)\u001b[0m\u001b[0;34m\u001b[0m\u001b[0;34m\u001b[0m\u001b[0m\n",
      "\u001b[0;31mNameError\u001b[0m: name 'library' is not defined"
     ]
    }
   ],
   "source": [
    "# Stack data\n",
    "import dask.array as da\n",
    "\n",
    "for i, value in enumerate(data.values()):\n",
    "    list_data = da.from_array([x.data for x in value], chunks=(10, detector_size, detector_size))\n",
    "\n",
    "    if i ==0:\n",
    "        #list_data = np.expand_dims(list_data, 1)\n",
    "        training_data = list_data\n",
    "    else:\n",
    "        #list_data = np.expand_dims(list_data, 1)\n",
    "        training_data = da.vstack([training_data, list_data],)\n",
    "\n",
    "del data\n",
    "del library\n",
    "del list_data\n",
    "gc.collect()\n",
    "\n",
    "shape = (len(phase_dict.keys()),\n",
    "         n_angle_points*len(relrod_list)*len(spot_spread_list)*len(simulated_direct_beam_bool),\n",
    "         detector_size,\n",
    "         detector_size)\n",
    "\n",
    "training_data = training_data.reshape(shape)\n",
    "training_data = pxm.LazyElectronDiffraction2D(training_data)\n",
    "training_data.set_diffraction_calibration(calibration)\n",
    "print(training_data)"
   ]
  },
  {
   "cell_type": "code",
   "execution_count": null,
   "metadata": {},
   "outputs": [],
   "source": [
    "l"
   ]
  },
  {
   "cell_type": "markdown",
   "metadata": {},
   "source": [
    "## Recenter"
   ]
  },
  {
   "cell_type": "code",
   "execution_count": null,
   "metadata": {
    "collapsed": false,
    "jupyter": {
     "outputs_hidden": false
    },
    "pycharm": {
     "is_executing": true,
     "name": "#%%\n"
    }
   },
   "outputs": [],
   "source": [
    "shiftList = np.zeros((np.size(training_data.data,0),\n",
    "                      np.size(training_data.data,1),\n",
    "                      2,)\n",
    "                     )\n",
    "\n",
    "shiftList[:,:,0]=0.5\n",
    "shiftList[:,:,1]=0.5\n",
    "\n",
    "shiftList = shiftList.reshape(-1, shiftList.shape[-1]) # Flatten the 2D navigtion axis\n",
    "\n",
    "training_data.compute()\n",
    "training_data.align2D(shifts=shiftList,crop=False,fill_value=0., parallel=True)"
   ]
  },
  {
   "cell_type": "code",
   "execution_count": null,
   "metadata": {
    "collapsed": false,
    "jupyter": {
     "outputs_hidden": false
    },
    "pycharm": {
     "is_executing": true,
     "name": "#%%\n"
    }
   },
   "outputs": [],
   "source": [
    "if save_hspy_files:\n",
    "    name = '2D_hspy_simdata_{}classes_{}neuler_{}cal_{}relrod_{}spotsize.hspy'.format(\n",
    "        len(phase_dict), n_angle_points, calibration, relrod_list, spot_spread_list)\n",
    "\n",
    "    training_data.save(name, overwrite=True)\n",
    "if plot_hspy_files:\n",
    "    training_data.plot(cmap='viridis')\n",
    "\n",
    "print(training_data)"
   ]
  },
  {
   "cell_type": "markdown",
   "metadata": {},
   "source": [
    "## Add background phase (without signal)\n",
    "\n",
    "Create a blank detector in which noise and a bkg will be added."
   ]
  },
  {
   "cell_type": "code",
   "execution_count": null,
   "metadata": {
    "collapsed": false,
    "jupyter": {
     "outputs_hidden": false
    },
    "pycharm": {
     "is_executing": true,
     "name": "#%%\n"
    }
   },
   "outputs": [],
   "source": [
    "# Only if `add_bkg_phase` is True. Otherwise no changes.\n",
    "if add_bkg_phase:\n",
    "    # Add phase in the dictionary\n",
    "    phase_dict['bkg_phase'] = []\n",
    "\n",
    "    # Create blank detector\n",
    "    shape_blank = np.shape(training_data,)[1:]\n",
    "    shape_blank = (1,) + shape_blank\n",
    "    blank = pxm.signals.electron_diffraction2d.ElectronDiffraction2D(np.zeros(shape_blank))\n",
    "    training_data = hs.stack([training_data, blank], axis=1)\n",
    "\n",
    "print(len(phase_dict))\n",
    "training_data.data.shape\n"
   ]
  },
  {
   "cell_type": "markdown",
   "metadata": {},
   "source": [
    "## Add noise\n",
    "\n",
    "In two steps:\n",
    "- S&P noise\n",
    "- Poisson noise"
   ]
  },
  {
   "cell_type": "code",
   "execution_count": 4,
   "metadata": {
    "collapsed": false,
    "jupyter": {
     "outputs_hidden": false
    },
    "pycharm": {
     "is_executing": true,
     "name": "#%%\n"
    }
   },
   "outputs": [],
   "source": [
    "def add_noise_to_simulation(simulation_arr, snr, int_salt,):\n",
    "\n",
    "    import numpy as np\n",
    "\n",
    "    # Salt and pepper\n",
    "    def addsalt_pepper(dp_arr, snr, int_min = 0, int_max = int_salt,):\n",
    "\n",
    "        p0 = snr\n",
    "        # Add noise\n",
    "        size = np.shape(dp_arr)\n",
    "        mask = np.random.choice(a=(0, 1, 2),\n",
    "                                size=size,\n",
    "                                p=[p0, (1 - p0) / 2., (1 - p0) / 2.])\n",
    "\n",
    "        im = dp_arr.copy()\n",
    "        #im[mask == 1] = int_min # salt noise\n",
    "        im[mask == 2] = int_max # pepper noise\n",
    "\n",
    "        return im\n",
    "\n",
    "    # Add poisson noise on sp noise and normalise\n",
    "    im = simulation_arr.copy()\n",
    "    im += np.random.poisson(im)\n",
    "\n",
    "    max = im.max()\n",
    "    if max == 0:\n",
    "        im = im\n",
    "    else:\n",
    "        im = im / im.max()\n",
    "\n",
    "    # Add bright spots randomly accross detector\n",
    "    im_sp = addsalt_pepper(im, snr,)\n",
    "\n",
    "    return im_sp"
   ]
  },
  {
   "cell_type": "code",
   "execution_count": 5,
   "metadata": {
    "collapsed": false,
    "jupyter": {
     "outputs_hidden": false
    },
    "pycharm": {
     "is_executing": true,
     "name": "#%%\n"
    }
   },
   "outputs": [
    {
     "ename": "NameError",
     "evalue": "name 'add_noise' is not defined",
     "output_type": "error",
     "traceback": [
      "\u001b[0;31m---------------------------------------------------------------------------\u001b[0m",
      "\u001b[0;31mNameError\u001b[0m                                 Traceback (most recent call last)",
      "\u001b[0;32m/var/folders/z3/ym7_vbgd7mbdj7g3t95hznjr0000gn/T/ipykernel_31670/2676339999.py\u001b[0m in \u001b[0;36m<module>\u001b[0;34m\u001b[0m\n\u001b[1;32m      1\u001b[0m \u001b[0;31m# Map the noise addition function on signal\u001b[0m\u001b[0;34m\u001b[0m\u001b[0;34m\u001b[0m\u001b[0m\n\u001b[0;32m----> 2\u001b[0;31m \u001b[0;32mif\u001b[0m \u001b[0madd_noise\u001b[0m\u001b[0;34m:\u001b[0m\u001b[0;34m\u001b[0m\u001b[0;34m\u001b[0m\u001b[0m\n\u001b[0m\u001b[1;32m      3\u001b[0m     \u001b[0mtraining_data_noisy\u001b[0m \u001b[0;34m=\u001b[0m \u001b[0;34m[\u001b[0m\u001b[0;34m]\u001b[0m\u001b[0;34m\u001b[0m\u001b[0;34m\u001b[0m\u001b[0m\n\u001b[1;32m      4\u001b[0m \u001b[0;34m\u001b[0m\u001b[0m\n\u001b[1;32m      5\u001b[0m     \u001b[0;31m# Include the non-corrupted data in the dataset?\u001b[0m\u001b[0;34m\u001b[0m\u001b[0;34m\u001b[0m\u001b[0m\n",
      "\u001b[0;31mNameError\u001b[0m: name 'add_noise' is not defined"
     ]
    }
   ],
   "source": [
    "# Map the noise addition function on signal\n",
    "if add_noise:\n",
    "    training_data_noisy = []\n",
    "\n",
    "    # Include the non-corrupted data in the dataset?\n",
    "    if include_also_non_noisy_simulation:\n",
    "        training_data_noisy.append(training_data)\n",
    "\n",
    "    # Append noisy data\n",
    "    for snr in snrs:\n",
    "        for int_spike in intensity_spikes:\n",
    "\n",
    "            signal_noisy = training_data.map(add_noise_to_simulation,\n",
    "                                             snr=snr, int_salt=int_spike,\n",
    "                                             inplace=False, parallel=True)\n",
    "\n",
    "            training_data_noisy.append(signal_noisy)\n",
    "\n",
    "    del training_data\n",
    "    del signal_noisy\n",
    "    gc.collect()\n",
    "\n",
    "    training_data_noisy = hs.stack(training_data_noisy, axis=0)\n",
    "\n",
    "else:\n",
    "    # No noise addition\n",
    "    training_data_noisy = training_data"
   ]
  },
  {
   "cell_type": "code",
   "execution_count": null,
   "metadata": {
    "collapsed": false,
    "jupyter": {
     "outputs_hidden": false
    },
    "pycharm": {
     "is_executing": true,
     "name": "#%%\n"
    }
   },
   "outputs": [],
   "source": [
    "if save_hspy_files and add_noise:\n",
    "    name = '2D_hspy_simdata_{}classes_{}neuler_{}cal_{}relrod_{}spotsize_withNoise.hspy'.format(\n",
    "        len(phase_dict), n_angle_points, calibration, relrod_list, spot_spread_list)\n",
    "\n",
    "    training_data_noisy.save(name, overwrite=True)\n",
    "if plot_hspy_files and add_noise:\n",
    "    training_data_noisy.plot(cmap='viridis')\n",
    "\n",
    "print(training_data_noisy)"
   ]
  },
  {
   "cell_type": "markdown",
   "metadata": {},
   "source": [
    "## Integrate radially 2D (cake data)"
   ]
  },
  {
   "cell_type": "code",
   "execution_count": null,
   "metadata": {
    "collapsed": false,
    "jupyter": {
     "outputs_hidden": false
    },
    "pycharm": {
     "is_executing": true,
     "name": "#%%\n"
    }
   },
   "outputs": [],
   "source": [
    "camera_length = detector_pix_size / (wavelength * calibration * 1e10)\n",
    "training_data_noisy.unit = \"k_A^-1\"\n",
    "training_data_noisy.set_experimental_parameters(beam_energy=beam_energy)\n",
    "radial_steps = int(np.ceil((int(detector_size/2) - 1)/2)*2)\n",
    "training_data_2D = training_data_noisy.get_azimuthal_integral2d(npt_rad=radial_steps,\n",
    "                                                          center=([detector_size/2,detector_size/2]),\n",
    "                                                          detector=detector,\n",
    "                                                          detector_dist=camera_length,\n",
    "                                                          map_kwargs={'parallel':True})\n",
    "print(training_data_2D)\n"
   ]
  },
  {
   "cell_type": "markdown",
   "metadata": {},
   "source": [
    "## Integrate radially 1D"
   ]
  },
  {
   "cell_type": "code",
   "execution_count": null,
   "metadata": {
    "collapsed": false,
    "jupyter": {
     "outputs_hidden": false
    },
    "pycharm": {
     "is_executing": true,
     "name": "#%%\n"
    }
   },
   "outputs": [],
   "source": [
    "camera_length = detector_pix_size / (wavelength * calibration * 1e10)\n",
    "training_data_noisy.unit = \"k_A^-1\"\n",
    "training_data_noisy.set_experimental_parameters(beam_energy=beam_energy)\n",
    "radial_steps = int(np.ceil((int(detector_size/2) - 1)/2)*2)\n",
    "training_data_1D = training_data_noisy.get_azimuthal_integral1d(npt_rad=radial_steps,\n",
    "                                                          center=([detector_size/2,detector_size/2]),\n",
    "                                                          detector=detector,\n",
    "                                                          detector_dist=camera_length,\n",
    "                                                          map_kwargs={'parallel':True})\n",
    "print(training_data_1D)\n",
    "\n",
    "del training_data_noisy\n",
    "gc.collect()"
   ]
  },
  {
   "cell_type": "code",
   "execution_count": null,
   "metadata": {
    "collapsed": false,
    "jupyter": {
     "outputs_hidden": false
    },
    "pycharm": {
     "is_executing": true,
     "name": "#%%\n"
    }
   },
   "outputs": [],
   "source": [
    "if save_hspy_files:\n",
    "    name = '1D_hspy_simdata_{}classes_{}neuler_{}cal_{}relrod_{}spotsize.hspy'.format(\n",
    "        len(phase_dict), n_angle_points, calibration, relrod_list, spot_spread_list)\n",
    "\n",
    "    training_data_1D.save(name, overwrite=True)\n",
    "if plot_hspy_files:\n",
    "    training_data_1D.plot()\n",
    "\n",
    "print(training_data_1D)"
   ]
  },
  {
   "cell_type": "markdown",
   "metadata": {},
   "source": [
    "## Normalise (and sqrt)"
   ]
  },
  {
   "cell_type": "code",
   "execution_count": null,
   "metadata": {
    "collapsed": false,
    "jupyter": {
     "outputs_hidden": false
    },
    "pycharm": {
     "is_executing": true,
     "name": "#%%\n"
    }
   },
   "outputs": [],
   "source": [
    "# 2D cake dataset\n",
    "# Sqrt signal (if wanted)\n",
    "if sqrt_signal:\n",
    "    training_data_2D.data = np.sqrt(training_data_2D.data)\n",
    "\n",
    "# Normalise\n",
    "def norm_2d(arr):\n",
    "    return arr / arr.max()\n",
    "\n",
    "training_data_2D_norm = training_data_2D.map(norm_2d, inplace=False)\n",
    "training_data_2D_norm = training_data_2D_norm.data\n",
    "\n",
    "# Correct any nan value\n",
    "nan_mask = np.isnan(training_data_2D_norm)\n",
    "training_data_2D_norm[nan_mask] = 0\n",
    "\n",
    "print(training_data_2D_norm.shape)"
   ]
  },
  {
   "cell_type": "code",
   "execution_count": null,
   "metadata": {
    "collapsed": false,
    "jupyter": {
     "outputs_hidden": false
    },
    "pycharm": {
     "is_executing": true,
     "name": "#%%\n"
    }
   },
   "outputs": [],
   "source": [
    "# 1D dataset\n",
    "# Sqrt signal (if wanted)\n",
    "if sqrt_signal:\n",
    "    training_data_1D.data = np.sqrt(training_data_1D.data)\n",
    "\n",
    "# Normalise\n",
    "dpmax = training_data_1D.data.max(2)\n",
    "training_data_1D_norm = training_data_1D.data/dpmax[:,:,np.newaxis]\n",
    "\n",
    "# Correct any nan value\n",
    "nan_mask = np.isnan(training_data_1D_norm)\n",
    "training_data_1D_norm[nan_mask] = 0\n",
    "\n",
    "print(training_data_1D_norm.shape)"
   ]
  },
  {
   "cell_type": "markdown",
   "metadata": {},
   "source": [
    "## Add simulated background\n",
    "\n",
    "Approximate background as a $A*exp^{(-tau \\: q)}$ value."
   ]
  },
  {
   "cell_type": "code",
   "execution_count": null,
   "metadata": {
    "collapsed": false,
    "jupyter": {
     "outputs_hidden": false
    },
    "pycharm": {
     "is_executing": true,
     "name": "#%%\n"
    }
   },
   "outputs": [],
   "source": [
    "def add_background_to_signal_array(normalised_sim_data_array, x_axis,\n",
    "                                     a_val, tau_val, bkg_function='exp_decay', dimensions=1):\n",
    "    \"\"\"\n",
    "    :param normalised_sim_data_array:\n",
    "        The normalised 1d signal array (nav axis should be (points, phases, q))\n",
    "    :param x_axis: array of the actual q values\n",
    "        The A and tau values are optimised for 1/A-1 magnitude\n",
    "    :return: extended signal with new sets of sim data without and with bakgrounds\n",
    "    \"\"\"\n",
    "    def inv_q(x, A, tau):\n",
    "        return A * x**(-tau)\n",
    "\n",
    "    def exp_decay(x, A, tau):\n",
    "        return A * np.exp(- tau * x)\n",
    "\n",
    "    if bkg_function == 'exp_decay':\n",
    "        bkg = exp_decay(x_axis, a_val, tau_val)\n",
    "    elif bkg_function == 'inv_q':\n",
    "        bkg = inv_q(x_axis, a_val, tau_val)\n",
    "\n",
    "    if dimensions == 1:\n",
    "        return normalised_sim_data_array + bkg\n",
    "\n",
    "    elif dimensions == 2:\n",
    "        n = normalised_sim_data_array.shape[-1]\n",
    "        bkg = np.tile(bkg, (n,1)).T\n",
    "        return normalised_sim_data_array + bkg"
   ]
  },
  {
   "cell_type": "code",
   "execution_count": null,
   "metadata": {
    "collapsed": false,
    "jupyter": {
     "outputs_hidden": false
    },
    "pycharm": {
     "is_executing": true,
     "name": "#%%\n"
    }
   },
   "outputs": [],
   "source": [
    "# For 2D cake dataset\n",
    "# Expand datasets by copying and adding bkg\n",
    "training_data_2D_norm_bkg = training_data_2D_norm\n",
    "\n",
    "if add_background_to == 'all':\n",
    "    # Get the x-axis values from which to calculate bkg\n",
    "    qs = training_data_2D.axes_manager.signal_axes[1].axis\n",
    "    qs\n",
    "\n",
    "    # Add bkg to signal\n",
    "    for a in a_vals:\n",
    "        for tau in tau_vals:\n",
    "            bkg_data = add_background_to_signal_array(training_data_2D_norm, qs, a, tau, dimensions=2)\n",
    "            training_data_2D_norm_bkg = np.hstack((training_data_2D_norm_bkg, bkg_data))\n",
    "\n",
    "\n",
    "training_data_2D_norm_bkg.shape"
   ]
  },
  {
   "cell_type": "code",
   "execution_count": null,
   "metadata": {
    "collapsed": false,
    "jupyter": {
     "outputs_hidden": false
    },
    "pycharm": {
     "is_executing": true,
     "name": "#%%\n"
    }
   },
   "outputs": [],
   "source": [
    "# For 1D dataset\n",
    "# Expand datasets by copying and adding bkg\n",
    "training_data_1D_norm_bkg = training_data_1D_norm\n",
    "\n",
    "if add_background_to != 'none':\n",
    "    # Get the x-axis values from which to calculate bkg\n",
    "    qs = training_data_1D.axes_manager.signal_axes[0].axis\n",
    "    qs\n",
    "\n",
    "    # Add bkg to signal\n",
    "    for a in a_vals:\n",
    "        for tau in tau_vals:\n",
    "            bkg_data = add_background_to_signal_array(training_data_1D_norm, qs, a, tau)\n",
    "            training_data_1D_norm_bkg = np.hstack((training_data_1D_norm_bkg, bkg_data))\n",
    "\n",
    "    del bkg_data\n",
    "    gc.collect()\n",
    "\n",
    "training_data_1D_norm_bkg.shape"
   ]
  },
  {
   "cell_type": "markdown",
   "metadata": {},
   "source": [
    "## Crop, rebin and renormalise\n",
    "\n",
    "Crop both in terms of q (rebin but no shift) and pixel values (shift but no rebin)."
   ]
  },
  {
   "cell_type": "code",
   "execution_count": null,
   "metadata": {
    "collapsed": false,
    "jupyter": {
     "outputs_hidden": false
    },
    "pycharm": {
     "is_executing": true,
     "name": "#%%\n"
    }
   },
   "outputs": [],
   "source": [
    "# 2D cake dataset\n",
    "training_data_2D_norm_bkg = hs.signals.Signal2D(training_data_2D_norm_bkg)\n",
    "\n",
    "# Crop in pixel units:\n",
    "training_data_2D_px = training_data_2D_norm_bkg.isig[:, cropping_start_px: cropping_stop_px]\n",
    "\n",
    "# Renormalise data\n",
    "def norm_2d(arr):\n",
    "    return arr / arr.max()\n",
    "\n",
    "training_data_2D_px.map(norm_2d, inplace=True)\n",
    "training_data_2D_px = training_data_2D_px.data\n",
    "\n",
    "# In k units:\n",
    "# Recreate .hspy object to crop with k units\n",
    "scale = training_data_2D.axes_manager.signal_axes[1].scale\n",
    "offset = training_data_2D.axes_manager.signal_axes[1].offset\n",
    "training_data_2D_norm_bkg.axes_manager.signal_axes[1].scale = scale\n",
    "training_data_2D_norm_bkg.axes_manager.signal_axes[1].offset = offset\n",
    "\n",
    "# Crop in k units\n",
    "training_data_2D_norm_bkg.crop(axis = 3, start = cropping_start_k, end = cropping_stop_k)\n",
    "# Rebin the k units\n",
    "scale_rebin = training_data_2D_norm_bkg.data.shape[-2] / cropped_signal_k_points\n",
    "\n",
    "training_data_2D_q = training_data_2D_norm_bkg.rebin(scale=(1,1,1,scale_rebin))\n",
    "\n",
    "# Renormalise data\n",
    "training_data_2D_q.map(norm_2d, inplace=True)\n",
    "training_data_2D_q = training_data_2D_q.data\n",
    "\n",
    "del training_data_2D\n",
    "del training_data_2D_norm\n",
    "del training_data_2D_norm_bkg\n",
    "gc.collect()\n",
    "\n",
    "print(training_data_2D_q.shape)\n",
    "print(training_data_2D_px.shape)"
   ]
  },
  {
   "cell_type": "code",
   "execution_count": null,
   "metadata": {
    "collapsed": false,
    "jupyter": {
     "outputs_hidden": false
    },
    "pycharm": {
     "is_executing": true,
     "name": "#%%\n"
    }
   },
   "outputs": [],
   "source": [
    "# 1D dataset\n",
    "training_data_1D_norm_bkg = hs.signals.Signal1D(training_data_1D_norm_bkg)\n",
    "\n",
    "training_data_1D_px = training_data_1D_norm_bkg.deepcopy()\n",
    "\n",
    "# Recreate .hspy object to crop with k units\n",
    "scale = training_data_1D.axes_manager.signal_axes[0].scale\n",
    "offset = training_data_1D.axes_manager.signal_axes[0].offset\n",
    "training_data_1D_norm_bkg.axes_manager.signal_axes[0].scale = scale\n",
    "training_data_1D_norm_bkg.axes_manager.signal_axes[0].offset = offset\n",
    "\n",
    "training_data_1D_q = training_data_1D_norm_bkg.deepcopy()\n",
    "\n",
    "del training_data_1D\n",
    "del training_data_1D_norm\n",
    "del training_data_1D_norm_bkg\n",
    "gc.collect()\n",
    "\n",
    "# In k units:\n",
    "# Crop in k units\n",
    "training_data_1D_q.crop_signal1D(cropping_start_k, cropping_stop_k)\n",
    "# Rebin\n",
    "scale_rebin = training_data_1D_q.data.shape[-1] / cropped_signal_k_points\n",
    "scale_rebin\n",
    "training_data_1D_q = training_data_1D_q.rebin(scale=(1,1,scale_rebin))\n",
    "# Renormalise data\n",
    "dpmax = training_data_1D_q.data.max(-1)\n",
    "training_data_1D_q = training_data_1D_q.data/dpmax[:,:,np.newaxis]\n",
    "\n",
    "# In pixel units:\n",
    "# Crop in pixel units\n",
    "training_data_1D_px.crop_signal1D(cropping_start_px, cropping_stop_px)\n",
    "# Renormalise data\n",
    "dpmax = training_data_1D_px.data.max(-1)\n",
    "training_data_1D_px = training_data_1D_px.data/dpmax[:,:,np.newaxis]\n",
    "\n",
    "print(training_data_1D_q.shape)\n",
    "print(training_data_1D_px.shape)"
   ]
  },
  {
   "cell_type": "markdown",
   "metadata": {},
   "source": [
    "## NN requirements: reshape and labelling"
   ]
  },
  {
   "cell_type": "code",
   "execution_count": null,
   "metadata": {
    "collapsed": false,
    "jupyter": {
     "outputs_hidden": false
    },
    "pycharm": {
     "is_executing": true,
     "name": "#%%\n"
    }
   },
   "outputs": [],
   "source": [
    "phase_names = list(phase_dict.keys())\n",
    "\n",
    "print(phase_names)"
   ]
  },
  {
   "cell_type": "code",
   "execution_count": null,
   "metadata": {
    "collapsed": false,
    "jupyter": {
     "outputs_hidden": false
    },
    "pycharm": {
     "is_executing": true,
     "name": "#%%\n"
    }
   },
   "outputs": [],
   "source": [
    "# 2D cake dataset\n",
    "\n",
    "shape_q = (np.prod(training_data_2D_q.shape[:-2]),) + training_data_2D_q.shape[-2:]\n",
    "shape_px = (np.prod(training_data_2D_px.shape[:-2]),) + training_data_2D_px.shape[-2:]\n",
    "\n",
    "training_data_2D_q = training_data_2D_q.reshape(shape_q)\n",
    "training_data_2D_px = training_data_2D_px.reshape(shape_px)\n",
    "\n",
    "print(training_data_2D_q.shape)\n",
    "print(training_data_2D_px.shape)"
   ]
  },
  {
   "cell_type": "code",
   "execution_count": null,
   "metadata": {
    "collapsed": false,
    "jupyter": {
     "outputs_hidden": false
    },
    "pycharm": {
     "is_executing": true,
     "name": "#%%\n"
    }
   },
   "outputs": [],
   "source": [
    "# Create labels for 2D\n",
    "n_phases = len(phase_dict)\n",
    "labels_2D = np.zeros((n_phases, int(training_data_2D_q.shape[0]/n_phases)))\n",
    "for i in range(n_phases):\n",
    "    labels_2D[i,:] = i\n",
    "\n",
    "training_labels_2D = labels_2D.flatten()\n",
    "training_labels_2D.shape"
   ]
  },
  {
   "cell_type": "code",
   "execution_count": null,
   "metadata": {
    "collapsed": false,
    "jupyter": {
     "outputs_hidden": false
    },
    "pycharm": {
     "is_executing": true,
     "name": "#%%\n"
    }
   },
   "outputs": [],
   "source": [
    "# 1D dataset\n",
    "training_data_1D_q = training_data_1D_q.reshape(-1, training_data_1D_q.shape[-1])\n",
    "training_data_1D_px = training_data_1D_px.reshape(-1, training_data_1D_px.shape[-1])\n",
    "\n",
    "print(training_data_1D_q.shape)\n",
    "print(training_data_1D_px.shape)"
   ]
  },
  {
   "cell_type": "code",
   "execution_count": null,
   "metadata": {
    "collapsed": false,
    "jupyter": {
     "outputs_hidden": false
    },
    "pycharm": {
     "is_executing": true,
     "name": "#%%\n"
    }
   },
   "outputs": [],
   "source": [
    "# Create labels for 1D\n",
    "n_phases = len(phase_dict)\n",
    "labels = np.zeros((n_phases, int(training_data_1D_q.shape[0]/n_phases)))\n",
    "for i in range(n_phases):\n",
    "    labels[i,:] = i\n",
    "\n",
    "training_labels = labels.flatten()\n",
    "training_labels.shape"
   ]
  },
  {
   "cell_type": "markdown",
   "metadata": {
    "pycharm": {
     "name": "#%% md\n"
    }
   },
   "source": [
    "## Save 1D datasets"
   ]
  },
  {
   "cell_type": "code",
   "execution_count": null,
   "metadata": {
    "collapsed": false,
    "jupyter": {
     "outputs_hidden": false
    },
    "pycharm": {
     "is_executing": true,
     "name": "#%%\n"
    }
   },
   "outputs": [],
   "source": [
    "# Check for outliers and nan values\n",
    "where_nan_q = np.argwhere(np.isnan(training_data_1D_q))\n",
    "where_nan_px = np.argwhere(np.isnan(training_data_1D_px))\n",
    "\n",
    "training_data_1D_q = np.delete(training_data_1D_q, where_nan_q[:,0], axis = 0)\n",
    "training_labels_q = np.delete(training_labels, where_nan_q[:,0], axis = 0)\n",
    "\n",
    "training_data_1D_px = np.delete(training_data_1D_px, where_nan_px[:,0], axis = 0)\n",
    "training_labels_px = np.delete(training_labels, where_nan_px[:,0], axis = 0)\n",
    "\n",
    "print(training_data_1D_q.shape, training_labels_q.shape)\n",
    "print(training_data_1D_px.shape, training_labels_px.shape)"
   ]
  },
  {
   "cell_type": "code",
   "execution_count": null,
   "metadata": {
    "collapsed": false,
    "jupyter": {
     "outputs_hidden": false
    },
    "pycharm": {
     "is_executing": true,
     "name": "#%%\n"
    }
   },
   "outputs": [],
   "source": [
    "store_train_data = TemporaryFile()\n",
    "x = training_data_1D_q\n",
    "y = training_labels_q\n",
    "\n",
    "np.savez('1D_simulated_data_cal{}_cropK_{}classes_{}neuler'.format(calibration,\n",
    "                                                                              n_phases,\n",
    "                                                                        n_angle_points,),\n",
    "         x=x, y=y, phases=phase_names)"
   ]
  },
  {
   "cell_type": "code",
   "execution_count": null,
   "metadata": {
    "collapsed": false,
    "jupyter": {
     "outputs_hidden": false
    },
    "pycharm": {
     "is_executing": true,
     "name": "#%%\n"
    }
   },
   "outputs": [],
   "source": [
    "store_train_data = TemporaryFile()\n",
    "x = training_data_1D_px\n",
    "y = training_labels_px\n",
    "\n",
    "np.savez('1D_simulated_data_cal{}_cropPX_{}classes_{}neuler'.format(calibration,\n",
    "                                                                              n_phases,\n",
    "                                                                        n_angle_points,),\n",
    "         x=x, y=y, phases=phase_names)"
   ]
  },
  {
   "cell_type": "markdown",
   "metadata": {},
   "source": [
    "## Save 2D datasets"
   ]
  },
  {
   "cell_type": "code",
   "execution_count": null,
   "metadata": {
    "collapsed": false,
    "jupyter": {
     "outputs_hidden": false
    },
    "pycharm": {
     "is_executing": true,
     "name": "#%%\n"
    }
   },
   "outputs": [],
   "source": [
    "# Check for outliers and nan values\n",
    "where_nan_q = np.argwhere(np.isnan(training_data_2D_q))\n",
    "where_nan_px = np.argwhere(np.isnan(training_data_2D_px))\n",
    "\n",
    "training_data_2D_q = np.delete(training_data_2D_q, where_nan_q[:,0], axis = 0)\n",
    "training_labels_q = np.delete(training_labels_2D, where_nan_q[:,0], axis = 0)\n",
    "\n",
    "training_data_2D_px = np.delete(training_data_2D_px, where_nan_px[:,0], axis = 0)\n",
    "training_labels_px = np.delete(training_labels_2D, where_nan_px[:,0], axis = 0)\n",
    "\n",
    "print(training_data_2D_q.shape, training_labels_q.shape)\n",
    "print(training_data_2D_px.shape, training_labels_px.shape)"
   ]
  },
  {
   "cell_type": "code",
   "execution_count": null,
   "metadata": {
    "collapsed": false,
    "jupyter": {
     "outputs_hidden": false
    },
    "pycharm": {
     "is_executing": true,
     "name": "#%%\n"
    }
   },
   "outputs": [],
   "source": [
    "store_train_data = TemporaryFile()\n",
    "#x = training_data_2D_q\n",
    "#y = training_labels_q\n",
    "\n",
    "np.savez('2D_simulated_data_cal{}_cropK_{}classes_{}neuler'.format(calibration,\n",
    "                                                                              n_phases,\n",
    "                                                                        n_angle_points,),\n",
    "         x=training_data_2D_q,\n",
    "         y=training_labels_q,\n",
    "         phases=phase_names)"
   ]
  },
  {
   "cell_type": "code",
   "execution_count": null,
   "metadata": {
    "collapsed": false,
    "jupyter": {
     "outputs_hidden": false
    },
    "pycharm": {
     "is_executing": true,
     "name": "#%%\n"
    }
   },
   "outputs": [],
   "source": [
    "store_train_data = TemporaryFile()\n",
    "#x = training_data_2D_px\n",
    "#y = training_labels_px\n",
    "\n",
    "np.savez('2D_simulated_data_cal{}_cropPX_{}classes_{}neuler'.format(calibration,\n",
    "                                                                              n_phases,\n",
    "                                                                        n_angle_points,),\n",
    "         x=training_data_2D_px,\n",
    "         y=training_labels_px,\n",
    "         phases=phase_names)"
   ]
  },
  {
   "cell_type": "code",
   "execution_count": null,
   "metadata": {
    "collapsed": false,
    "jupyter": {
     "outputs_hidden": false
    },
    "pycharm": {
     "is_executing": true,
     "name": "#%%\n"
    }
   },
   "outputs": [],
   "source": [
    "i = 0\n",
    "plt.figure()\n",
    "plt.plot(training_data_1D_px[i], label='px')\n",
    "plt.plot(training_data_1D_q[i], label='q')\n",
    "plt.legend()\n",
    "plt.savefig('1D_plt_compare_k_q_cropping_i{}.png'.format(i))\n",
    "\n",
    "\n",
    "f,axs = plt.subplots(nrows=2, sharex=True, sharey=True)\n",
    "axs[0].imshow(training_data_2D_px[i],)\n",
    "axs[0].set_title('px')\n",
    "axs[1].imshow(training_data_2D_q[i],)\n",
    "axs[1].set_title('q')\n",
    "plt.xlabel('Angle')\n",
    "plt.ylabel('Radius')\n",
    "for ax in axs:\n",
    "    ax.axhline(43, ls='--', c='w', lw=0.25)\n",
    "\n",
    "plt.savefig('2D_plt_compare_k_q_cropping_i{}.png'.format(i))\n",
    "\n",
    "del training_data_1D_px\n",
    "del training_data_1D_q\n",
    "del training_data_2D_px\n",
    "del training_data_2D_q\n",
    "gc.collect()\n"
   ]
  },
  {
   "cell_type": "code",
   "execution_count": null,
   "metadata": {
    "collapsed": false,
    "jupyter": {
     "outputs_hidden": false
    },
    "pycharm": {
     "is_executing": true,
     "name": "#%%\n"
    }
   },
   "outputs": [],
   "source": []
  }
 ],
 "metadata": {
  "kernelspec": {
   "display_name": "Python 3 (ipykernel)",
   "language": "python",
   "name": "python3"
  },
  "language_info": {
   "codemirror_mode": {
    "name": "ipython",
    "version": 3
   },
   "file_extension": ".py",
   "mimetype": "text/x-python",
   "name": "python",
   "nbconvert_exporter": "python",
   "pygments_lexer": "ipython3",
   "version": "3.9.7"
  }
 },
 "nbformat": 4,
 "nbformat_minor": 4
}

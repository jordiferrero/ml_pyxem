{
 "cells": [
  {
   "cell_type": "code",
   "execution_count": 1,
   "metadata": {},
   "outputs": [
    {
     "name": "stderr",
     "output_type": "stream",
     "text": [
      "WARNING:hyperspy.api:The ipywidgets GUI elements are not available, probably because the hyperspy_gui_ipywidgets package is not installed.\n",
      "WARNING:hyperspy.api:The traitsui GUI elements are not available, probably because the hyperspy_gui_traitsui package is not installed.\n",
      "WARNING:silx.opencl.common:Unable to import pyOpenCl. Please install it from: http://pypi.python.org/pypi/pyopencl\n"
     ]
    }
   ],
   "source": [
    "%matplotlib qt\n",
    "import pyxem as pxm\n",
    "import hyperspy.api as hs\n",
    "import os\n",
    "import gc\n",
    "import numpy as np\n",
    "from tempfile import TemporaryFile\n",
    "import tqdm"
   ]
  },
  {
   "cell_type": "code",
   "execution_count": 2,
   "metadata": {},
   "outputs": [],
   "source": [
    "data = []\n",
    "for root, dirs, files in os.walk(r\"D:\\jf631\\mg24111-1\"):\n",
    "    for file in files:\n",
    "        if file.endswith('nonthreshold_radial.hspy'):# and not file.endswith('._radial_integration.hspy'):\n",
    "            data.append(os.path.join(root, file))\n",
    "data.sort()"
   ]
  },
  {
   "cell_type": "code",
   "execution_count": 3,
   "metadata": {
    "scrolled": true
   },
   "outputs": [
    {
     "data": {
      "text/plain": [
       "['D:\\\\jf631\\\\mg24111-1\\\\20200927_094445_TripCatBeamDam_3p59A2_150kx_10umAp_20cmCL_scan_array_253x255_diff_plane_515x515_nonthreshold_radial.hspy',\n",
       " 'D:\\\\jf631\\\\mg24111-1\\\\20200927_101523_TripCatBeamDam_3p59A2_150kx_10umAp_20cmCL_scan_array_254x255_diff_plane_515x515_nonthreshold_radial.hspy',\n",
       " 'D:\\\\jf631\\\\mg24111-1\\\\20200927_101748_TripCatBeamDam_3p59A2_150kx_10umAp_20cmCL_scan_array_255x255_diff_plane_515x515_nonthreshold_radial.hspy']"
      ]
     },
     "execution_count": 3,
     "metadata": {},
     "output_type": "execute_result"
    }
   ],
   "source": [
    "data[:3]"
   ]
  },
  {
   "cell_type": "code",
   "execution_count": 4,
   "metadata": {},
   "outputs": [
    {
     "name": "stderr",
     "output_type": "stream",
     "text": [
      "C:\\Users\\Sauron\\anaconda3\\envs\\pyxem\\lib\\site-packages\\ipykernel_launcher.py:6: TqdmDeprecationWarning: This function will be removed in tqdm==5.0.0\n",
      "Please use `tqdm.notebook.tqdm` instead of `tqdm.tqdm_notebook`\n",
      "  \n"
     ]
    },
    {
     "data": {
      "application/vnd.jupyter.widget-view+json": {
       "model_id": "505a605134cb42ae82b61cdc2f89ee49",
       "version_major": 2,
       "version_minor": 0
      },
      "text/plain": [
       "HBox(children=(HTML(value=''), FloatProgress(value=0.0, max=76.0), HTML(value='')))"
      ]
     },
     "metadata": {},
     "output_type": "display_data"
    },
    {
     "name": "stdout",
     "output_type": "stream",
     "text": [
      "\n"
     ]
    }
   ],
   "source": [
    "start = 0.11\n",
    "stop = 1.30\n",
    "signal_len = 182\n",
    "sqrt = False\n",
    "\n",
    "for fname in tqdm.tqdm_notebook(data[:]):\n",
    "    s = hs.load(fname)\n",
    "    s.crop_signal1D(start, stop)\n",
    "    s = s.rebin([s.data.shape[1], s.data.shape[0], signal_len])\n",
    "    if sqrt:\n",
    "        s.data = np.sqrt(s.data)\n",
    "    dpmax = s.data.max(2)\n",
    "    s_norm = s.data/dpmax[:,:,np.newaxis]\n",
    "    s_norm = pxm.ElectronDiffraction1D(s_norm)\n",
    "    \n",
    "    experimental_normalised_cropped = TemporaryFile()\n",
    "    exp1d = s_norm.data\n",
    "    if sqrt:\n",
    "        path = os.path.join(os.path.dirname(fname), '{}_norm_cropped_sqrt'.format(os.path.basename(fname)))\n",
    "    else:\n",
    "        path = os.path.join(os.path.dirname(fname), '{}_norm_cropped'.format(os.path.basename(fname)))\n",
    "    np.savez(path, exp1d=exp1d)\n",
    "    \n",
    "    del s\n",
    "    del s_norm\n",
    "    gc.collect()"
   ]
  },
  {
   "cell_type": "markdown",
   "metadata": {},
   "source": [
    "## Parallelization"
   ]
  },
  {
   "cell_type": "code",
   "execution_count": 29,
   "metadata": {},
   "outputs": [],
   "source": [
    "start = 0.11\n",
    "stop = 1.30\n",
    "signal_len = 182\n",
    "sqrt = False\n",
    "\n",
    "\n",
    "def normalise_crop_save_in_parallel(fname_path, crop_start_q, crop_stop_q, cropped_signal_len):\n",
    "    \n",
    "    def normalize(dp):\n",
    "        dpmax = dp.data.max(2)\n",
    "        dp_norm = dp.data / dpmax[:,:,np.newaxis]\n",
    "        dp_norm = pxm.ElectronDiffraction1D(dp_norm)\n",
    "        return dp_norm\n",
    "    \n",
    "    import pyxem as pxm\n",
    "    import numpy as np\n",
    "    import os\n",
    "    import gc\n",
    "    from tempfile import TemporaryFile\n",
    "    \n",
    "    folder = os.path.dirname(fname_path)\n",
    "    fname = os.path.basename(fname_path).split(\".\")[0]\n",
    "    \n",
    "    s = pxm.load(fname_path)\n",
    "    s.crop_signal1D(crop_start_q, crop_stop_q)\n",
    "    s = s.rebin([s.data.shape[1], s.data.shape[0], cropped_signal_len])\n",
    "    \n",
    "    s_sqrt = s.deepcopy()\n",
    "    s_sqrt.data = np.sqrt(s_sqrt.data)\n",
    "    \n",
    "    s_norm = normalize(s)\n",
    "    s_norm_sqrt = normalize(s_sqrt)\n",
    "    \n",
    "    experimental_normalised_cropped = TemporaryFile()\n",
    "    path = os.path.join(folder, '{}_norm_cropped'.format(fname))\n",
    "    np.savez(path, exp1d=s_norm)\n",
    "    \n",
    "    experimental_normalised_cropped_sqrt = TemporaryFile()\n",
    "    path = os.path.join(folder, '{}_norm_cropped_sqrt'.format(fname))\n",
    "    np.savez(path, exp1d=s_norm_sqrt)\n",
    "    \n",
    "    del s\n",
    "    del s_norm\n",
    "    del s_sqrt\n",
    "    del s_norm_sqrt\n",
    "    gc.collect()\n",
    "    return"
   ]
  },
  {
   "cell_type": "markdown",
   "metadata": {},
   "source": [
    "## Thresholded data"
   ]
  },
  {
   "cell_type": "code",
   "execution_count": 30,
   "metadata": {},
   "outputs": [],
   "source": [
    "# Define parameters for thresholded data\n",
    "import os\n",
    "import numpy as np\n",
    "from itertools import product\n",
    "\n",
    "start = 0.11\n",
    "stop = 1.30\n",
    "signal_len = 182\n",
    "str_ends_with = '_centred_thresholded_radial.hspy'\n",
    "\n",
    "fnames = []\n",
    "for root, dirs, files in os.walk(r\"D:\\jf631\\mg24111-1\"):\n",
    "    for file in files:\n",
    "        if file.endswith(str_ends_with):\n",
    "            fnames.append(os.path.join(root, file))\n",
    "fnames.sort()\n",
    "\n",
    "# Create iteration tools\n",
    "start = [start,]\n",
    "stop = [stop,]\n",
    "signal_len = [signal_len,]\n",
    "\n",
    "iterations = product(fnames, start, stop, signal_len)"
   ]
  },
  {
   "cell_type": "code",
   "execution_count": 31,
   "metadata": {},
   "outputs": [
    {
     "data": {
      "text/plain": [
       "['D:\\\\jf631\\\\mg24111-1\\\\20200927_102109_TripCatBeamDam_3p59A2_150kx_10umAp_20cmCL_scan_array_255x255_diff_plane_515x515_centred_thresholded_radial.hspy',\n",
       " 'D:\\\\jf631\\\\mg24111-1\\\\20200927_102301_TripCatBeamDam_3p59A2_150kx_10umAp_20cmCL_scan_array_255x255_diff_plane_515x515_centred_thresholded_radial.hspy',\n",
       " 'D:\\\\jf631\\\\mg24111-1\\\\20200927_102434_TripCatBeamDam_3p59A2_150kx_10umAp_20cmCL_scan_array_255x255_diff_plane_515x515_centred_thresholded_radial.hspy',\n",
       " 'D:\\\\jf631\\\\mg24111-1\\\\20200927_102636_TripCatBeamDam_3p59A2_150kx_10umAp_20cmCL_scan_array_255x255_diff_plane_515x515_centred_thresholded_radial.hspy']"
      ]
     },
     "execution_count": 31,
     "metadata": {},
     "output_type": "execute_result"
    }
   ],
   "source": [
    "fnames[4:8]"
   ]
  },
  {
   "cell_type": "code",
   "execution_count": 32,
   "metadata": {},
   "outputs": [],
   "source": [
    "# Run\n",
    "# make sure to always use multiprocess\n",
    "from multiprocess import Pool\n",
    "import psutil\n",
    "\n",
    "# start your parallel workers at the beginning of your script\n",
    "n_cores = psutil.cpu_count(logical=False)\n",
    "pool = Pool(n_cores)\n",
    "\n",
    "# execute a computation(s) in parallel\n",
    "pool.starmap(normalise_crop_save_in_parallel, iterations)\n",
    "\n",
    "# turn off your parallel workers at the end of your script\n",
    "pool.close()"
   ]
  },
  {
   "cell_type": "markdown",
   "metadata": {},
   "source": [
    "## Non-thresholded data"
   ]
  },
  {
   "cell_type": "code",
   "execution_count": 33,
   "metadata": {},
   "outputs": [],
   "source": [
    "# Define parameters for thresholded data\n",
    "import os\n",
    "import numpy as np\n",
    "from itertools import product\n",
    "\n",
    "start = 0.11\n",
    "stop = 1.30\n",
    "signal_len = 182\n",
    "str_ends_with = '_centred_nonthresholded_radial.hspy'\n",
    "\n",
    "fnames = []\n",
    "for root, dirs, files in os.walk(r\"D:\\jf631\\mg24111-1\"):\n",
    "    for file in files:\n",
    "        if file.endswith(str_ends_with):\n",
    "            fnames.append(os.path.join(root, file))\n",
    "fnames.sort()\n",
    "\n",
    "# Create iteration tools\n",
    "start = [start,]\n",
    "stop = [stop,]\n",
    "signal_len = [signal_len,]\n",
    "\n",
    "iterations = product(fnames, start, stop, signal_len)"
   ]
  },
  {
   "cell_type": "code",
   "execution_count": 34,
   "metadata": {},
   "outputs": [
    {
     "data": {
      "text/plain": [
       "['D:\\\\jf631\\\\mg24111-1\\\\20200927_094445_TripCatBeamDam_3p59A2_150kx_10umAp_20cmCL_scan_array_253x255_diff_plane_515x515_centred_nonthresholded_radial.hspy',\n",
       " 'D:\\\\jf631\\\\mg24111-1\\\\20200927_101523_TripCatBeamDam_3p59A2_150kx_10umAp_20cmCL_scan_array_254x255_diff_plane_515x515_centred_nonthresholded_radial.hspy',\n",
       " 'D:\\\\jf631\\\\mg24111-1\\\\20200927_101748_TripCatBeamDam_3p59A2_150kx_10umAp_20cmCL_scan_array_255x255_diff_plane_515x515_centred_nonthresholded_radial.hspy']"
      ]
     },
     "execution_count": 34,
     "metadata": {},
     "output_type": "execute_result"
    }
   ],
   "source": [
    "fnames[:3]"
   ]
  },
  {
   "cell_type": "code",
   "execution_count": 35,
   "metadata": {},
   "outputs": [],
   "source": [
    "# Run\n",
    "# make sure to always use multiprocess\n",
    "from multiprocess import Pool\n",
    "import psutil\n",
    "\n",
    "# start your parallel workers at the beginning of your script\n",
    "n_cores = psutil.cpu_count(logical=False)\n",
    "pool = Pool(n_cores)\n",
    "\n",
    "# execute a computation(s) in parallel\n",
    "pool.starmap(normalise_crop_save_in_parallel, iterations)\n",
    "\n",
    "# turn off your parallel workers at the end of your script\n",
    "pool.close()"
   ]
  },
  {
   "cell_type": "code",
   "execution_count": null,
   "metadata": {},
   "outputs": [],
   "source": []
  }
 ],
 "metadata": {
  "kernelspec": {
   "display_name": "Python 3",
   "language": "python",
   "name": "python3"
  },
  "language_info": {
   "codemirror_mode": {
    "name": "ipython",
    "version": 3
   },
   "file_extension": ".py",
   "mimetype": "text/x-python",
   "name": "python",
   "nbconvert_exporter": "python",
   "pygments_lexer": "ipython3",
   "version": "3.7.9"
  }
 },
 "nbformat": 4,
 "nbformat_minor": 4
}

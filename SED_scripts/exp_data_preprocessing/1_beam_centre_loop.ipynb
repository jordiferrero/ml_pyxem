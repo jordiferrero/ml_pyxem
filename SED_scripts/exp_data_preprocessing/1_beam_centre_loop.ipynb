{
 "cells": [
  {
   "cell_type": "markdown",
   "metadata": {},
   "source": [
    "# Mask, center and threshold 2D raw data"
   ]
  },
  {
   "cell_type": "code",
   "execution_count": null,
   "metadata": {},
   "outputs": [],
   "source": [
    "%matplotlib qt\n",
    "import pyxem as pxm\n",
    "import os\n",
    "import gc\n",
    "import numpy as np"
   ]
  },
  {
   "cell_type": "code",
   "execution_count": null,
   "metadata": {},
   "outputs": [],
   "source": [
    "data = []\n",
    "base_root = r\"D:\\jf631\\mg24111-1\"\n",
    "for root, dirs, files in os.walk(base_root):\n",
    "    for file in files:\n",
    "        if file.endswith('_diff_plane_515x515.hdf5'):\n",
    "            data.append(os.path.join(root, file))\n",
    "data.sort()\n",
    "\n",
    "mask = np.load('mask_jordi.npy')\n",
    "mask[250:259, 150:159]"
   ]
  },
  {
   "cell_type": "code",
   "execution_count": null,
   "metadata": {},
   "outputs": [],
   "source": [
    "data[:3]"
   ]
  },
  {
   "cell_type": "code",
   "execution_count": null,
   "metadata": {},
   "outputs": [],
   "source": [
    "i = 0\n",
    "for fname in data[:]:\n",
    "    dp = pxm.load(fname)\n",
    "    dp *= mask\n",
    "    mean_dp = dp.mean()\n",
    "    mean_dp = pxm.ElectronDiffraction2D(mean_dp)\n",
    "    centre = mean_dp.get_direct_beam_position(method = 'cross_correlate', radius_start = 1, radius_finish = 10)\n",
    "    shifts = [[centre.data[0], centre.data[1]]]\n",
    "    mean_dp.change_dtype('float32')\n",
    "    mean_dp.save(str(os.path.basename(fname) + '_mean_dp.tiff'))\n",
    "    n_shifts = shifts*(len(dp.data[0])*len(dp.data[:,1]))\n",
    "    n_shifts=np.array(n_shifts)\n",
    "    dp.align2D(shifts = -n_shifts, crop = False)\n",
    "    dp.center_direct_beam(method='interpolate', sigma=5, upsample_factor=4, kind='linear', half_square_width=10)\n",
    "    dp.save(str(os.path.basename(fname) + '_centred'))\n",
    "    dp2 = dp.deecopy()\n",
    "    dp2.data[dp2.data==1]=0\n",
    "    dp2.save(str(os.path.basename(fname) + '_centred-threshold'))\n",
    "    del dp\n",
    "    del dp2\n",
    "    del mean_dp\n",
    "    i+=1\n",
    "    gc.collect()\n",
    "    "
   ]
  },
  {
   "cell_type": "code",
   "execution_count": null,
   "metadata": {},
   "outputs": [],
   "source": [
    "os.path.basename(data[0]).split('.')[0]"
   ]
  },
  {
   "cell_type": "markdown",
   "metadata": {},
   "source": [
    "# Paralellizing"
   ]
  },
  {
   "cell_type": "code",
   "execution_count": 1,
   "metadata": {},
   "outputs": [],
   "source": [
    "# Define function (with packages imported within)\n",
    "def centering_and_thresholding_in_parallel(fname_path, mask, radius_start=1, radius_finish=10, half_square_width=10):\n",
    "    # Import packages\n",
    "    import os\n",
    "    import pyxem as pxm\n",
    "    import gc\n",
    "    import numpy as np\n",
    "    \n",
    "    folder = os.path.dirname(fname_path)\n",
    "    fname = os.path.basename(fname_path).split('.')[0]\n",
    "    \n",
    "    dp = pxm.load(fname_path, signal_type='electron_diffraction')\n",
    "    dp *= mask\n",
    "    \n",
    "    # Get the rough shifts from the mean dp and save mean dp\n",
    "    mean_dp = dp.mean()\n",
    "    centre = mean_dp.get_direct_beam_position(method = 'cross_correlate', radius_start = radius_start, radius_finish = radius_finish)\n",
    "    shifts = [[centre.data[0], centre.data[1]]]\n",
    "    mean_dp.change_dtype('float32')\n",
    "    mean_dp.save(os.path.join(folder, (fname + '_mean_dp.tiff')))\n",
    "    \n",
    "    # Align with the rough shifts\n",
    "    n_shifts = shifts*(len(dp.data[0])*len(dp.data[:,1]))\n",
    "    n_shifts = np.array(n_shifts)\n",
    "    dp.align2D(shifts = -n_shifts, crop = False)\n",
    "    \n",
    "    # Align using fine alignment and save\n",
    "    dp.center_direct_beam(method='interpolate', sigma=5, upsample_factor=4, kind='linear', half_square_width=half_square_width)\n",
    "    dp.save(os.path.join(folder, (fname + '_centred_nonthresholded')), overwrite=True)\n",
    "    \n",
    "    # Threshold the data and save\n",
    "    dp.data[dp.data==1] = 0\n",
    "    dp.save(os.path.join(folder, (fname + '_centred_thresholded')), overwrite=True)\n",
    "    \n",
    "    # Clean up the RAM\n",
    "    del dp\n",
    "    del mean_dp\n",
    "    gc.collect()\n",
    "    return"
   ]
  },
  {
   "cell_type": "code",
   "execution_count": 3,
   "metadata": {},
   "outputs": [],
   "source": [
    "# Define variables to iterate from\n",
    "import os\n",
    "import numpy as np\n",
    "from itertools import product\n",
    "\n",
    "fnames = []\n",
    "base_root = r\"D:\\jf631\\mg24111-1\"\n",
    "for root, dirs, files in os.walk(base_root):\n",
    "    for file in files:\n",
    "        if file.endswith('_diff_plane_515x515.hdf5'):\n",
    "            fnames.append(os.path.join(root, file))\n",
    "fnames.sort()\n",
    "\n",
    "mask = np.load('mask_jordi.npy')\n",
    "\n",
    "mask = [mask,]\n",
    "\n",
    "# Create iteration tools\n",
    "iterations = product(fnames, mask)"
   ]
  },
  {
   "cell_type": "code",
   "execution_count": 4,
   "metadata": {},
   "outputs": [],
   "source": [
    "# Run\n",
    "# make sure to always use multiprocess\n",
    "from multiprocess import Pool\n",
    "import psutil\n",
    "\n",
    "# start your parallel workers at the beginning of your script\n",
    "n_cores = psutil.cpu_count(logical=False)\n",
    "n_cores=5\n",
    "pool = Pool(n_cores)\n",
    "\n",
    "# execute a computation(s) in parallel\n",
    "pool.starmap(centering_and_thresholding_in_parallel, iterations)\n",
    "\n",
    "# turn off your parallel workers at the end of your script\n",
    "pool.close()"
   ]
  },
  {
   "cell_type": "code",
   "execution_count": null,
   "metadata": {},
   "outputs": [],
   "source": []
  },
  {
   "cell_type": "code",
   "execution_count": null,
   "metadata": {},
   "outputs": [],
   "source": []
  },
  {
   "cell_type": "code",
   "execution_count": null,
   "metadata": {},
   "outputs": [],
   "source": []
  },
  {
   "cell_type": "code",
   "execution_count": null,
   "metadata": {},
   "outputs": [],
   "source": []
  },
  {
   "cell_type": "code",
   "execution_count": null,
   "metadata": {},
   "outputs": [],
   "source": []
  },
  {
   "cell_type": "raw",
   "metadata": {},
   "source": [
    "# EDITING TIARNAN'S MASK TO THIS DATASET.\n",
    "# SAVED AS `mask_jordi.hspy`\n",
    "\n",
    "mask = pxm.load('mask.hspy').data\n",
    "mask[254:255, 152:153] = False\n",
    "mask[333:334, 168:169] = False\n",
    "\n",
    "#np.save('mask_jordi', mask,)\n",
    "\n",
    "import matplotlib.pyplot as plt\n",
    "from PIL import Image\n",
    "p = os.path.join(base_root, '20200927_122649_TripCatBeamDam_3p59A2_150kx_10umAp_20cmCL_scan_array_255x255_diff_plane_515x515.hdf5_mean_dp.tiff')\n",
    "data = np.array(Image.open(p,))\n",
    "\n",
    "plt.imshow(data)#*mask, )"
   ]
  }
 ],
 "metadata": {
  "kernelspec": {
   "display_name": "Python 3",
   "language": "python",
   "name": "python3"
  },
  "language_info": {
   "codemirror_mode": {
    "name": "ipython",
    "version": 3
   },
   "file_extension": ".py",
   "mimetype": "text/x-python",
   "name": "python",
   "nbconvert_exporter": "python",
   "pygments_lexer": "ipython3",
   "version": "3.7.9"
  }
 },
 "nbformat": 4,
 "nbformat_minor": 4
}

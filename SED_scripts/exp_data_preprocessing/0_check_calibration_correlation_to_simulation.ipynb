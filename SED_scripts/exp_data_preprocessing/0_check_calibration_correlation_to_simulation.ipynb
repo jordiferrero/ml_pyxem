{
 "cells": [
  {
   "cell_type": "code",
   "execution_count": 1,
   "metadata": {},
   "outputs": [
    {
     "name": "stderr",
     "output_type": "stream",
     "text": [
      "C:\\Users\\Sauron\\anaconda3\\envs\\pyxem_0.11\\lib\\site-packages\\pyUSID\\viz\\__init__.py:16: FutureWarning: Please use sidpy.viz.plot_utils instead of pyUSID.viz.plot_utils. pyUSID.plot_utils will be removed in a future release of pyUSID\n",
      "  warn('Please use sidpy.viz.plot_utils instead of pyUSID.viz.plot_utils. '\n",
      "WARNING:hyperspy_gui_traitsui:The TkAgg matplotlib backend is not compatible with the traitsui GUI elements. For more information, read http://hyperspy.readthedocs.io/en/stable/user_guide/getting_started.html#possible-warnings-when-importing-hyperspy.\n",
      "WARNING:hyperspy_gui_traitsui:The traitsui GUI elements are not available.\n",
      "WARNING:silx.opencl.common:Unable to import pyOpenCl. Please install it from: http://pypi.python.org/pypi/pyopencl\n"
     ]
    }
   ],
   "source": [
    "%matplotlib tk\n",
    "import pyxem as pxm\n",
    "import os\n",
    "import gc\n",
    "import numpy as np"
   ]
  },
  {
   "cell_type": "code",
   "execution_count": 2,
   "metadata": {},
   "outputs": [],
   "source": [
    "dif_cal = 0.0046"
   ]
  },
  {
   "cell_type": "code",
   "execution_count": 3,
   "metadata": {},
   "outputs": [],
   "source": [
    "data = []\n",
    "for root, dirs, files in os.walk(r\"D:\\jf631\\mg24111-1\"):\n",
    "    for file in files:\n",
    "        if file.endswith('_diff_plane_515x515.hdf5_centred.hspy'):\n",
    "            data.append(os.path.join(root, file))\n",
    "data.sort()"
   ]
  },
  {
   "cell_type": "code",
   "execution_count": 4,
   "metadata": {},
   "outputs": [
    {
     "name": "stdout",
     "output_type": "stream",
     "text": [
      "77\n"
     ]
    },
    {
     "data": {
      "text/plain": [
       "['D:\\\\jf631\\\\mg24111-1\\\\20200927_094445_TripCatBeamDam_3p59A2_150kx_10umAp_20cmCL_scan_array_253x255_diff_plane_515x515.hdf5_centred.hspy',\n",
       " 'D:\\\\jf631\\\\mg24111-1\\\\20200927_101523_TripCatBeamDam_3p59A2_150kx_10umAp_20cmCL_scan_array_254x255_diff_plane_515x515.hdf5_centred.hspy',\n",
       " 'D:\\\\jf631\\\\mg24111-1\\\\20200927_101748_TripCatBeamDam_3p59A2_150kx_10umAp_20cmCL_scan_array_255x255_diff_plane_515x515.hdf5_centred.hspy']"
      ]
     },
     "execution_count": 4,
     "metadata": {},
     "output_type": "execute_result"
    }
   ],
   "source": [
    "print(len(data))\n",
    "data[:3]"
   ]
  },
  {
   "cell_type": "code",
   "execution_count": 5,
   "metadata": {},
   "outputs": [],
   "source": [
    "#roi_letter = 'F'\n",
    "#coords = [152, 108, 240, 183]\n",
    "roi_letter = 'J'\n",
    "coords = [127, 62, 150, 103]\n",
    "roi_of_interest = pxm.roi.RectangularROI(*coords)\n",
    "i_of_interest = [0,25,50,76]"
   ]
  },
  {
   "cell_type": "code",
   "execution_count": null,
   "metadata": {},
   "outputs": [],
   "source": [
    "# Manually select a roi & PLOT ROI area\n",
    "dp = pxm.load(data[0])\n",
    "\n",
    "roi_of_interest = pxm.roi.RectangularROI(*coords)\n",
    "dp.plot(vmax=5, cmap='viridis')\n",
    "roi_of_interest.interactive(dp)"
   ]
  },
  {
   "cell_type": "code",
   "execution_count": 7,
   "metadata": {},
   "outputs": [],
   "source": [
    "for i in i_of_interest:\n",
    "    dp = pxm.load(data[i])\n",
    "    dp_roi = roi_of_interest(dp)\n",
    "    mean_dp = dp_roi.mean()\n",
    "    mean_dp.change_dtype('float32')\n",
    "    path = os.path.join(os.path.dirname(data[i]), 'calibration_checks', '{}_roi_{}_mean_dp.tiff'.format(os.path.basename(data[i]), roi_letter))\n",
    "    mean_dp.save(path, overwrite=True)\n",
    "    del dp\n",
    "    gc.collect()"
   ]
  },
  {
   "cell_type": "code",
   "execution_count": null,
   "metadata": {},
   "outputs": [],
   "source": []
  },
  {
   "cell_type": "markdown",
   "metadata": {},
   "source": [
    "# Simulate signal with the diffraction calibration"
   ]
  },
  {
   "cell_type": "code",
   "execution_count": 7,
   "metadata": {},
   "outputs": [],
   "source": [
    "# Use a special notebook, called \"simulate_calibration_zone_axis\""
   ]
  },
  {
   "cell_type": "code",
   "execution_count": null,
   "metadata": {},
   "outputs": [],
   "source": []
  }
 ],
 "metadata": {
  "kernelspec": {
   "display_name": "Python 3",
   "language": "python",
   "name": "python3"
  },
  "language_info": {
   "codemirror_mode": {
    "name": "ipython",
    "version": 3
   },
   "file_extension": ".py",
   "mimetype": "text/x-python",
   "name": "python",
   "nbconvert_exporter": "python",
   "pygments_lexer": "ipython3",
   "version": "3.7.9"
  }
 },
 "nbformat": 4,
 "nbformat_minor": 4
}

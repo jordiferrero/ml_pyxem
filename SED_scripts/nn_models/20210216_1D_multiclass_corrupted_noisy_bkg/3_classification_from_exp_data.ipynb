{
 "cells": [
  {
   "cell_type": "markdown",
   "source": [
    "# Predicting phases for experimental dataset"
   ],
   "metadata": {
    "collapsed": false,
    "pycharm": {
     "name": "#%% md\n"
    }
   }
  },
  {
   "cell_type": "code",
   "execution_count": 1,
   "metadata": {},
   "outputs": [
    {
     "name": "stderr",
     "output_type": "stream",
     "text": [
      "WARNING:hyperspy.api:The ipywidgets GUI elements are not available, probably because the hyperspy_gui_ipywidgets package is not installed.\n",
      "WARNING:hyperspy.api:The traitsui GUI elements are not available, probably because the hyperspy_gui_traitsui package is not installed.\n"
     ]
    }
   ],
   "source": [
    "# Import packages\n",
    "%matplotlib inline\n",
    "import tensorflow as tf\n",
    "import numpy as np\n",
    "import os, glob\n",
    "import gc\n",
    "import tqdm\n",
    "import hyperspy.api as hs\n",
    "from tempfile import TemporaryFile"
   ]
  },
  {
   "cell_type": "markdown",
   "metadata": {
    "pycharm": {
     "name": "#%% md\n"
    }
   },
   "source": [
    "## Import list of experimental datafile paths to process\n",
    "If only one file to predict, make it a list `data` of a single path."
   ]
  },
  {
   "cell_type": "code",
   "execution_count": 2,
   "outputs": [
    {
     "data": {
      "text/plain": "['D:\\\\jf631\\\\mg24111-1\\\\20200927_094445_TripCatBeamDam_3p59A2_150kx_10umAp_20cmCL_scan_array_253x255_diff_plane_515x515_centred_thresholded_radial_norm_cropped_sqrt.npz',\n 'D:\\\\jf631\\\\mg24111-1\\\\20200927_101523_TripCatBeamDam_3p59A2_150kx_10umAp_20cmCL_scan_array_254x255_diff_plane_515x515_centred_thresholded_radial_norm_cropped_sqrt.npz',\n 'D:\\\\jf631\\\\mg24111-1\\\\20200927_101748_TripCatBeamDam_3p59A2_150kx_10umAp_20cmCL_scan_array_255x255_diff_plane_515x515_centred_thresholded_radial_norm_cropped_sqrt.npz']"
     },
     "execution_count": 2,
     "metadata": {},
     "output_type": "execute_result"
    }
   ],
   "source": [
    "# Select which experimental dataset you want to predict.\n",
    "\n",
    "file_end = 'cropped_sqrt.npz'\n",
    "#file_end = 'cropped.npz'\n",
    "\n",
    "tresholded = True #False\n",
    "base_root = r\"D:\\jf631\\mg24111-1\"\n",
    "\n",
    "data = []\n",
    "for root, dirs, files in os.walk(base_root):\n",
    "    for file in files:\n",
    "        if tresholded:\n",
    "            if file.endswith(file_end) and 'nonthreshold' not in file:\n",
    "                data.append(os.path.join(root, file))\n",
    "        else:\n",
    "            if file.endswith(file_end) and 'nonthreshold' in file:\n",
    "                data.append(os.path.join(root, file))\n",
    "data.sort()\n",
    "data[:3]"
   ],
   "metadata": {
    "collapsed": false,
    "pycharm": {
     "name": "#%%\n"
    }
   }
  },
  {
   "cell_type": "markdown",
   "source": [
    "## Select a list of models to use to predict\n",
    "If only one model, make it a list `models` of a single path to the model `.h5` file."
   ],
   "metadata": {
    "collapsed": false,
    "pycharm": {
     "name": "#%% md\n"
    }
   }
  },
  {
   "cell_type": "code",
   "execution_count": 3,
   "metadata": {
    "scrolled": true
   },
   "outputs": [
    {
     "name": "stdout",
     "output_type": "stream",
     "text": [
      "2\n"
     ]
    },
    {
     "data": {
      "text/plain": "['C:\\\\Users\\\\Sauron\\\\Documents\\\\jf631\\\\SED_scripts\\\\nn_models\\\\20210216_1D_multiclass_corrupted_noisy_bkg\\\\NN_6classes_4epochs_130133Train_ac0.7795_130133Test0.7786.h5',\n 'C:\\\\Users\\\\Sauron\\\\Documents\\\\jf631\\\\SED_scripts\\\\nn_models\\\\20210216_1D_multiclass_corrupted_noisy_bkg\\\\NN_6classes_4epochs_130133Train_ac0.7958_130133Test0.7949.h5']"
     },
     "execution_count": 3,
     "metadata": {},
     "output_type": "execute_result"
    }
   ],
   "source": [
    "# Select which model to use\n",
    "cwd = os.path.abspath(os.getcwd())\n",
    "models = glob.glob(os.path.join(cwd, '*.h5'))\n",
    "models.sort()\n",
    "print(len(models))\n",
    "\n",
    "models"
   ]
  },
  {
   "cell_type": "code",
   "execution_count": 4,
   "metadata": {},
   "outputs": [
    {
     "name": "stderr",
     "output_type": "stream",
     "text": [
      "100%|██████████| 76/76 [03:38<00:00,  2.88s/it]\n",
      "\n",
      "  0%|          | 0/76 [00:00<?, ?it/s]\u001B[A\n",
      "  1%|▏         | 1/76 [00:02<03:01,  2.42s/it]\u001B[A\n",
      "  3%|▎         | 2/76 [00:04<02:59,  2.43s/it]\u001B[A\n",
      "  4%|▍         | 3/76 [00:07<02:57,  2.43s/it]\u001B[A\n",
      "  5%|▌         | 4/76 [00:09<02:55,  2.44s/it]\u001B[A\n",
      "  7%|▋         | 5/76 [00:12<02:50,  2.40s/it]\u001B[A\n",
      "  8%|▊         | 6/76 [00:14<02:49,  2.42s/it]\u001B[A\n",
      "  9%|▉         | 7/76 [00:16<02:42,  2.36s/it]\u001B[A\n",
      " 11%|█         | 8/76 [00:19<02:43,  2.40s/it]\u001B[A\n",
      " 12%|█▏        | 9/76 [00:21<02:40,  2.39s/it]\u001B[A\n",
      " 13%|█▎        | 10/76 [00:24<02:40,  2.43s/it]\u001B[A\n",
      " 14%|█▍        | 11/76 [00:26<02:39,  2.46s/it]\u001B[A\n",
      " 16%|█▌        | 12/76 [00:29<02:36,  2.45s/it]\u001B[A\n",
      " 17%|█▋        | 13/76 [00:31<02:41,  2.57s/it]\u001B[A\n",
      " 18%|█▊        | 14/76 [00:34<02:44,  2.65s/it]\u001B[A\n",
      " 20%|█▉        | 15/76 [00:37<02:48,  2.76s/it]\u001B[A\n",
      " 21%|██        | 16/76 [00:41<02:53,  2.90s/it]\u001B[A\n",
      " 22%|██▏       | 17/76 [00:43<02:50,  2.89s/it]\u001B[A\n",
      " 24%|██▎       | 18/76 [00:47<03:00,  3.10s/it]\u001B[A\n",
      " 25%|██▌       | 19/76 [00:50<02:57,  3.12s/it]\u001B[A\n",
      " 26%|██▋       | 20/76 [00:53<02:57,  3.18s/it]\u001B[A\n",
      " 28%|██▊       | 21/76 [00:57<02:59,  3.27s/it]\u001B[A\n",
      " 29%|██▉       | 22/76 [01:00<02:53,  3.22s/it]\u001B[A\n",
      " 30%|███       | 23/76 [01:03<02:47,  3.16s/it]\u001B[A\n",
      " 32%|███▏      | 24/76 [01:06<02:38,  3.04s/it]\u001B[A\n",
      " 33%|███▎      | 25/76 [01:10<02:52,  3.37s/it]\u001B[A\n",
      " 34%|███▍      | 26/76 [01:14<03:02,  3.65s/it]\u001B[A\n",
      " 36%|███▌      | 27/76 [01:18<03:00,  3.68s/it]\u001B[A\n",
      " 37%|███▋      | 28/76 [01:22<03:00,  3.76s/it]\u001B[A\n",
      " 38%|███▊      | 29/76 [01:25<02:47,  3.56s/it]\u001B[A\n",
      " 39%|███▉      | 30/76 [01:28<02:40,  3.48s/it]\u001B[A\n",
      " 41%|████      | 31/76 [01:32<02:41,  3.59s/it]\u001B[A\n",
      " 42%|████▏     | 32/76 [01:36<02:36,  3.56s/it]\u001B[A\n",
      " 43%|████▎     | 33/76 [01:40<02:36,  3.65s/it]\u001B[A\n",
      " 45%|████▍     | 34/76 [01:43<02:34,  3.68s/it]\u001B[A\n",
      " 46%|████▌     | 35/76 [01:47<02:27,  3.59s/it]\u001B[A\n",
      " 47%|████▋     | 36/76 [01:51<02:26,  3.67s/it]\u001B[A\n",
      " 49%|████▊     | 37/76 [01:55<02:30,  3.87s/it]\u001B[A\n",
      " 50%|█████     | 38/76 [01:59<02:27,  3.87s/it]\u001B[A\n",
      " 51%|█████▏    | 39/76 [02:03<02:23,  3.88s/it]\u001B[A\n",
      " 53%|█████▎    | 40/76 [02:06<02:18,  3.84s/it]\u001B[A\n",
      " 54%|█████▍    | 41/76 [02:10<02:12,  3.79s/it]\u001B[A\n",
      " 55%|█████▌    | 42/76 [02:13<02:04,  3.67s/it]\u001B[A\n",
      " 57%|█████▋    | 43/76 [02:17<02:03,  3.73s/it]\u001B[A\n",
      " 58%|█████▊    | 44/76 [02:21<02:01,  3.78s/it]\u001B[A\n",
      " 59%|█████▉    | 45/76 [02:25<01:58,  3.82s/it]\u001B[A\n",
      " 61%|██████    | 46/76 [02:29<01:55,  3.83s/it]\u001B[A\n",
      " 62%|██████▏   | 47/76 [02:33<01:51,  3.85s/it]\u001B[A\n",
      " 63%|██████▎   | 48/76 [02:37<01:48,  3.86s/it]\u001B[A\n",
      " 64%|██████▍   | 49/76 [02:41<01:45,  3.91s/it]\u001B[A\n",
      " 66%|██████▌   | 50/76 [02:44<01:38,  3.80s/it]\u001B[A\n",
      " 67%|██████▋   | 51/76 [02:48<01:35,  3.82s/it]\u001B[A\n",
      " 68%|██████▊   | 52/76 [02:52<01:32,  3.87s/it]\u001B[A\n",
      " 70%|██████▉   | 53/76 [02:57<01:31,  4.00s/it]\u001B[A\n",
      " 71%|███████   | 54/76 [03:01<01:29,  4.08s/it]\u001B[A\n",
      " 72%|███████▏  | 55/76 [03:05<01:24,  4.00s/it]\u001B[A\n",
      " 74%|███████▎  | 56/76 [03:09<01:19,  4.00s/it]\u001B[A\n",
      " 75%|███████▌  | 57/76 [03:13<01:15,  3.98s/it]\u001B[A\n",
      " 76%|███████▋  | 58/76 [03:17<01:12,  4.03s/it]\u001B[A\n",
      " 78%|███████▊  | 59/76 [03:21<01:08,  4.04s/it]\u001B[A\n",
      " 79%|███████▉  | 60/76 [03:25<01:03,  4.00s/it]\u001B[A\n",
      " 80%|████████  | 61/76 [03:29<00:59,  3.97s/it]\u001B[A\n",
      " 82%|████████▏ | 62/76 [03:32<00:54,  3.88s/it]\u001B[A\n",
      " 83%|████████▎ | 63/76 [03:36<00:50,  3.88s/it]\u001B[A\n",
      " 84%|████████▍ | 64/76 [03:40<00:47,  3.95s/it]\u001B[A\n",
      " 86%|████████▌ | 65/76 [03:44<00:43,  3.92s/it]\u001B[A\n",
      " 87%|████████▋ | 66/76 [03:48<00:38,  3.85s/it]\u001B[A\n",
      " 88%|████████▊ | 67/76 [03:51<00:33,  3.68s/it]\u001B[A\n",
      " 89%|████████▉ | 68/76 [03:55<00:30,  3.82s/it]\u001B[A\n",
      " 91%|█████████ | 69/76 [03:59<00:26,  3.85s/it]\u001B[A\n",
      " 92%|█████████▏| 70/76 [04:03<00:23,  3.85s/it]\u001B[A\n",
      " 93%|█████████▎| 71/76 [04:07<00:19,  3.82s/it]\u001B[A\n",
      " 95%|█████████▍| 72/76 [04:10<00:14,  3.52s/it]\u001B[A\n",
      " 96%|█████████▌| 73/76 [04:13<00:10,  3.41s/it]\u001B[A\n",
      " 97%|█████████▋| 74/76 [04:16<00:06,  3.37s/it]\u001B[A\n",
      " 99%|█████████▊| 75/76 [04:19<00:03,  3.22s/it]\u001B[A\n",
      "100%|██████████| 76/76 [04:23<00:00,  3.46s/it]\u001B[A\n"
     ]
    },
    {
     "name": "stdout",
     "output_type": "stream",
     "text": [
      "[########################################] | 100% Completed |  0.1s\n",
      "\n",
      "[########################################] | 100% Completed |  0.1s\n"
     ]
    },
    {
     "data": {
      "text/plain": "HBox(children=(HTML(value=''), FloatProgress(value=0.0, max=64515.0), HTML(value='')))",
      "application/vnd.jupyter.widget-view+json": {
       "version_major": 2,
       "version_minor": 0,
       "model_id": "4fee1d9645ed46c297c02dc6607519dc"
      }
     },
     "metadata": {},
     "output_type": "display_data"
    },
    {
     "ename": "KeyboardInterrupt",
     "evalue": "",
     "output_type": "error",
     "traceback": [
      "\u001B[1;31m---------------------------------------------------------------------------\u001B[0m",
      "\u001B[1;31mKeyboardInterrupt\u001B[0m                         Traceback (most recent call last)",
      "\u001B[1;32m<ipython-input-4-cfd8cf5bf231>\u001B[0m in \u001B[0;36m<module>\u001B[1;34m()\u001B[0m\n\u001B[0;32m     60\u001B[0m     \u001B[1;31m# Save the stack with probabilites\u001B[0m\u001B[1;33m\u001B[0m\u001B[1;33m\u001B[0m\u001B[1;33m\u001B[0m\u001B[0m\n\u001B[0;32m     61\u001B[0m     \u001B[0mname\u001B[0m \u001B[1;33m=\u001B[0m \u001B[1;34m'probability_preditions_'\u001B[0m \u001B[1;33m+\u001B[0m \u001B[0mmodel_name\u001B[0m \u001B[1;33m+\u001B[0m \u001B[1;34m'.hspy'\u001B[0m\u001B[1;33m\u001B[0m\u001B[1;33m\u001B[0m\u001B[0m\n\u001B[1;32m---> 62\u001B[1;33m     \u001B[0msave\u001B[0m\u001B[1;33m(\u001B[0m\u001B[0msignals\u001B[0m\u001B[1;33m,\u001B[0m \u001B[0mname\u001B[0m\u001B[1;33m)\u001B[0m\u001B[1;33m\u001B[0m\u001B[1;33m\u001B[0m\u001B[0m\n\u001B[0m\u001B[0;32m     63\u001B[0m \u001B[1;33m\u001B[0m\u001B[0m\n\u001B[0;32m     64\u001B[0m     \u001B[1;31m# Save the sparse categorical results [1 to 6]\u001B[0m\u001B[1;33m\u001B[0m\u001B[1;33m\u001B[0m\u001B[1;33m\u001B[0m\u001B[0m\n",
      "\u001B[1;32m<ipython-input-4-cfd8cf5bf231>\u001B[0m in \u001B[0;36msave\u001B[1;34m(signal, name, base_root, model_path, date_folder)\u001B[0m\n\u001B[0;32m     56\u001B[0m     \u001B[1;32mdef\u001B[0m \u001B[0msave\u001B[0m\u001B[1;33m(\u001B[0m\u001B[0msignal\u001B[0m\u001B[1;33m,\u001B[0m \u001B[0mname\u001B[0m\u001B[1;33m,\u001B[0m \u001B[0mbase_root\u001B[0m\u001B[1;33m=\u001B[0m\u001B[0mbase_root\u001B[0m\u001B[1;33m,\u001B[0m \u001B[0mmodel_path\u001B[0m\u001B[1;33m=\u001B[0m\u001B[0mmodel_path\u001B[0m\u001B[1;33m,\u001B[0m \u001B[0mdate_folder\u001B[0m\u001B[1;33m=\u001B[0m\u001B[0mdate_folder\u001B[0m\u001B[1;33m)\u001B[0m\u001B[1;33m:\u001B[0m\u001B[1;33m\u001B[0m\u001B[1;33m\u001B[0m\u001B[0m\n\u001B[0;32m     57\u001B[0m         \u001B[0msignal\u001B[0m\u001B[1;33m.\u001B[0m\u001B[0msave\u001B[0m\u001B[1;33m(\u001B[0m\u001B[0mos\u001B[0m\u001B[1;33m.\u001B[0m\u001B[0mpath\u001B[0m\u001B[1;33m.\u001B[0m\u001B[0mjoin\u001B[0m\u001B[1;33m(\u001B[0m\u001B[0mbase_root\u001B[0m\u001B[1;33m,\u001B[0m \u001B[1;34m'stacked_predictions'\u001B[0m\u001B[1;33m,\u001B[0m \u001B[0mdate_folder\u001B[0m\u001B[1;33m,\u001B[0m \u001B[0mname\u001B[0m\u001B[1;33m)\u001B[0m\u001B[1;33m,\u001B[0m \u001B[0moverwrite\u001B[0m\u001B[1;33m=\u001B[0m\u001B[1;32mTrue\u001B[0m\u001B[1;33m)\u001B[0m\u001B[1;33m\u001B[0m\u001B[1;33m\u001B[0m\u001B[0m\n\u001B[1;32m---> 58\u001B[1;33m         \u001B[0msignal\u001B[0m\u001B[1;33m.\u001B[0m\u001B[0msave\u001B[0m\u001B[1;33m(\u001B[0m\u001B[0mos\u001B[0m\u001B[1;33m.\u001B[0m\u001B[0mpath\u001B[0m\u001B[1;33m.\u001B[0m\u001B[0mjoin\u001B[0m\u001B[1;33m(\u001B[0m\u001B[0mos\u001B[0m\u001B[1;33m.\u001B[0m\u001B[0mpath\u001B[0m\u001B[1;33m.\u001B[0m\u001B[0mdirname\u001B[0m\u001B[1;33m(\u001B[0m\u001B[0mmodel_path\u001B[0m\u001B[1;33m)\u001B[0m\u001B[1;33m,\u001B[0m \u001B[1;34m'stacked_predictions'\u001B[0m\u001B[1;33m,\u001B[0m \u001B[0mname\u001B[0m\u001B[1;33m)\u001B[0m\u001B[1;33m,\u001B[0m \u001B[0moverwrite\u001B[0m\u001B[1;33m=\u001B[0m\u001B[1;32mTrue\u001B[0m\u001B[1;33m)\u001B[0m\u001B[1;33m\u001B[0m\u001B[1;33m\u001B[0m\u001B[0m\n\u001B[0m\u001B[0;32m     59\u001B[0m \u001B[1;33m\u001B[0m\u001B[0m\n\u001B[0;32m     60\u001B[0m     \u001B[1;31m# Save the stack with probabilites\u001B[0m\u001B[1;33m\u001B[0m\u001B[1;33m\u001B[0m\u001B[1;33m\u001B[0m\u001B[0m\n",
      "\u001B[1;32mC:\\Users\\Sauron\\anaconda3\\envs\\pyxem\\lib\\site-packages\\hyperspy\\signal.py\u001B[0m in \u001B[0;36msave\u001B[1;34m(self, filename, overwrite, extension, **kwds)\u001B[0m\n\u001B[0;32m   2746\u001B[0m         \u001B[1;32mif\u001B[0m \u001B[0mextension\u001B[0m \u001B[1;32mis\u001B[0m \u001B[1;32mnot\u001B[0m \u001B[1;32mNone\u001B[0m\u001B[1;33m:\u001B[0m\u001B[1;33m\u001B[0m\u001B[1;33m\u001B[0m\u001B[0m\n\u001B[0;32m   2747\u001B[0m             \u001B[0mfilename\u001B[0m \u001B[1;33m=\u001B[0m \u001B[0mfilename\u001B[0m\u001B[1;33m.\u001B[0m\u001B[0mwith_suffix\u001B[0m\u001B[1;33m(\u001B[0m\u001B[1;34mf\".{extension}\"\u001B[0m\u001B[1;33m)\u001B[0m\u001B[1;33m\u001B[0m\u001B[1;33m\u001B[0m\u001B[0m\n\u001B[1;32m-> 2748\u001B[1;33m         \u001B[0mio\u001B[0m\u001B[1;33m.\u001B[0m\u001B[0msave\u001B[0m\u001B[1;33m(\u001B[0m\u001B[0mfilename\u001B[0m\u001B[1;33m,\u001B[0m \u001B[0mself\u001B[0m\u001B[1;33m,\u001B[0m \u001B[0moverwrite\u001B[0m\u001B[1;33m=\u001B[0m\u001B[0moverwrite\u001B[0m\u001B[1;33m,\u001B[0m \u001B[1;33m**\u001B[0m\u001B[0mkwds\u001B[0m\u001B[1;33m)\u001B[0m\u001B[1;33m\u001B[0m\u001B[1;33m\u001B[0m\u001B[0m\n\u001B[0m\u001B[0;32m   2749\u001B[0m \u001B[1;33m\u001B[0m\u001B[0m\n\u001B[0;32m   2750\u001B[0m     \u001B[1;32mdef\u001B[0m \u001B[0m_replot\u001B[0m\u001B[1;33m(\u001B[0m\u001B[0mself\u001B[0m\u001B[1;33m)\u001B[0m\u001B[1;33m:\u001B[0m\u001B[1;33m\u001B[0m\u001B[1;33m\u001B[0m\u001B[0m\n",
      "\u001B[1;32mC:\\Users\\Sauron\\anaconda3\\envs\\pyxem\\lib\\site-packages\\hyperspy\\io.py\u001B[0m in \u001B[0;36msave\u001B[1;34m(filename, signal, overwrite, **kwds)\u001B[0m\n\u001B[0;32m    754\u001B[0m         \u001B[1;31m# Pass as a string for now, pathlib.Path not\u001B[0m\u001B[1;33m\u001B[0m\u001B[1;33m\u001B[0m\u001B[1;33m\u001B[0m\u001B[0m\n\u001B[0;32m    755\u001B[0m         \u001B[1;31m# properly supported in io_plugins\u001B[0m\u001B[1;33m\u001B[0m\u001B[1;33m\u001B[0m\u001B[1;33m\u001B[0m\u001B[0m\n\u001B[1;32m--> 756\u001B[1;33m         \u001B[0mwriter\u001B[0m\u001B[1;33m.\u001B[0m\u001B[0mfile_writer\u001B[0m\u001B[1;33m(\u001B[0m\u001B[0mstr\u001B[0m\u001B[1;33m(\u001B[0m\u001B[0mfilename\u001B[0m\u001B[1;33m)\u001B[0m\u001B[1;33m,\u001B[0m \u001B[0msignal\u001B[0m\u001B[1;33m,\u001B[0m \u001B[1;33m**\u001B[0m\u001B[0mkwds\u001B[0m\u001B[1;33m)\u001B[0m\u001B[1;33m\u001B[0m\u001B[1;33m\u001B[0m\u001B[0m\n\u001B[0m\u001B[0;32m    757\u001B[0m \u001B[1;33m\u001B[0m\u001B[0m\n\u001B[0;32m    758\u001B[0m         \u001B[0m_logger\u001B[0m\u001B[1;33m.\u001B[0m\u001B[0minfo\u001B[0m\u001B[1;33m(\u001B[0m\u001B[1;34mf'{filename} was created'\u001B[0m\u001B[1;33m)\u001B[0m\u001B[1;33m\u001B[0m\u001B[1;33m\u001B[0m\u001B[0m\n",
      "\u001B[1;32mC:\\Users\\Sauron\\anaconda3\\envs\\pyxem\\lib\\site-packages\\hyperspy\\io_plugins\\hspy.py\u001B[0m in \u001B[0;36mfile_writer\u001B[1;34m(filename, signal, *args, **kwds)\u001B[0m\n\u001B[0;32m    782\u001B[0m             \u001B[0msmd\u001B[0m\u001B[1;33m.\u001B[0m\u001B[0mrecord_by\u001B[0m \u001B[1;33m=\u001B[0m \u001B[1;34m\"\"\u001B[0m\u001B[1;33m\u001B[0m\u001B[1;33m\u001B[0m\u001B[0m\n\u001B[0;32m    783\u001B[0m         \u001B[1;32mtry\u001B[0m\u001B[1;33m:\u001B[0m\u001B[1;33m\u001B[0m\u001B[1;33m\u001B[0m\u001B[0m\n\u001B[1;32m--> 784\u001B[1;33m             \u001B[0mwrite_signal\u001B[0m\u001B[1;33m(\u001B[0m\u001B[0msignal\u001B[0m\u001B[1;33m,\u001B[0m \u001B[0mexpg\u001B[0m\u001B[1;33m,\u001B[0m \u001B[1;33m**\u001B[0m\u001B[0mkwds\u001B[0m\u001B[1;33m)\u001B[0m\u001B[1;33m\u001B[0m\u001B[1;33m\u001B[0m\u001B[0m\n\u001B[0m\u001B[0;32m    785\u001B[0m         \u001B[1;32mexcept\u001B[0m \u001B[0mBaseException\u001B[0m\u001B[1;33m:\u001B[0m\u001B[1;33m\u001B[0m\u001B[1;33m\u001B[0m\u001B[0m\n\u001B[0;32m    786\u001B[0m             \u001B[1;32mraise\u001B[0m\u001B[1;33m\u001B[0m\u001B[1;33m\u001B[0m\u001B[0m\n",
      "\u001B[1;32mC:\\Users\\Sauron\\anaconda3\\envs\\pyxem\\lib\\site-packages\\hyperspy\\io_plugins\\hspy.py\u001B[0m in \u001B[0;36mwrite_signal\u001B[1;34m(signal, group, **kwds)\u001B[0m\n\u001B[0;32m    727\u001B[0m     overwrite_dataset(group, signal.data, 'data',\n\u001B[0;32m    728\u001B[0m                       \u001B[0msignal_axes\u001B[0m\u001B[1;33m=\u001B[0m\u001B[0msignal\u001B[0m\u001B[1;33m.\u001B[0m\u001B[0maxes_manager\u001B[0m\u001B[1;33m.\u001B[0m\u001B[0msignal_indices_in_array\u001B[0m\u001B[1;33m,\u001B[0m\u001B[1;33m\u001B[0m\u001B[1;33m\u001B[0m\u001B[0m\n\u001B[1;32m--> 729\u001B[1;33m                       **kwds)\n\u001B[0m\u001B[0;32m    730\u001B[0m     \u001B[1;32mif\u001B[0m \u001B[0mdefault_version\u001B[0m \u001B[1;33m<\u001B[0m \u001B[0mLooseVersion\u001B[0m\u001B[1;33m(\u001B[0m\u001B[1;34m\"1.2\"\u001B[0m\u001B[1;33m)\u001B[0m\u001B[1;33m:\u001B[0m\u001B[1;33m\u001B[0m\u001B[1;33m\u001B[0m\u001B[0m\n\u001B[0;32m    731\u001B[0m         \u001B[0mmetadata_dict\u001B[0m\u001B[1;33m[\u001B[0m\u001B[1;34m\"_internal_parameters\"\u001B[0m\u001B[1;33m]\u001B[0m \u001B[1;33m=\u001B[0m\u001B[0;31m \u001B[0m\u001B[0;31m\\\u001B[0m\u001B[1;33m\u001B[0m\u001B[1;33m\u001B[0m\u001B[0m\n",
      "\u001B[1;32mC:\\Users\\Sauron\\anaconda3\\envs\\pyxem\\lib\\site-packages\\hyperspy\\io_plugins\\hspy.py\u001B[0m in \u001B[0;36moverwrite_dataset\u001B[1;34m(group, data, key, signal_axes, chunks, **kwds)\u001B[0m\n\u001B[0;32m    598\u001B[0m             \u001B[0mda\u001B[0m\u001B[1;33m.\u001B[0m\u001B[0mstore\u001B[0m\u001B[1;33m(\u001B[0m\u001B[0mdata\u001B[0m\u001B[1;33m.\u001B[0m\u001B[0mrechunk\u001B[0m\u001B[1;33m(\u001B[0m\u001B[0mdset\u001B[0m\u001B[1;33m.\u001B[0m\u001B[0mchunks\u001B[0m\u001B[1;33m)\u001B[0m\u001B[1;33m,\u001B[0m \u001B[0mdset\u001B[0m\u001B[1;33m)\u001B[0m\u001B[1;33m\u001B[0m\u001B[1;33m\u001B[0m\u001B[0m\n\u001B[0;32m    599\u001B[0m         \u001B[1;32melif\u001B[0m \u001B[0mdata\u001B[0m\u001B[1;33m.\u001B[0m\u001B[0mflags\u001B[0m\u001B[1;33m.\u001B[0m\u001B[0mc_contiguous\u001B[0m\u001B[1;33m:\u001B[0m\u001B[1;33m\u001B[0m\u001B[1;33m\u001B[0m\u001B[0m\n\u001B[1;32m--> 600\u001B[1;33m             \u001B[0mdset\u001B[0m\u001B[1;33m.\u001B[0m\u001B[0mwrite_direct\u001B[0m\u001B[1;33m(\u001B[0m\u001B[0mdata\u001B[0m\u001B[1;33m)\u001B[0m\u001B[1;33m\u001B[0m\u001B[1;33m\u001B[0m\u001B[0m\n\u001B[0m\u001B[0;32m    601\u001B[0m         \u001B[1;32melse\u001B[0m\u001B[1;33m:\u001B[0m\u001B[1;33m\u001B[0m\u001B[1;33m\u001B[0m\u001B[0m\n\u001B[0;32m    602\u001B[0m             \u001B[0mdset\u001B[0m\u001B[1;33m[\u001B[0m\u001B[1;33m:\u001B[0m\u001B[1;33m]\u001B[0m \u001B[1;33m=\u001B[0m \u001B[0mdata\u001B[0m\u001B[1;33m\u001B[0m\u001B[1;33m\u001B[0m\u001B[0m\n",
      "\u001B[1;32mC:\\Users\\Sauron\\anaconda3\\envs\\pyxem\\lib\\site-packages\\h5py\\_hl\\dataset.py\u001B[0m in \u001B[0;36mwrite_direct\u001B[1;34m(self, source, source_sel, dest_sel)\u001B[0m\n\u001B[0;32m    756\u001B[0m \u001B[1;33m\u001B[0m\u001B[0m\n\u001B[0;32m    757\u001B[0m             \u001B[1;32mfor\u001B[0m \u001B[0mfspace\u001B[0m \u001B[1;32min\u001B[0m \u001B[0mdest_sel\u001B[0m\u001B[1;33m.\u001B[0m\u001B[0mbroadcast\u001B[0m\u001B[1;33m(\u001B[0m\u001B[0msource_sel\u001B[0m\u001B[1;33m.\u001B[0m\u001B[0mmshape\u001B[0m\u001B[1;33m)\u001B[0m\u001B[1;33m:\u001B[0m\u001B[1;33m\u001B[0m\u001B[1;33m\u001B[0m\u001B[0m\n\u001B[1;32m--> 758\u001B[1;33m                 \u001B[0mself\u001B[0m\u001B[1;33m.\u001B[0m\u001B[0mid\u001B[0m\u001B[1;33m.\u001B[0m\u001B[0mwrite\u001B[0m\u001B[1;33m(\u001B[0m\u001B[0mmspace\u001B[0m\u001B[1;33m,\u001B[0m \u001B[0mfspace\u001B[0m\u001B[1;33m,\u001B[0m \u001B[0msource\u001B[0m\u001B[1;33m,\u001B[0m \u001B[0mdxpl\u001B[0m\u001B[1;33m=\u001B[0m\u001B[0mself\u001B[0m\u001B[1;33m.\u001B[0m\u001B[0m_dxpl\u001B[0m\u001B[1;33m)\u001B[0m\u001B[1;33m\u001B[0m\u001B[1;33m\u001B[0m\u001B[0m\n\u001B[0m\u001B[0;32m    759\u001B[0m \u001B[1;33m\u001B[0m\u001B[0m\n\u001B[0;32m    760\u001B[0m     \u001B[1;33m@\u001B[0m\u001B[0mwith_phil\u001B[0m\u001B[1;33m\u001B[0m\u001B[1;33m\u001B[0m\u001B[0m\n",
      "\u001B[1;31mKeyboardInterrupt\u001B[0m: "
     ]
    }
   ],
   "source": [
    "min_y_image_size = 253\n",
    "date_folder = '20210217'\n",
    "\n",
    "\n",
    "######### Run the predicting\n",
    "for model_path in models:\n",
    "\n",
    "    # Load model\n",
    "    model = tf.keras.models.load_model(model_path)\n",
    "    model_basename = os.path.basename(model_path)[:-3]\n",
    "\n",
    "    if tresholded:\n",
    "        model_name = model_basename + '_tresholded'\n",
    "    else:\n",
    "        model_name = model_basename + '_nontresholded'\n",
    "\n",
    "    signals = []\n",
    "\n",
    "    for i, fname in enumerate(tqdm.tqdm(data)):\n",
    "\n",
    "        exp_npzfile = np.load(fname)\n",
    "        exp_data = exp_npzfile['exp1d']\n",
    "        shape = (exp_data.shape[0] *exp_data.shape[1], exp_data.shape[2], 1)\n",
    "        exp_data_reshape = np.reshape(exp_data, shape)\n",
    "        exp_preds = model.predict(exp_data_reshape)\n",
    "\n",
    "        shape = (exp_data.shape[0], exp_data.shape[1], exp_preds.shape[-1])\n",
    "        exp_pred_reshape = np.reshape(exp_preds, shape)\n",
    "\n",
    "        exp_pred_reshape = np.moveaxis(exp_pred_reshape, -1, 0)\n",
    "        s = hs.signals.Signal2D(exp_pred_reshape)\n",
    "\n",
    "        signals.append(s)\n",
    "\n",
    "        del exp_npzfile\n",
    "        del exp_data\n",
    "        del exp_data_reshape\n",
    "        del exp_preds\n",
    "        del exp_pred_reshape\n",
    "        del s\n",
    "        gc.collect()\n",
    "\n",
    "    # Crop and stack\n",
    "    signals_cropped = [s.isig[:, :min_y_image_size] for s in signals]  ## HARD CODED VALUE!!\n",
    "    signals = hs.stack(signals_cropped)\n",
    "\n",
    "    # Add phases in the metadata\n",
    "    phase_path = model_path[:-3] + '_phases.npy'\n",
    "    phases = np.load(phase_path)\n",
    "    phases = [s for s in phases]\n",
    "    signals.metadata.General.set_item(\"Phases\", phases)\n",
    "\n",
    "\n",
    "    # Save results in 2 folders\n",
    "    def save(signal, name, base_root=base_root, model_path=model_path, date_folder=date_folder):\n",
    "        signal.save(os.path.join(base_root, 'stacked_predictions', date_folder, name), overwrite=True)\n",
    "        signal.save(os.path.join(os.path.dirname(model_path), 'stacked_predictions', name), overwrite=True)\n",
    "\n",
    "    # Save the stack with probabilites\n",
    "    name = 'probability_preditions_' + model_name + '.hspy'\n",
    "    save(signals, name)\n",
    "\n",
    "    # Save the sparse categorical results [1 to 6]\n",
    "    signal_cat = hs.signals.Signal2D(signals.data.argmax(axis=1))\n",
    "    signal_cat.metadata.General.set_item(\"Phases\", phases)\n",
    "    name = 'sparse_categorical_' + model_name + '.hspy'\n",
    "    save(signal_cat, name)\n",
    "\n",
    "    # Save the one-hot encoded categorical results [0,1,...,0]\n",
    "    def cont_to_categorical(continous_ar):\n",
    "        b =  np.zeros_like(continous_ar)\n",
    "        b[np.arange(len(continous_ar)), np.argmax(continous_ar, axis=1)] = 1\n",
    "        return b\n",
    "\n",
    "    signal_cat_expanded = signals.T.map(cont_to_categorical, inplace=False,).T\n",
    "    name = 'onehot_categorical_' + model_name + '.hspy'\n",
    "    save(signal_cat_expanded, name)"
   ]
  },
  {
   "cell_type": "code",
   "execution_count": null,
   "outputs": [],
   "source": [
    "print(signals)"
   ],
   "metadata": {
    "collapsed": false,
    "pycharm": {
     "name": "#%%\n"
    }
   }
  },
  {
   "cell_type": "code",
   "execution_count": null,
   "outputs": [],
   "source": [
    "%matplotlib qt\n",
    "signals.plot(cmap='viridis')\n",
    "signal_cat.plot(cmap='Dark2')\n",
    "signal_cat_expanded.plot()\n"
   ],
   "metadata": {
    "collapsed": false,
    "pycharm": {
     "name": "#%%\n",
     "is_executing": true
    }
   }
  },
  {
   "cell_type": "code",
   "execution_count": null,
   "outputs": [],
   "source": [],
   "metadata": {
    "collapsed": false,
    "pycharm": {
     "name": "#%%\n",
     "is_executing": true
    }
   }
  },
  {
   "cell_type": "code",
   "execution_count": null,
   "outputs": [],
   "source": [],
   "metadata": {
    "collapsed": false,
    "pycharm": {
     "name": "#%%\n",
     "is_executing": true
    }
   }
  }
 ],
 "metadata": {
  "kernelspec": {
   "display_name": "Python 3",
   "language": "python",
   "name": "python3"
  },
  "language_info": {
   "codemirror_mode": {
    "name": "ipython",
    "version": 3
   },
   "file_extension": ".py",
   "mimetype": "text/x-python",
   "name": "python",
   "nbconvert_exporter": "python",
   "pygments_lexer": "ipython3",
   "version": "3.7.9"
  }
 },
 "nbformat": 4,
 "nbformat_minor": 4
}
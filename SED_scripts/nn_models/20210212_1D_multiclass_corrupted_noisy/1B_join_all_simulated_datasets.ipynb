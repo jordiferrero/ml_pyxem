{
 "cells": [
  {
   "cell_type": "markdown",
   "source": [
    "# Join different datasets"
   ],
   "metadata": {
    "collapsed": false
   }
  },
  {
   "cell_type": "code",
   "execution_count": 5,
   "outputs": [],
   "source": [
    "# Packages\n",
    "%matplotlib qt\n",
    "import numpy as np\n",
    "from tempfile import TemporaryFile\n",
    "import os, glob"
   ],
   "metadata": {
    "collapsed": false,
    "pycharm": {
     "name": "#%%\n"
    }
   }
  },
  {
   "cell_type": "code",
   "execution_count": 6,
   "outputs": [
    {
     "data": {
      "text/plain": "['C:\\\\Users\\\\Sauron\\\\Documents\\\\jf631\\\\SED_scripts\\\\nn_models\\\\20210212_1D_multiclass_corrupted_noisy\\\\1D_simulated_data_cal0.0045_6classes_350neuler_domainrand_noisy.npz',\n 'C:\\\\Users\\\\Sauron\\\\Documents\\\\jf631\\\\SED_scripts\\\\nn_models\\\\20210212_1D_multiclass_corrupted_noisy\\\\1D_simulated_data_cal0.0046_6classes_350neuler_domainrand_noisy.npz',\n 'C:\\\\Users\\\\Sauron\\\\Documents\\\\jf631\\\\SED_scripts\\\\nn_models\\\\20210212_1D_multiclass_corrupted_noisy\\\\1D_simulated_data_cal0.0047_6classes_350neuler_domainrand_noisy.npz']"
     },
     "execution_count": 6,
     "metadata": {},
     "output_type": "execute_result"
    }
   ],
   "source": [
    "cwd = os.getcwd()\n",
    "\n",
    "file_extension = '*.npz'\n",
    "\n",
    "files = glob.glob(os.path.join(cwd, file_extension))\n",
    "files"
   ],
   "metadata": {
    "collapsed": false,
    "pycharm": {
     "name": "#%%\n"
    }
   }
  },
  {
   "cell_type": "code",
   "execution_count": 7,
   "outputs": [],
   "source": [
    "xs = []\n",
    "ys = []\n",
    "\n",
    "for f in files:\n",
    "    npz = np.load(f)\n",
    "    x = npz['x']\n",
    "    y = npz['y']\n",
    "    phases = npz['phases']\n",
    "\n",
    "    ys = np.append(ys, y)\n",
    "    try:\n",
    "        xs = np.append(xs, x, axis=0)\n",
    "    except:\n",
    "        xs = x"
   ],
   "metadata": {
    "collapsed": false,
    "pycharm": {
     "name": "#%%\n"
    }
   }
  },
  {
   "cell_type": "code",
   "execution_count": 8,
   "outputs": [
    {
     "data": {
      "text/plain": "((167832, 182), (167832,), 6)"
     },
     "execution_count": 8,
     "metadata": {},
     "output_type": "execute_result"
    }
   ],
   "source": [
    "np.shape(xs), np.shape(ys), len(phases)"
   ],
   "metadata": {
    "collapsed": false,
    "pycharm": {
     "name": "#%%\n"
    }
   }
  },
  {
   "cell_type": "code",
   "execution_count": 9,
   "outputs": [],
   "source": [
    "# Save\n",
    "store_sim_data = TemporaryFile()\n",
    "\n",
    "name = '1D_simulated_data_allCal_{}classes_{}points_domainrand_noisy_all'.format(len(phases), len(ys))\n",
    "np.savez(os.path.join(cwd, name),\n",
    "         x=xs, y=ys, phases=phases)"
   ],
   "metadata": {
    "collapsed": false,
    "pycharm": {
     "name": "#%%\n"
    }
   }
  },
  {
   "cell_type": "code",
   "execution_count": null,
   "outputs": [],
   "source": [],
   "metadata": {
    "collapsed": false,
    "pycharm": {
     "name": "#%%\n"
    }
   }
  }
 ],
 "metadata": {
  "kernelspec": {
   "display_name": "Python 3",
   "language": "python",
   "name": "python3"
  },
  "language_info": {
   "codemirror_mode": {
    "name": "ipython",
    "version": 3
   },
   "file_extension": ".py",
   "mimetype": "text/x-python",
   "name": "python",
   "nbconvert_exporter": "python",
   "pygments_lexer": "ipython3",
   "version": "3.7.9"
  }
 },
 "nbformat": 4,
 "nbformat_minor": 4
}
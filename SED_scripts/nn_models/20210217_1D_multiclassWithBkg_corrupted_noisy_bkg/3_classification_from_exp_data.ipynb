{
 "cells": [
  {
   "cell_type": "markdown",
   "source": [
    "# Predicting phases for experimental dataset"
   ],
   "metadata": {
    "collapsed": false,
    "pycharm": {
     "name": "#%% md\n"
    }
   }
  },
  {
   "cell_type": "code",
   "execution_count": 1,
   "metadata": {},
   "outputs": [
    {
     "name": "stderr",
     "output_type": "stream",
     "text": [
      "WARNING:hyperspy.api:The ipywidgets GUI elements are not available, probably because the hyperspy_gui_ipywidgets package is not installed.\n",
      "WARNING:hyperspy.api:The traitsui GUI elements are not available, probably because the hyperspy_gui_traitsui package is not installed.\n"
     ]
    }
   ],
   "source": [
    "# Import packages\n",
    "%matplotlib inline\n",
    "import tensorflow as tf\n",
    "import numpy as np\n",
    "import os, glob\n",
    "import gc\n",
    "import tqdm\n",
    "import hyperspy.api as hs\n",
    "from tempfile import TemporaryFile"
   ]
  },
  {
   "cell_type": "markdown",
   "metadata": {
    "pycharm": {
     "name": "#%% md\n"
    }
   },
   "source": [
    "## Import list of experimental datafile paths to process\n",
    "If only one file to predict, make it a list `data` of a single path."
   ]
  },
  {
   "cell_type": "code",
   "execution_count": 2,
   "outputs": [
    {
     "data": {
      "text/plain": "['D:\\\\jf631\\\\mg24111-1\\\\20200927_094445_TripCatBeamDam_3p59A2_150kx_10umAp_20cmCL_scan_array_253x255_diff_plane_515x515_centred_thresholded_radial_norm_cropped_sqrt.npz',\n 'D:\\\\jf631\\\\mg24111-1\\\\20200927_101523_TripCatBeamDam_3p59A2_150kx_10umAp_20cmCL_scan_array_254x255_diff_plane_515x515_centred_thresholded_radial_norm_cropped_sqrt.npz',\n 'D:\\\\jf631\\\\mg24111-1\\\\20200927_101748_TripCatBeamDam_3p59A2_150kx_10umAp_20cmCL_scan_array_255x255_diff_plane_515x515_centred_thresholded_radial_norm_cropped_sqrt.npz']"
     },
     "execution_count": 2,
     "metadata": {},
     "output_type": "execute_result"
    }
   ],
   "source": [
    "# Select which experimental dataset you want to predict.\n",
    "\n",
    "file_end = 'cropped_sqrt.npz'\n",
    "#file_end = 'cropped.npz'\n",
    "\n",
    "tresholded = True #False\n",
    "base_root = r\"D:\\jf631\\mg24111-1\"\n",
    "\n",
    "data = []\n",
    "for root, dirs, files in os.walk(base_root):\n",
    "    for file in files:\n",
    "        if tresholded:\n",
    "            if file.endswith(file_end) and 'nonthreshold' not in file:\n",
    "                data.append(os.path.join(root, file))\n",
    "        else:\n",
    "            if file.endswith(file_end) and 'nonthreshold' in file:\n",
    "                data.append(os.path.join(root, file))\n",
    "data.sort()\n",
    "data[:3]"
   ],
   "metadata": {
    "collapsed": false,
    "pycharm": {
     "name": "#%%\n"
    }
   }
  },
  {
   "cell_type": "markdown",
   "source": [
    "## Select a list of models to use to predict\n",
    "If only one model, make it a list `models` of a single path to the model `.h5` file."
   ],
   "metadata": {
    "collapsed": false,
    "pycharm": {
     "name": "#%% md\n"
    }
   }
  },
  {
   "cell_type": "code",
   "execution_count": 3,
   "metadata": {
    "scrolled": true
   },
   "outputs": [
    {
     "name": "stdout",
     "output_type": "stream",
     "text": [
      "1\n"
     ]
    },
    {
     "data": {
      "text/plain": "['C:\\\\Users\\\\Sauron\\\\Documents\\\\jf631\\\\SED_scripts\\\\nn_models\\\\20210217_1D_multiclassWithBkg_corrupted_noisy_bkg\\\\NN_7classes_15epochs_91773Train_ac0.7735_91773Test0.7739.h5']"
     },
     "execution_count": 3,
     "metadata": {},
     "output_type": "execute_result"
    }
   ],
   "source": [
    "# Select which model to use\n",
    "cwd = os.path.abspath(os.getcwd())\n",
    "models = glob.glob(os.path.join(cwd, '*.h5'))\n",
    "models.sort()\n",
    "print(len(models))\n",
    "\n",
    "models"
   ]
  },
  {
   "cell_type": "code",
   "execution_count": 4,
   "metadata": {},
   "outputs": [
    {
     "name": "stderr",
     "output_type": "stream",
     "text": [
      "100%|██████████| 76/76 [06:16<00:00,  4.95s/it]\n"
     ]
    },
    {
     "name": "stdout",
     "output_type": "stream",
     "text": [
      "[########################################] | 100% Completed |  0.1s\n",
      "NN_7classes_15epochs_91773Train_ac0.7735_91773Test0.7739_tresholded.hspy\n"
     ]
    }
   ],
   "source": [
    "min_y_image_size = 253\n",
    "date_folder = '20210217'\n",
    "\n",
    "\n",
    "######### Run the predicting\n",
    "for model_path in models:\n",
    "\n",
    "    # Load model\n",
    "    model = tf.keras.models.load_model(model_path)\n",
    "    model_basename = os.path.basename(model_path)[:-3]\n",
    "\n",
    "    if tresholded:\n",
    "        model_name = model_basename + '_tresholded'\n",
    "    else:\n",
    "        model_name = model_basename + '_nontresholded'\n",
    "\n",
    "    signals = []\n",
    "\n",
    "    for i, fname in enumerate(tqdm.tqdm(data)):\n",
    "\n",
    "        exp_npzfile = np.load(fname)\n",
    "        exp_data = exp_npzfile['exp1d']\n",
    "        shape = (exp_data.shape[0] *exp_data.shape[1], exp_data.shape[2], 1)\n",
    "        exp_data_reshape = np.reshape(exp_data, shape)\n",
    "        exp_preds = model.predict(exp_data_reshape)\n",
    "\n",
    "        shape = (exp_data.shape[0], exp_data.shape[1], exp_preds.shape[-1])\n",
    "        exp_pred_reshape = np.reshape(exp_preds, shape)\n",
    "\n",
    "        exp_pred_reshape = np.moveaxis(exp_pred_reshape, -1, 0)\n",
    "        s = hs.signals.Signal2D(exp_pred_reshape)\n",
    "\n",
    "        signals.append(s)\n",
    "\n",
    "        del exp_npzfile\n",
    "        del exp_data\n",
    "        del exp_data_reshape\n",
    "        del exp_preds\n",
    "        del exp_pred_reshape\n",
    "        del s\n",
    "        gc.collect()\n",
    "\n",
    "    # Crop and stack\n",
    "    signals_cropped = [s.isig[:, :min_y_image_size] for s in signals]  ## HARD CODED VALUE!!\n",
    "    signals = hs.stack(signals_cropped)\n",
    "\n",
    "    # Add phases in the metadata\n",
    "    phase_path = model_path[:-3] + '_phases.npy'\n",
    "    phases = np.load(phase_path)\n",
    "    phases = [s for s in phases]\n",
    "    signals.metadata.General.set_item(\"Phases\", phases)\n",
    "\n",
    "\n",
    "    # Save results in 2 folders\n",
    "    def save(signal, name, base_root=base_root, model_path=model_path, date_folder=date_folder):\n",
    "        signal.save(os.path.join(base_root, 'stacked_predictions', date_folder, name), overwrite=True)\n",
    "        signal.save(os.path.join(os.path.dirname(model_path), 'stacked_predictions', name), overwrite=True)\n",
    "\n",
    "    # Save the stack with probabilites\n",
    "    name = 'probability_preditions_' + model_name + '.hspy'\n",
    "    save(signals, name)\n",
    "\n",
    "    # Save the sparse categorical results [1 to 6]\n",
    "    signal_cat = hs.signals.Signal2D(signals.data.argmax(axis=1))\n",
    "    signal_cat.metadata.General.set_item(\"Phases\", phases)\n",
    "    name = 'sparse_categorical_' + model_name + '.hspy'\n",
    "    save(signal_cat, name)\n",
    "\n",
    "    # Save the one-hot encoded categorical results [0,1,...,0]\n",
    "    def cont_to_categorical(continous_ar):\n",
    "        b =  np.zeros_like(continous_ar)\n",
    "        b[np.arange(len(continous_ar)), np.argmax(continous_ar, axis=1)] = 1\n",
    "        return b\n",
    "\n",
    "    signal_cat_expanded = signals.T.map(cont_to_categorical, inplace=False,).T\n",
    "    name = 'onehot_categorical_' + model_name + '.hspy'\n",
    "    save(signal_cat_expanded, name)"
   ]
  },
  {
   "cell_type": "code",
   "execution_count": 62,
   "outputs": [
    {
     "name": "stdout",
     "output_type": "stream",
     "text": [
      "<Signal2D, title: Stack of , dimensions: (7, 76|255, 253)>\n"
     ]
    }
   ],
   "source": [
    "print(signals)"
   ],
   "metadata": {
    "collapsed": false,
    "pycharm": {
     "name": "#%%\n"
    }
   }
  },
  {
   "cell_type": "code",
   "execution_count": 63,
   "outputs": [],
   "source": [
    "%matplotlib qt\n",
    "signals.plot(cmap='viridis')\n",
    "signal_cat.plot(cmap='Dark2')\n",
    "signal_cat_expanded.plot()\n"
   ],
   "metadata": {
    "collapsed": false,
    "pycharm": {
     "name": "#%%\n"
    }
   }
  },
  {
   "cell_type": "code",
   "execution_count": 64,
   "outputs": [
    {
     "data": {
      "text/plain": "'C:\\\\Users\\\\Sauron\\\\Documents\\\\jf631\\\\SED_scripts\\\\nn_models\\\\20210217_1D_multiclassWithBkg_corrupted_noisy_bkg'"
     },
     "execution_count": 64,
     "metadata": {},
     "output_type": "execute_result"
    }
   ],
   "source": [],
   "metadata": {
    "collapsed": false,
    "pycharm": {
     "name": "#%%\n"
    }
   }
  },
  {
   "cell_type": "code",
   "execution_count": null,
   "outputs": [],
   "source": [],
   "metadata": {
    "collapsed": false,
    "pycharm": {
     "name": "#%%\n"
    }
   }
  }
 ],
 "metadata": {
  "kernelspec": {
   "display_name": "Python 3",
   "language": "python",
   "name": "python3"
  },
  "language_info": {
   "codemirror_mode": {
    "name": "ipython",
    "version": 3
   },
   "file_extension": ".py",
   "mimetype": "text/x-python",
   "name": "python",
   "nbconvert_exporter": "python",
   "pygments_lexer": "ipython3",
   "version": "3.7.9"
  }
 },
 "nbformat": 4,
 "nbformat_minor": 4
}